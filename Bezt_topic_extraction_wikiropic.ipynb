{
  "nbformat": 4,
  "nbformat_minor": 0,
  "metadata": {
    "colab": {
      "provenance": [],
      "authorship_tag": "ABX9TyOlO0bMWOmhxAa/QLL0giVr",
      "include_colab_link": true
    },
    "kernelspec": {
      "name": "python3",
      "display_name": "Python 3"
    },
    "language_info": {
      "name": "python"
    }
  },
  "cells": [
    {
      "cell_type": "markdown",
      "metadata": {
        "id": "view-in-github",
        "colab_type": "text"
      },
      "source": [
        "<a href=\"https://colab.research.google.com/github/fahimku2020/fahimku2020/blob/main/Bezt_topic_extraction_wikiropic.ipynb\" target=\"_parent\"><img src=\"https://colab.research.google.com/assets/colab-badge.svg\" alt=\"Open In Colab\"/></a>"
      ]
    },
    {
      "cell_type": "code",
      "execution_count": null,
      "metadata": {
        "colab": {
          "base_uri": "https://localhost:8080/"
        },
        "id": "fYzOrF63bx5b",
        "outputId": "d7388e45-ab32-4032-8537-760137a514b1"
      },
      "outputs": [
        {
          "output_type": "stream",
          "name": "stdout",
          "text": [
            "Collecting wikitopic\n",
            "  Downloading wikitopic-1.1.1-py3-none-any.whl.metadata (4.7 kB)\n",
            "Requirement already satisfied: nltk in /usr/local/lib/python3.10/dist-packages (from wikitopic) (3.9.1)\n",
            "Collecting wikipedia (from wikitopic)\n",
            "  Downloading wikipedia-1.4.0.tar.gz (27 kB)\n",
            "  Preparing metadata (setup.py) ... \u001b[?25l\u001b[?25hdone\n",
            "Requirement already satisfied: click in /usr/local/lib/python3.10/dist-packages (from nltk->wikitopic) (8.1.7)\n",
            "Requirement already satisfied: joblib in /usr/local/lib/python3.10/dist-packages (from nltk->wikitopic) (1.4.2)\n",
            "Requirement already satisfied: regex>=2021.8.3 in /usr/local/lib/python3.10/dist-packages (from nltk->wikitopic) (2024.11.6)\n",
            "Requirement already satisfied: tqdm in /usr/local/lib/python3.10/dist-packages (from nltk->wikitopic) (4.67.1)\n",
            "Requirement already satisfied: beautifulsoup4 in /usr/local/lib/python3.10/dist-packages (from wikipedia->wikitopic) (4.12.3)\n",
            "Requirement already satisfied: requests<3.0.0,>=2.0.0 in /usr/local/lib/python3.10/dist-packages (from wikipedia->wikitopic) (2.32.3)\n",
            "Requirement already satisfied: charset-normalizer<4,>=2 in /usr/local/lib/python3.10/dist-packages (from requests<3.0.0,>=2.0.0->wikipedia->wikitopic) (3.4.0)\n",
            "Requirement already satisfied: idna<4,>=2.5 in /usr/local/lib/python3.10/dist-packages (from requests<3.0.0,>=2.0.0->wikipedia->wikitopic) (3.10)\n",
            "Requirement already satisfied: urllib3<3,>=1.21.1 in /usr/local/lib/python3.10/dist-packages (from requests<3.0.0,>=2.0.0->wikipedia->wikitopic) (2.2.3)\n",
            "Requirement already satisfied: certifi>=2017.4.17 in /usr/local/lib/python3.10/dist-packages (from requests<3.0.0,>=2.0.0->wikipedia->wikitopic) (2024.12.14)\n",
            "Requirement already satisfied: soupsieve>1.2 in /usr/local/lib/python3.10/dist-packages (from beautifulsoup4->wikipedia->wikitopic) (2.6)\n",
            "Downloading wikitopic-1.1.1-py3-none-any.whl (18 kB)\n",
            "Building wheels for collected packages: wikipedia\n",
            "  Building wheel for wikipedia (setup.py) ... \u001b[?25l\u001b[?25hdone\n",
            "  Created wheel for wikipedia: filename=wikipedia-1.4.0-py3-none-any.whl size=11679 sha256=c756225af8db624f31892d02c771a1bb37eaad5d5d6ed55a9637728c3ac96066\n",
            "  Stored in directory: /root/.cache/pip/wheels/5e/b6/c5/93f3dec388ae76edc830cb42901bb0232504dfc0df02fc50de\n",
            "Successfully built wikipedia\n",
            "Installing collected packages: wikipedia, wikitopic\n",
            "Successfully installed wikipedia-1.4.0 wikitopic-1.1.1\n"
          ]
        }
      ],
      "source": [
        "!pip install wikitopic"
      ]
    },
    {
      "cell_type": "code",
      "source": [
        "!pip install nltk\n",
        "!pip install wikipedia"
      ],
      "metadata": {
        "colab": {
          "base_uri": "https://localhost:8080/"
        },
        "id": "-KLw9oCXb0oT",
        "outputId": "2b4f0406-9b80-4751-8d6b-9fab2278697f"
      },
      "execution_count": null,
      "outputs": [
        {
          "output_type": "stream",
          "name": "stdout",
          "text": [
            "Requirement already satisfied: nltk in /usr/local/lib/python3.10/dist-packages (3.9.1)\n",
            "Requirement already satisfied: click in /usr/local/lib/python3.10/dist-packages (from nltk) (8.1.7)\n",
            "Requirement already satisfied: joblib in /usr/local/lib/python3.10/dist-packages (from nltk) (1.4.2)\n",
            "Requirement already satisfied: regex>=2021.8.3 in /usr/local/lib/python3.10/dist-packages (from nltk) (2024.11.6)\n",
            "Requirement already satisfied: tqdm in /usr/local/lib/python3.10/dist-packages (from nltk) (4.67.1)\n",
            "Requirement already satisfied: wikipedia in /usr/local/lib/python3.10/dist-packages (1.4.0)\n",
            "Requirement already satisfied: beautifulsoup4 in /usr/local/lib/python3.10/dist-packages (from wikipedia) (4.12.3)\n",
            "Requirement already satisfied: requests<3.0.0,>=2.0.0 in /usr/local/lib/python3.10/dist-packages (from wikipedia) (2.32.3)\n",
            "Requirement already satisfied: charset-normalizer<4,>=2 in /usr/local/lib/python3.10/dist-packages (from requests<3.0.0,>=2.0.0->wikipedia) (3.4.0)\n",
            "Requirement already satisfied: idna<4,>=2.5 in /usr/local/lib/python3.10/dist-packages (from requests<3.0.0,>=2.0.0->wikipedia) (3.10)\n",
            "Requirement already satisfied: urllib3<3,>=1.21.1 in /usr/local/lib/python3.10/dist-packages (from requests<3.0.0,>=2.0.0->wikipedia) (2.2.3)\n",
            "Requirement already satisfied: certifi>=2017.4.17 in /usr/local/lib/python3.10/dist-packages (from requests<3.0.0,>=2.0.0->wikipedia) (2024.12.14)\n",
            "Requirement already satisfied: soupsieve>1.2 in /usr/local/lib/python3.10/dist-packages (from beautifulsoup4->wikipedia) (2.6)\n"
          ]
        }
      ]
    },
    {
      "cell_type": "code",
      "source": [
        "!pip install yake"
      ],
      "metadata": {
        "colab": {
          "base_uri": "https://localhost:8080/"
        },
        "id": "Tp2B44OMcNK7",
        "outputId": "1af19915-b20c-44bc-953c-daa705dbcaa7"
      },
      "execution_count": null,
      "outputs": [
        {
          "output_type": "stream",
          "name": "stdout",
          "text": [
            "Collecting yake\n",
            "  Downloading yake-0.4.8-py2.py3-none-any.whl.metadata (4.0 kB)\n",
            "Requirement already satisfied: tabulate in /usr/local/lib/python3.10/dist-packages (from yake) (0.9.0)\n",
            "Requirement already satisfied: click>=6.0 in /usr/local/lib/python3.10/dist-packages (from yake) (8.1.7)\n",
            "Requirement already satisfied: numpy in /usr/local/lib/python3.10/dist-packages (from yake) (1.26.4)\n",
            "Collecting segtok (from yake)\n",
            "  Downloading segtok-1.5.11-py3-none-any.whl.metadata (9.0 kB)\n",
            "Requirement already satisfied: networkx in /usr/local/lib/python3.10/dist-packages (from yake) (3.4.2)\n",
            "Requirement already satisfied: jellyfish in /usr/local/lib/python3.10/dist-packages (from yake) (1.1.0)\n",
            "Requirement already satisfied: regex in /usr/local/lib/python3.10/dist-packages (from segtok->yake) (2024.11.6)\n",
            "Downloading yake-0.4.8-py2.py3-none-any.whl (60 kB)\n",
            "\u001b[2K   \u001b[90m━━━━━━━━━━━━━━━━━━━━━━━━━━━━━━━━━━━━━━━━\u001b[0m \u001b[32m60.2/60.2 kB\u001b[0m \u001b[31m3.4 MB/s\u001b[0m eta \u001b[36m0:00:00\u001b[0m\n",
            "\u001b[?25hDownloading segtok-1.5.11-py3-none-any.whl (24 kB)\n",
            "Installing collected packages: segtok, yake\n",
            "Successfully installed segtok-1.5.11 yake-0.4.8\n"
          ]
        }
      ]
    },
    {
      "cell_type": "code",
      "source": [
        "from yake import KeywordExtractor\n"
      ],
      "metadata": {
        "id": "miZquhpXcUgc"
      },
      "execution_count": null,
      "outputs": []
    },
    {
      "cell_type": "code",
      "source": [
        "import nltk\n",
        "nltk.download('punkt_tab')\n",
        "nltk.download('averaged_perceptron_tagger_eng')\n",
        "nltk.download('wordnet')\n",
        "\n",
        "nltk.download('stopwords')"
      ],
      "metadata": {
        "colab": {
          "base_uri": "https://localhost:8080/"
        },
        "id": "C3MfDKcecgDl",
        "outputId": "4402c2a2-2f48-4e86-927b-fef60836f193"
      },
      "execution_count": null,
      "outputs": [
        {
          "output_type": "stream",
          "name": "stderr",
          "text": [
            "[nltk_data] Downloading package punkt_tab to /root/nltk_data...\n",
            "[nltk_data]   Package punkt_tab is already up-to-date!\n",
            "[nltk_data] Downloading package averaged_perceptron_tagger_eng to\n",
            "[nltk_data]     /root/nltk_data...\n",
            "[nltk_data]   Package averaged_perceptron_tagger_eng is already up-to-\n",
            "[nltk_data]       date!\n",
            "[nltk_data] Downloading package wordnet to /root/nltk_data...\n",
            "[nltk_data]   Package wordnet is already up-to-date!\n",
            "[nltk_data] Downloading package stopwords to /root/nltk_data...\n",
            "[nltk_data]   Unzipping corpora/stopwords.zip.\n"
          ]
        },
        {
          "output_type": "execute_result",
          "data": {
            "text/plain": [
              "True"
            ]
          },
          "metadata": {},
          "execution_count": 13
        }
      ]
    },
    {
      "cell_type": "code",
      "source": [
        "from wikitopic import wikitopic\n",
        "\n",
        "text = \"\"\"\n",
        "Amitabh Bachchan (pronounced [əmɪˈt̪ɑːbʱ ˈbətːʃən] ⓘ; born Amitabh Srivastava;[1] 11 October 1942[7]) is an Indian actor who works in Hindi cinema. He is often considered one of the greatest, most accomplished and commercially successful actors in the history of Indian cinema.[8] With a cinematic career spanning over five decades, he has played pivotal roles in over 200 films. Bachchan is often hailed as the Shahenshah of Bollywood, Sadi Ke Mahanayak (translated as \"Greatest actor of the century\" in Hindi), Star of the Millennium, or simply Big B.[9] His dominance in the Indian film industry during the 1970s–80s led the French director François Truffaut to describe it as a \"one-man industry\".[10] He is a recipient of several accolades including six National Film Awards and sixteen Filmfare Awards.\n",
        "Amitabh Bachchan was born in 1942 in Allahabad (now Prayagraj) to the Hindi poet Harivansh Rai Bachchan and his wife, the social activist Teji Bachchan. He was educated at Sherwood College, Nainital, and Kirori Mal College, University of Delhi. His film career started in 1969 as a voice narrator in Mrinal Sen's film Bhuvan Shome. He first gained popularity in the early-1970s for films, such as Anand, Zanjeer and Roti Kapada Aur Makaan, and achieved greater stardom in later years, being dubbed India's \"Angry Young Man\" for several of his on-screen roles in Hindi films.[11][12] He consistently starred in top–grossing Indian films from the mid-1970s to the 1980s, such as Deewaar, Sholay, Kabhi Kabhie, Hera Pheri, Amar Akbar Anthony, Parvarish, Kasme Vaade, Don, Trishul, Muqaddar Ka Sikandar, Suhaag, Dostana, Naseeb, Laawaris, Namak Halaal, Andhaa Kaanoon, Coolie, Sharaabi and Mard,[13][14] as well as some of his most acclaimed performances, include Namak Haraam, Abhimaan, Majboor, Mili, Chupke Chupke, Do Anjaane, Kaala Patthar, Shaan, Silsila, Yaarana, Kaalia, Shakti, Aakhree Raasta, Shahenshah and Agneepath.[15][16] After taking a break from acting in the 1990s, his resurgence was marked in 2000 with Mohabbatein.[17] Since then he starred in several successful and acclaimed films like Kabhi Khushi Kabhie Gham, Aankhen, Baghban, Khakee, Black, Bunty Aur Babli, Sarkar, Kabhi Alvida Naa Kehna, Bhoothnath, Cheeni Kum, Paa, Piku, Pink, Badla, Brahmāstra: Part One – Shiva and Kalki 2898 AD.[18] For Piku, he won his fourth National Film Award for Best Actor, making him the only actor to do so. Bachchan also made an appearance in a Hollywood film, The Great Gatsby (2013), in which he played a non-Indian Jewish character.[19]\n",
        "\n",
        "Bachchan has won numerous accolades in his career, including record four National Film Awards in Best Actor category and many awards at international film festivals and award ceremonies. He has won sixteen Filmfare Awards and is the most nominated performer in any major acting category at Filmfare with 34 nominations in Best Actor and 42 nominations overall. The Government of India honoured him with the Padma Shri in 1984, the Padma Bhushan in 2001, the Padma Vibhushan in 2015, and India's highest award in the field of cinema, the Dadasaheb Phalke Award in 2018 for his contributions to the arts. The Government of France honoured him with its highest civilian honour, Officer of the Legion of Honour, in 2007 for his exceptional career in the world of cinema and beyond.\n",
        "\n",
        "In addition to acting, Bachchan has worked as a playback singer, film producer, and television presenter. He has hosted several seasons of the game show Kaun Banega Crorepati, India's version of the game show franchise, Who Wants to Be a Millionaire?. He also entered politics for a time in the 1980s. Bachchan has also been involved in several humanitarian works and he is a leading brand endorser in India. Beyond the Indian subcontinent, he acquired a large overseas following of the South Asian diaspora, as well as others, in markets including Africa (South Africa, Eastern Africa, and Mauritius), the Middle East (especially Egypt and the UAE), the United Kingdom, Russia, Central Asia, the Caribbean (Guyana, Suriname, and Trinidad and Tobago), Oceania (Fiji, Australia, and New Zealand), Canada and the United States.[20] Bachchan was voted the \"greatest star of stage or screen\" in the BBC Your Millennium online poll in 1999.[21] In October 2003, Time magazine dubbed Bachchan the \"Star of the Millennium\".[22]\n",
        "\n",
        "Early career (1969–1972)\n",
        "Bachchan made his film debut in 1969, as a voice narrator in Mrinal Sen's National Award–winning film Bhuvan Shome.[45] His first acting role was as one of the seven protagonists in the film Saat Hindustani,[46] directed by Khwaja Ahmad Abbas and featuring Utpal Dutt, Anwar Ali (brother of comedian Mehmood), Madhu and Jalal Agha.[47][48] Anand (1971) followed, in which Bachchan starred alongside Rajesh Khanna. His role as a doctor with a cynical view of life garnered Bachchan his first Filmfare Award for Best Supporting Actor. He then played his first antagonist role as an infatuated lover-turned-murderer in Parwana (1971). Following Parwana were several films, including Reshma Aur Shera (1971). During this time, he made a guest appearance in the film Guddi which starred his future wife Jaya Bhaduri. He narrated part of the film Bawarchi.[49] In 1972, he made an appearance in the road action comedy Bombay to Goa directed by S. Ramanathan which was moderately successful.[50] Many of Bachchan's films during this early period did not do well.[51] His only film with Mala Sinha, Sanjog (1972) was also a box office failure.[52]\n",
        "\n",
        "Rise to prominence (1973–1974)\n",
        "Bachchan was struggling, seen as a \"failed newcomer\" who, by the age of 30, had only two successes (as a lead in Bombay to Goa and a supporting role in Anand).[53] Bachchan was then discovered by screenwriter duo Salim–Javed, consisting of Salim Khan and Javed Akhtar.[54] Salim Khan wrote the story, screenplay and script of Zanjeer (1973), and conceived the \"angry young man\" persona of the lead role. Javed Akhtar came on board as co-writer,[55] and Prakash Mehra, who saw the script as potentially groundbreaking, as the film's director. However, they were struggling to find an actor for the lead \"angry young man\" role; it was turned down by several actors, owing to it going against the \"romantic hero\" image dominant in the industry at the time.[54] Salim-Javed \"saw his talent, which most makers didn't. He was exceptional, a genius actor who was in films that weren't good.\"[56] According to Salim Khan, they \"strongly felt that Amitabh was the ideal casting for Zanjeer\".[54] Salim Khan introduced Bachchan to Prakash Mehra,[55] and Salim-Javed insisted that Bachchan be cast for the role.[54]\n",
        "\n",
        "Zanjeer was a crime film with violent action,[54] in sharp contrast to the romantically themed films that had generally preceded it, and it established Amitabh in a new persona—the \"angry young man\" of Bollywood.[57] He earned his first Filmfare Award nomination for Best Actor, with Filmfare later considering this one of the most iconic performances in Bollywood history.[51] The film was a blockbuster and one of the highest-grossing films of that year, breaking Bachchan's dry spell at the box office and making him a star.[58][59] It was the first of many collaborations between Salim-Javed and Amitabh; the duo wrote many of their subsequent scripts with Bachchan in mind for the lead role, and insisted on him being cast for their later films.[56] Salim Khan also introduced Bachchan to director Manmohan Desai with whom he formed a long and successful association, alongside Prakash Mehra and Yash Chopra.[55]\n",
        "\n",
        "Eventually, Bachchan became one of the most successful leading men of the film industry. His portrayal of the wronged hero fighting a crooked system and circumstances of deprivation in films like Zanjeer, Deewaar, Trishul, Kaala Patthar and Shakti resonated with the masses of the time, especially the youth who harboured a simmering discontent owing to social ills such as poverty, hunger, unemployment, corruption, social inequality and the brutal excesses of The Emergency. This led to Bachchan being dubbed as the \"angry young man\", a journalistic catchphrase that became a metaphor for the dormant rage, frustration, restlessness, sense of rebellion and anti-establishment disposition of an entire generation, prevalent in the 1970s.[60][61][62]\n",
        "\n",
        "The year 1973 was also when he married Jaya, and around this time they appeared in several films together: not only Zanjeer but also subsequent films such as Abhimaan, which was released around the same time after their wedding and was also successful at the box office.[63] Later, he played the role of Vikram, once again along with Rajesh Khanna, in the film Namak Haraam, a social drama directed by Hrishikesh Mukherjee and addressing themes of friendship.[64] The film proved to be a superhit and Bachchan won his second Filmfare Award for Best Supporting Actor for his performance.[65][66] The flow of successes continued for Bachchan in 1974.[67] He began the year with a guest appearance in Dulal Guha's blockbuster social drama film Dost.[68] After this, he starred in Aravind Sen's drama film Kasauti and Narendra Bedi's crime thriller Benaam, both of which ended up as moderate commercial successes. Bachchan's next release was Manoj Kumar's fourth directional venture Roti Kapada Aur Makaan.[69] The film opened to excellent response all over the country, eventually taking top spot at the box office that year and emerging an All Time Blockbuster as well as Bachchan's biggest till that point of time.[70] Before the end of year, he delivered a hit in Ravi Tandon's crime thriller Majboor.[71][72] Written by Salim-Javed, it also had Pran and Parveen Babi in the lead.[73]\n",
        "\n",
        "Superstardom (1975–1988)\n",
        "In 1975, Bachchan starred in a variety of film genres, from the comedy Chupke Chupke and the crime drama Faraar to the romantic drama Mili.[74] This was also the year in which he starred in two films regarded as important in Hindi cinema history, both written by Salim-Javed, who again insisted on casting Bachchan.[56] The first was Deewaar, directed by Yash Chopra, where he worked with Shashi Kapoor, Nirupa Roy, Parveen Babi, and Neetu Singh. The film emerged a blockbuster at the box office and earned him another Filmfare nomination for Best Actor.[75] Indiatimes ranks Deewaar among the Top 25 Must See Bollywood Films.[76] The other, released on 15 August 1975, was Sholay, which became the highest-grossing film ever in India at the time,[77] in which Bachchan played the role of Jaidev. Deewaar and Sholay are often credited with exalting Bachchan to the heights of superstardom, two years after he became a star with Zanjeer, and consolidating his domination of the industry throughout the 1970s and 1980s.[78][79] In 1999, BBC India declared Sholay the \"Film of the Millennium\" and, like Deewaar, it has been cited by Indiatimes Movies as among the Top 25 Must See Bollywood Films.[76] In that same year, the judges of the 50th annual Filmfare Awards awarded it with the special distinction award called the Filmfare Best Film of 50 Years.\n",
        "\n",
        "\n",
        "Bachchan and Dharmendra starrer Sholay (1975) recorded an estimated ₹15-18 crore footfalls, making it the highest grossing Indian film in terms of audience attendance to date.[80]\n",
        "In 1976, he was cast by Yash Chopra in the romantic musical Kabhi Kabhie.[81] Bachchan starred as a young poet, Amit Malhotra, who falls deeply in love with a beautiful young girl named Pooja (Rakhee Gulzar) who ends up marrying someone else (Shashi Kapoor). The film was notable for portraying Bachchan as a romantic hero, a far cry from his \"angry young man\" roles like Zanjeer and Deewaar. Despite its heavy theme, Kabhi Kabhie went on to become a superhit.[82] Its soundtrack composed by Khayyam and lyrics written by Sahir Ludhianvi dominated the year-end annual list of Binaca Geetmala and was one of the best-selling Hindi film albums of the 1970s.[83] Bachchan was again nominated for the Filmfare Best Actor Award for his role in the film. That same year, he played a double role in another hit Adalat as father and son. In 1977, he won his first Filmfare Best Actor Award for his performance in Amar Akbar Anthony, in which he played the third lead opposite Vinod Khanna and Rishi Kapoor as Anthony Gonsalves. The film was the highest-grossing film of that year. His other major hits that year include Parvarish and Khoon Pasina.[84]\n",
        "\n",
        "He once again resumed double roles in films such as Kasme Vaade (1978) as Amit and Shankar and Don (1978) playing the characters of Don, a leader of an underworld gang and his look-alike Vijay. His performance won him his second Filmfare Best Actor Award. He also gave towering performances in Yash Chopra's Trishul and Prakash Mehra's Muqaddar Ka Sikandar both of which earned him further Filmfare Best Actor nominations. 1978 is arguably considered his most successful year at the box office since all of his six releases in the same year, namely Muqaddar Ka Sikandar, Trishul, Don, Kasme Vaade, Ganga Ki Saugandh and Besharam were box office successes, with the former three being the consecutive highest-grossing films of the year, a rare feat in Hindi cinema.[85][86]\n",
        "\n",
        "In 1979, Bachchan starred in Suhaag which was the highest-earning film of that year.[87] In the same year, he also enjoyed critical acclaim and commercial success with films like Jurmana, Mr. Natwarlal and Kaala Patthar.[88] He was required to use his singing voice for the first time in a song from the film Mr. Natwarlal in which he starred with Rekha. Bachchan's performance in the film saw him nominated for both the Filmfare Award for Best Actor and the Filmfare Award for Best Male Playback Singer. He also received a Best Actor nomination for Kaala Patthar and then went on to be nominated again in 1980 for the Raj Khosla directed superhit film Dostana, in which he starred opposite Shatrughan Sinha and Zeenat Aman.[89] In 1981, he starred in Yash Chopra's melodrama film Silsila, where he starred alongside his wife Jaya Bachchan and also Rekha.[90] Other successful films of this period include Ram Balram (1980), Shaan (1980), Naseeb (1981), Lawaaris (1981), Kaalia (1981), Yaarana (1981), Barsaat Ki Ek Raat (1981) and Shakti (1982), also starring Dilip Kumar.[91][92]\n",
        "\n",
        "In 1982, he played double roles in the musical Satte Pe Satta and action drama Desh Premee which succeeded at the box office along with highly successful ventures like action comedy Namak Halaal, action drama Khud-Daar and the critically acclaimed drama Bemisal.[93] On 26 July 1982, while filming a fight scene with co-actor Puneet Issar for Coolie, Bachchan had a near-fatal intestinal injury.[94] Bachchan was performing his stunts in the film and one scene required him to fall onto a table and then on the ground. However, as he jumped towards the table, the corner of the table struck his abdomen, resulting in a splenic rupture from which he lost a significant amount of blood. He required an emergency splenectomy and remained critically ill in the hospital for many months, at times close to death. There were long queues of well-wishing fans outside the hospital where he was recuperating; the public response included prayers in places of worship and offers to sacrifice limbs to save him.[95] Nevertheless, he resumed filming later that year after a long period of recuperation. The director, Manmohan Desai, altered the ending of Coolie: Bachchan's character was originally intended to have been killed off; but, after the change of script, the character lived in the end. Desai felt it would have been inappropriate for the man who had just fended off death in real life to be killed on screen. The footage of the fight scene is frozen at the critical moment, and a caption appears onscreen marking it as the instant of the actor's injury.[96] The film was released in 1983, and partly due to the huge publicity of Bachchan's accident, it emerged an All Time Blockbuster and top-grossing film of the year.[97] He then played a triple role in S. Ramanathan's action drama Mahaan, which proved to be a flop.[98] Other releases that year, Nastik and Pukar were average fares, but Andhaa Kaanoon (in which he had a small role) was a blockbuster.[98][99] During a stint in politics from 1984 to 1987, five of his completed films were released, out of which, Manmohan Desai's action film Mard (1985) went on to become a massive blockbuster, followed by superhits, Sharaabi (1984) and Geraftaar (1985), a hit film, Aakhree Raasta (1986) and a moderate success in Inquilaab (1984) to go with the major commercial successes.[100][101] After a three-year stint in politics from 1984 to 1987, Bachchan returned to films in 1988, playing the title role in Tinnu Anand's vigilante action film Shahenshah, which opened to bumper response all over the nation and emerged a huge hit as well as the second highest-grossing film of the year.[102][103]\n",
        "\n",
        "\n",
        "\n",
        "\"\"\"\n",
        "print(wikitopic.WikiTopicExtractor(text))"
      ],
      "metadata": {
        "colab": {
          "base_uri": "https://localhost:8080/"
        },
        "id": "_zL_5GIub0dY",
        "outputId": "db4f0956-4074-4582-d8cc-2744c4b251ab"
      },
      "execution_count": 16,
      "outputs": [
        {
          "output_type": "stream",
          "name": "stdout",
          "text": [
            "Best topic extracted for the document is: Cinema of India\n",
            "Path to the topic is:\n",
            "['No Topic', 'Film', 'Abhishek Bachchan', 'Jaya Bachchan', 'Amitabh Bachchan', 'Deewaar', 'Amitabh Bachchan', 'Cinema of India']\n",
            "5 most important keywords in the document are: \n",
            "['film', 'bachchan', 'actor', 'year', 'role']\n"
          ]
        }
      ]
    },
    {
      "cell_type": "code",
      "source": [
        "text = \"\"\"\n",
        "Pakistan,[e] officially the Islamic Republic of Pakistan,[f] is a country in South Asia. It is the fifth-most populous country, with a population of over 241.5 million,[g] having the second-largest Muslim population as of 2023. Islamabad is the nation's capital, while Karachi is its largest city and financial centre. Pakistan is the 33rd-largest country by area. Bounded by the Arabian Sea on the south, the Gulf of Oman on the southwest, and the Sir Creek on the southeast, it shares land borders with India to the east; Afghanistan to the west; Iran to the southwest; and China to the northeast. It shares a maritime border with Oman in the Gulf of Oman, and is separated from Tajikistan in the northwest by Afghanistan's narrow Wakhan Corridor.\n",
        "Pakistan is the site of several ancient cultures, including the 8,500-year-old Neolithic site of Mehrgarh in Balochistan, the Indus Valley Civilisation of the Bronze Age,[10] and the ancient Gandhara civilisation.[11] The regions that compose the modern state of Pakistan were the realm of multiple empires and dynasties, including the Gandhāra, the Achaemenid, the Maurya, the Kushan, the Parthian, the Paratarajas, the Gupta;[12] the Umayyad Caliphate in its southern regions, the Hindu Shahis, the Ghaznavids, the Delhi Sultanate, the Samma, the Shah Miris, the Mughals,[13] the Durranis, the Sikhs and most recently, the British Raj from 1858 to 1947.\n",
        "\n",
        "Spurred by the Pakistan Movement, which sought a homeland for the Muslims of British India, and election victories in 1946 by the All-India Muslim League, Pakistan gained independence in 1947 after the Partition of the British Indian Empire, which awarded separate statehood to its Muslim-majority regions and was accompanied by an unparalleled mass migration and loss of life.[14][15] Initially a Dominion of the British Commonwealth, Pakistan officially drafted its constitution in 1956, and emerged as a declared Islamic republic. In 1971, the exclave of East Pakistan seceded as the new country of Bangladesh after a nine-month-long civil war. In the following four decades, Pakistan has been ruled by governments whose descriptions, although complex, commonly alternated between civilian and military, democratic and authoritarian, relatively secular and Islamist.[16]\n",
        "\n",
        "Pakistan is considered a middle power nation,[17][h] with the world's sixth-largest standing armed forces. It is a declared nuclear-weapons state, and is ranked amongst the emerging and growth-leading economies,[18] with a large and rapidly growing middle class.[19][20] Pakistan's political history since independence has been characterized by periods of significant economic and military growth as well as those of political and economic instability. It is an ethnically and linguistically diverse country, with similarly diverse geography and wildlife. The country continues to face challenges, including poverty, illiteracy, corruption, and terrorism.[21][22][23] Pakistan is a member of the United Nations, the Shanghai Cooperation Organisation, the Organisation of Islamic Cooperation, the Commonwealth of Nations, the South Asian Association for Regional Cooperation, and the Islamic Military Counter-Terrorism Coalition, and is designated as a major non-NATO ally by the United States.\n",
        "\n",
        "into a single political unit.[256] Keith Callard observed that Pakistanis believed in the essential unity of purpose and outlook in the Muslim world, expecting similar views on religion and nationality from Muslims worldwide.[257]\n",
        "\n",
        "\n",
        "Eid Prayers at the Badshahi Mosque in Lahore\n",
        "Pakistan's desire for a united Islamic bloc, called Islamistan, wasn't supported by other Muslim governments,[258] though figures like the Grand Mufti of Palestine, Al-Haj Amin al-Husseini, and leaders of the Muslim Brotherhood were drawn to the country. Pakistan's desire for an international organization of Muslim countries was fulfilled in the 1970s when the Organization of Islamic Conference (OIC) was formed.[259] East Pakistan's Bengali Muslims, opposed to an Islamist state, clashed with West Pakistanis who leaned towards Islamic identity.[260][261] The Islamist party Jamaat-e-Islami backed an Islamic state and opposed Bengali nationalism.[262]\n",
        "\n",
        "After the 1970 general elections, the Parliament crafted the 1973 Constitution.[263] It declared Pakistan an Islamic Republic, with Islam as the state religion, and mandated laws to comply with Islamic teachings laid down in the Quran and Sunnah and that no law repugnant to such injunctions could be enacted.[264] Additionally, it established institutions like the Shariat Court and the Council of Islamic Ideology to interpret and apply Islam.[265]\n",
        "\n",
        "Zulfikar Ali Bhutto faced opposition under the banner of Nizam-e-Mustafa (\"Rule of the Prophet\"),[266] advocating an Islamic state. Bhutto conceded to some Islamist demands before being ousted in a coup.[267]\n",
        "\n",
        "General Zia-ul-Haq, after seizing power, committed to establishing an Islamic state and enforcing sharia law.[267] He instituted Shariat judicial courts,[268] and court benches,[269][270] to adjudicate using Islamic doctrine.[271] Zia aligned with Deobandi institutions,[272] exacerbating sectarian tensions with anti-Shia policies.[273]\n",
        "\n",
        "Most Pakistanis, according to a Pew Research Center (PEW) poll, favor Sharia law as the official law,[274] and 94 percent of them identify more with religion than nationality compared to Muslims in other nations.[275]\n",
        "\n",
        "\n",
        "\n",
        "\"\"\""
      ],
      "metadata": {
        "id": "dsBrTcFGeW40"
      },
      "execution_count": 19,
      "outputs": []
    },
    {
      "cell_type": "markdown",
      "source": [],
      "metadata": {
        "id": "LW-uL6hCeWi-"
      }
    },
    {
      "cell_type": "code",
      "source": [
        "w = wikitopic.WikiTopicExtractor(text, 20) #10 for top 10 frequent words\n",
        "result = w.output_topic()\n",
        "\n",
        "print(\"Best matched topic is: \", result[0])\n",
        "print(\"From general to specific topic: \", result[1])\n",
        "print(\"Top 10 frequent words\", result[2])"
      ],
      "metadata": {
        "id": "hHSYo5GSb0Ru",
        "colab": {
          "base_uri": "https://localhost:8080/"
        },
        "outputId": "94ed9aa9-d08b-434b-c7e3-4dc948ceba23"
      },
      "execution_count": 21,
      "outputs": [
        {
          "output_type": "stream",
          "name": "stdout",
          "text": [
            "Best matched topic is:  Pakistan\n",
            "From general to specific topic:  ['No Topic', 'Pakistan', 'Islam in Pakistan', 'Pakistan', 'Islam in Pakistan', 'Islam in the United Kingdom', 'Islam in Pakistan', 'Islam in India', 'Islam in Pakistan', 'Pakistan', 'Islamic State', 'Pakistan']\n",
            "Top 10 frequent words ['pakistan', 'islamic', 'country', 'state', 'muslim', 'law', 'british', 'islamist', 'republic', 'muslims', 'oman', 'east', 'religion', 'south', 'largest', 'india', 'include', 'region', 'military', 'political']\n"
          ]
        }
      ]
    },
    {
      "cell_type": "code",
      "source": [],
      "metadata": {
        "id": "MAKWLkS4b0B9"
      },
      "execution_count": null,
      "outputs": []
    }
  ]
}