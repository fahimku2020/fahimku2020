{
  "nbformat": 4,
  "nbformat_minor": 0,
  "metadata": {
    "colab": {
      "provenance": [],
      "authorship_tag": "ABX9TyPf0Zy/rrn9lTyyMLea/+OS",
      "include_colab_link": true
    },
    "kernelspec": {
      "name": "python3",
      "display_name": "Python 3"
    },
    "language_info": {
      "name": "python"
    }
  },
  "cells": [
    {
      "cell_type": "markdown",
      "metadata": {
        "id": "view-in-github",
        "colab_type": "text"
      },
      "source": [
        "<a href=\"https://colab.research.google.com/github/fahimku2020/fahimku2020/blob/main/Best_relationship_betweentwo_topic_of_wikipedia_by_pywikigraph.ipynb\" target=\"_parent\"><img src=\"https://colab.research.google.com/assets/colab-badge.svg\" alt=\"Open In Colab\"/></a>"
      ]
    },
    {
      "cell_type": "code",
      "source": [],
      "metadata": {
        "id": "cqAeV7_nO6uc"
      },
      "execution_count": null,
      "outputs": []
    },
    {
      "cell_type": "markdown",
      "source": [],
      "metadata": {
        "id": "TNgn9Rb0Jwho"
      }
    },
    {
      "cell_type": "markdown",
      "source": [
        "                                  pywikigraph\n",
        "\n",
        "pywikigraph helps you determine the relationship between any two wikipedia articles, bold or italic terms. It tells you how closely they are connected to other (degree of separation) and also the exact shortest paths between them. You have the option to specify whether you want to use a directed graph or an undirected graph."
      ],
      "metadata": {
        "id": "bJ7_AsIuO0zs"
      }
    },
    {
      "cell_type": "code",
      "source": [
        "!pip install pywikigraph"
      ],
      "metadata": {
        "colab": {
          "base_uri": "https://localhost:8080/"
        },
        "id": "0aXImzTILipb",
        "outputId": "373b2b2e-819b-44dc-fd3a-6763b8ad069f"
      },
      "execution_count": null,
      "outputs": [
        {
          "output_type": "stream",
          "name": "stdout",
          "text": [
            "Collecting pywikigraph\n",
            "  Downloading pywikigraph-0.0.2-py3-none-any.whl.metadata (4.4 kB)\n",
            "Requirement already satisfied: scipy in /usr/local/lib/python3.10/dist-packages (from pywikigraph) (1.13.1)\n",
            "Requirement already satisfied: numpy<2.3,>=1.22.4 in /usr/local/lib/python3.10/dist-packages (from scipy->pywikigraph) (1.26.4)\n",
            "Downloading pywikigraph-0.0.2-py3-none-any.whl (8.0 kB)\n",
            "Installing collected packages: pywikigraph\n",
            "Successfully installed pywikigraph-0.0.2\n"
          ]
        }
      ]
    },
    {
      "cell_type": "code",
      "source": [
        "from pywikigraph import WikiGraph\n",
        "wg = WikiGraph()"
      ],
      "metadata": {
        "id": "nfrKXVxfLifg"
      },
      "execution_count": null,
      "outputs": []
    },
    {
      "cell_type": "code",
      "source": [
        "paths = wg.get_shortest_paths_info('Backpropagation', 'Data Science')\n",
        "paths"
      ],
      "metadata": {
        "colab": {
          "base_uri": "https://localhost:8080/"
        },
        "id": "VRiAbjSILiVK",
        "outputId": "7bf7615f-5c29-487e-cb56-1e50840eaa06"
      },
      "execution_count": null,
      "outputs": [
        {
          "output_type": "stream",
          "name": "stdout",
          "text": [
            "Downloading index.pkl... (may take several minutes as it is 1 GB)\n",
            "Loading /root/.pywikigraph/index.pkl to memory...\n",
            "Downloading wikigraph_directed_csr.npz... (may take several minutes as it is 680 MBs)\n",
            "Loading /root/.pywikigraph/wikigraph_directed_csr.npz to memory...\n"
          ]
        },
        {
          "output_type": "execute_result",
          "data": {
            "text/plain": [
              "(2, 1, [['backpropagation', 'machine learning', 'data science']])"
            ]
          },
          "metadata": {},
          "execution_count": 13
        }
      ]
    },
    {
      "cell_type": "markdown",
      "source": [
        "                                    output\n",
        "First element of tuple indicates degree of separation\n",
        "Second element of tuple indicates number of shortest paths\n",
        "Third element of tuple is a list of exact paths\n"
      ],
      "metadata": {
        "id": "01oECufwPG58"
      }
    },
    {
      "cell_type": "markdown",
      "source": [
        "If you don't care about directionality of the connections, then you can use set directed argument to False:"
      ],
      "metadata": {
        "id": "WMCJAsCYPTze"
      }
    },
    {
      "cell_type": "code",
      "source": [
        "paths_info = wg.get_shortest_paths_info('activation function' , 'deep learning' , directed=False  )\n",
        "paths_info"
      ],
      "metadata": {
        "colab": {
          "base_uri": "https://localhost:8080/"
        },
        "id": "eNr1xSEOMnXA",
        "outputId": "acecc01c-b771-4402-a1ce-355606776cd9"
      },
      "execution_count": null,
      "outputs": [
        {
          "output_type": "execute_result",
          "data": {
            "text/plain": [
              "(2,\n",
              " 3,\n",
              " [['activation function', 'artificial neural network', 'deep learning'],\n",
              "  ['activation function', 'neural networks', 'deep learning'],\n",
              "  ['activation function', 'rectifier (neural networks)', 'deep learning']])"
            ]
          },
          "metadata": {},
          "execution_count": 33
        }
      ]
    },
    {
      "cell_type": "code",
      "source": [],
      "metadata": {
        "id": "hQxSG856MnIp"
      },
      "execution_count": null,
      "outputs": []
    },
    {
      "cell_type": "code",
      "source": [],
      "metadata": {
        "id": "jMCSZmsZMm6V"
      },
      "execution_count": null,
      "outputs": []
    },
    {
      "cell_type": "markdown",
      "source": [],
      "metadata": {
        "id": "9ctqToHFMmqP"
      }
    },
    {
      "cell_type": "markdown",
      "source": [],
      "metadata": {
        "id": "_jM-0QltLiH_"
      }
    }
  ]
}