{
  "nbformat": 4,
  "nbformat_minor": 0,
  "metadata": {
    "colab": {
      "provenance": [],
      "authorship_tag": "ABX9TyM8TKniOIlkyq/GwYM0i4cv",
      "include_colab_link": true
    },
    "kernelspec": {
      "name": "python3",
      "display_name": "Python 3"
    },
    "language_info": {
      "name": "python"
    }
  },
  "cells": [
    {
      "cell_type": "markdown",
      "metadata": {
        "id": "view-in-github",
        "colab_type": "text"
      },
      "source": [
        "<a href=\"https://colab.research.google.com/github/fahimku2020/fahimku2020/blob/main/Local_text_summarizer.ipynb\" target=\"_parent\"><img src=\"https://colab.research.google.com/assets/colab-badge.svg\" alt=\"Open In Colab\"/></a>"
      ]
    },
    {
      "cell_type": "code",
      "execution_count": 1,
      "metadata": {
        "colab": {
          "base_uri": "https://localhost:8080/"
        },
        "id": "77IXYfXl_hCV",
        "outputId": "31c8ed16-335d-4853-ba0d-a5dfd568303d"
      },
      "outputs": [
        {
          "output_type": "stream",
          "name": "stdout",
          "text": [
            "Collecting local-text-summarizer\n",
            "  Downloading local_text_summarizer-0.2-py3-none-any.whl.metadata (3.2 kB)\n",
            "Requirement already satisfied: nltk in /usr/local/lib/python3.10/dist-packages (from local-text-summarizer) (3.9.1)\n",
            "Requirement already satisfied: click in /usr/local/lib/python3.10/dist-packages (from nltk->local-text-summarizer) (8.1.7)\n",
            "Requirement already satisfied: joblib in /usr/local/lib/python3.10/dist-packages (from nltk->local-text-summarizer) (1.4.2)\n",
            "Requirement already satisfied: regex>=2021.8.3 in /usr/local/lib/python3.10/dist-packages (from nltk->local-text-summarizer) (2024.11.6)\n",
            "Requirement already satisfied: tqdm in /usr/local/lib/python3.10/dist-packages (from nltk->local-text-summarizer) (4.67.1)\n",
            "Downloading local_text_summarizer-0.2-py3-none-any.whl (5.3 kB)\n",
            "Installing collected packages: local-text-summarizer\n",
            "Successfully installed local-text-summarizer-0.2\n"
          ]
        }
      ],
      "source": [
        "!pip install local-text-summarizer"
      ]
    },
    {
      "cell_type": "code",
      "source": [
        "import nltk\n",
        "nltk.download('punkt_tab')"
      ],
      "metadata": {
        "colab": {
          "base_uri": "https://localhost:8080/"
        },
        "id": "ckM0eRL9_0Ed",
        "outputId": "67f369c5-f48e-4265-c8a8-886619395e83"
      },
      "execution_count": 3,
      "outputs": [
        {
          "output_type": "stream",
          "name": "stderr",
          "text": [
            "[nltk_data] Downloading package punkt_tab to /root/nltk_data...\n",
            "[nltk_data]   Unzipping tokenizers/punkt_tab.zip.\n"
          ]
        },
        {
          "output_type": "execute_result",
          "data": {
            "text/plain": [
              "True"
            ]
          },
          "metadata": {},
          "execution_count": 3
        }
      ]
    },
    {
      "cell_type": "code",
      "source": [
        "from local_text_summarizer import condense_story\n",
        "\n",
        "text = \"\"\"\n",
        "**The Little Boat's Big Adventure**\n",
        "\n",
        "Once upon a time, in a small marina, there was a little boat named Luna. Luna was a sturdy sailboat with a white hull and a bright blue sail. She had been sitting in the marina for a while, waiting for her next adventure.\n",
        "\n",
        "One day, a young couple, Alex and Maddie, came to the marina looking for a boat to rent. They had always dreamed of sailing around the world, but for now, they were just looking for a day trip. As they walked down the dock, they noticed Luna, and their eyes lit up. \"She's perfect!\" Alex exclaimed. Maddie nodded in agreement. \"Let's take her out!\"\n",
        "\n",
        "The marina owner, a grizzled old sailor named Jack, helped them prepare Luna for the trip. He showed them the ropes, literally, and gave them a quick sailing lesson. As they set off into the open water, Luna felt the wind in her sail and the sun on her deck. She was finally free!\n",
        "\n",
        "Alex and Maddie laughed and chatted as they sailed across the bay, taking in the sights and sounds of the ocean. As they approached a small island, they decided to drop anchor and explore. Luna bobbed gently in the water as they swam ashore and discovered a hidden cove, teeming with sea life.\n",
        "\n",
        "As the day drew to a close, Alex and Maddie reluctantly climbed back on board. As they sailed back to the marina, Luna felt grateful for the adventure she had shared with the young couple. She knew she would always be ready for the next big adventure that came her way.\n",
        "\n",
        "From that day on, Luna became the go-to boat for many more exciting journeys, and her legend grew as the little boat with a big heart and a love for the open sea.\n",
        "\"\"\"\n",
        "\n",
        "# Summarize the text\n",
        "summary = condense_story(text, ratio=0.3)\n",
        "print(\"Summary:\")\n",
        "print(summary)\n"
      ],
      "metadata": {
        "colab": {
          "base_uri": "https://localhost:8080/"
        },
        "id": "AKkk06l8_nAN",
        "outputId": "38ad589d-5100-4d64-d88b-f4a8f10aba60"
      },
      "execution_count": 4,
      "outputs": [
        {
          "output_type": "stream",
          "name": "stdout",
          "text": [
            "From that day on, Luna became the go-to boat for many more exciting journeys, and her legend grew as the little boat with a big heart and a love for the open sea. Alex and Maddie laughed and chatted as they sailed across the bay, taking in the sights and sounds of the ocean. As they sailed back to the marina, Luna felt grateful for the adventure she had shared with the young couple. As they set off into the open water, Luna felt the wind in her sail and the sun on her deck. \n",
            "**The Little Boat's Big Adventure**\n",
            "\n",
            "Once upon a time, in a small marina, there was a little boat named Luna. One day, a young couple, Alex and Maddie, came to the marina looking for a boat to rent.\n",
            "Summary:\n",
            "From that day on, Luna became the go-to boat for many more exciting journeys, and her legend grew as the little boat with a big heart and a love for the open sea. Alex and Maddie laughed and chatted as they sailed across the bay, taking in the sights and sounds of the ocean. As they sailed back to the marina, Luna felt grateful for the adventure she had shared with the young couple. As they set off into the open water, Luna felt the wind in her sail and the sun on her deck. \n",
            "**The Little Boat's Big Adventure**\n",
            "\n",
            "Once upon a time, in a small marina, there was a little boat named Luna. One day, a young couple, Alex and Maddie, came to the marina looking for a boat to rent.\n"
          ]
        }
      ]
    }
  ]
}