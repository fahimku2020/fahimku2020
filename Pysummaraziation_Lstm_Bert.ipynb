{
  "cells": [
    {
      "cell_type": "markdown",
      "metadata": {
        "id": "view-in-github",
        "colab_type": "text"
      },
      "source": [
        "<a href=\"https://colab.research.google.com/github/fahimku2020/fahimku2020/blob/main/Pysummaraziation_Lstm_Bert.ipynb\" target=\"_parent\"><img src=\"https://colab.research.google.com/assets/colab-badge.svg\" alt=\"Open In Colab\"/></a>"
      ]
    },
    {
      "cell_type": "markdown",
      "metadata": {
        "id": "-fJTMQM1Tar-"
      },
      "source": []
    },
    {
      "cell_type": "code",
      "execution_count": 9,
      "metadata": {
        "colab": {
          "base_uri": "https://localhost:8080/"
        },
        "id": "uQ22zLMOYywv",
        "outputId": "90f6e23c-ce93-4f2e-cac3-f5048d0f4ca1"
      },
      "outputs": [
        {
          "output_type": "stream",
          "name": "stdout",
          "text": [
            "Collecting pysummarization\n",
            "  Downloading pysummarization-1.1.9.tar.gz (64 kB)\n",
            "\u001b[?25l     \u001b[90m━━━━━━━━━━━━━━━━━━━━━━━━━━━━━━━━━━━━━━━━\u001b[0m \u001b[32m0.0/64.2 kB\u001b[0m \u001b[31m?\u001b[0m eta \u001b[36m-:--:--\u001b[0m\r\u001b[2K     \u001b[90m━━━━━━━━━━━━━━━━━━━━━━━━━━━━━━━━━━━━━━━━\u001b[0m \u001b[32m64.2/64.2 kB\u001b[0m \u001b[31m1.7 MB/s\u001b[0m eta \u001b[36m0:00:00\u001b[0m\n",
            "\u001b[?25h  Preparing metadata (setup.py) ... \u001b[?25l\u001b[?25hdone\n",
            "Requirement already satisfied: numpy in /usr/local/lib/python3.10/dist-packages (from pysummarization) (1.23.5)\n",
            "Requirement already satisfied: nltk in /usr/local/lib/python3.10/dist-packages (from pysummarization) (3.9.1)\n",
            "Requirement already satisfied: click in /usr/local/lib/python3.10/dist-packages (from nltk->pysummarization) (8.1.7)\n",
            "Requirement already satisfied: joblib in /usr/local/lib/python3.10/dist-packages (from nltk->pysummarization) (1.4.2)\n",
            "Requirement already satisfied: regex>=2021.8.3 in /usr/local/lib/python3.10/dist-packages (from nltk->pysummarization) (2024.5.15)\n",
            "Requirement already satisfied: tqdm in /usr/local/lib/python3.10/dist-packages (from nltk->pysummarization) (4.66.4)\n",
            "Building wheels for collected packages: pysummarization\n",
            "  Building wheel for pysummarization (setup.py) ... \u001b[?25l\u001b[?25hdone\n",
            "  Created wheel for pysummarization: filename=pysummarization-1.1.9-py3-none-any.whl size=82362 sha256=baea4e46610306f9adbbb7cb3628df0f7ba5a1effc227c4216cdb4466e60c04b\n",
            "  Stored in directory: /root/.cache/pip/wheels/08/d8/9e/940eb35676a1f5dae2f4bb5dc4752e9a00a7affba172bae36c\n",
            "Successfully built pysummarization\n",
            "Installing collected packages: pysummarization\n",
            "Successfully installed pysummarization-1.1.9\n"
          ]
        }
      ],
      "source": [
        "!pip install pysummarization"
      ]
    },
    {
      "cell_type": "code",
      "source": [
        "from pysummarization.nlpbase.auto_abstractor import AutoAbstractor\n",
        "from pysummarization.tokenizabledoc.simple_tokenizer import SimpleTokenizer\n",
        "from pysummarization.abstractabledoc.top_n_rank_abstractor import TopNRankAbstractor"
      ],
      "metadata": {
        "id": "uHADUHrLjGqo"
      },
      "execution_count": 10,
      "outputs": []
    },
    {
      "cell_type": "code",
      "source": [
        "document = \"Natural language generation (NLG) is the natural language processing task of generating natural language from a machine representation system such as a knowledge base or a logical form. Psycholinguists prefer the term language production when such formal representations are interpreted as models for mental representations\""
      ],
      "metadata": {
        "id": "q7JMA7oTjI4W"
      },
      "execution_count": 13,
      "outputs": []
    },
    {
      "cell_type": "code",
      "source": [
        "# Object of automatic summarization.\n",
        "auto_abstractor = AutoAbstractor()\n",
        "# Set tokenizer.\n",
        "auto_abstractor.tokenizable_doc = SimpleTokenizer()\n",
        "# Set delimiter for making a list of sentence.\n",
        "auto_abstractor.delimiter_list = [\".\", \"\\n\"]\n",
        "# Object of abstracting and filtering document.\n",
        "abstractable_doc = TopNRankAbstractor()\n",
        "# Summarize document.\n",
        "result_dict = auto_abstractor.summarize(document, abstractable_doc)\n",
        "\n",
        "# Output result.\n",
        "for sentence in result_dict[\"summarize_result\"]:\n",
        "    print(sentence)"
      ],
      "metadata": {
        "colab": {
          "base_uri": "https://localhost:8080/"
        },
        "id": "ieecAHUYjgj5",
        "outputId": "5c6cb803-8812-4bce-ba1d-bcd3f4c99ffd"
      },
      "execution_count": 14,
      "outputs": [
        {
          "output_type": "stream",
          "name": "stdout",
          "text": [
            "Natural language generation (NLG) is the natural language processing task of generating natural language from a machine representation system such as a knowledge base or a logical form.\n",
            "\n",
            " Psycholinguists prefer the term language production when such formal representations are interpreted as models for mental representations.\n",
            "\n"
          ]
        }
      ]
    },
    {
      "cell_type": "markdown",
      "source": [],
      "metadata": {
        "id": "gxXRqUMSjIqW"
      }
    },
    {
      "cell_type": "markdown",
      "source": [],
      "metadata": {
        "id": "BskqlxgijGcS"
      }
    },
    {
      "cell_type": "markdown",
      "metadata": {
        "id": "Kw9uCMduY8Ut"
      },
      "source": []
    },
    {
      "cell_type": "markdown",
      "metadata": {
        "id": "gs4YAwbTYydd"
      },
      "source": []
    },
    {
      "cell_type": "markdown",
      "metadata": {
        "id": "bCL09_fOS83k"
      },
      "source": []
    },
    {
      "cell_type": "markdown",
      "metadata": {
        "id": "Cs5qkplZSx3h"
      },
      "source": []
    }
  ],
  "metadata": {
    "accelerator": "TPU",
    "colab": {
      "gpuType": "V28",
      "provenance": [],
      "authorship_tag": "ABX9TyMdt9uNmSHSDuGusUxmiloz",
      "include_colab_link": true
    },
    "kernelspec": {
      "display_name": "Python 3",
      "name": "python3"
    },
    "language_info": {
      "name": "python"
    }
  },
  "nbformat": 4,
  "nbformat_minor": 0
}