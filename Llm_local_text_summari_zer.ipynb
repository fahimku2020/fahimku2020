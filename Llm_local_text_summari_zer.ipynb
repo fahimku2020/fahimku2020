{
  "nbformat": 4,
  "nbformat_minor": 0,
  "metadata": {
    "colab": {
      "provenance": [],
      "authorship_tag": "ABX9TyOzwvnoBYmDWSuPbXyN7AE6",
      "include_colab_link": true
    },
    "kernelspec": {
      "name": "python3",
      "display_name": "Python 3"
    },
    "language_info": {
      "name": "python"
    }
  },
  "cells": [
    {
      "cell_type": "markdown",
      "metadata": {
        "id": "view-in-github",
        "colab_type": "text"
      },
      "source": [
        "<a href=\"https://colab.research.google.com/github/fahimku2020/fahimku2020/blob/main/Llm_local_text_summari_zer.ipynb\" target=\"_parent\"><img src=\"https://colab.research.google.com/assets/colab-badge.svg\" alt=\"Open In Colab\"/></a>"
      ]
    },
    {
      "cell_type": "code",
      "source": [
        "!pip install local_text_summarizer"
      ],
      "metadata": {
        "colab": {
          "base_uri": "https://localhost:8080/"
        },
        "id": "abr890mWb11e",
        "outputId": "e58540df-3c17-48a7-ec4b-8853f1f25305"
      },
      "execution_count": 14,
      "outputs": [
        {
          "output_type": "stream",
          "name": "stdout",
          "text": [
            "Collecting local_text_summarizer\n",
            "  Downloading local_text_summarizer-0.2-py3-none-any.whl.metadata (3.2 kB)\n",
            "Requirement already satisfied: nltk in /usr/local/lib/python3.10/dist-packages (from local_text_summarizer) (3.9.1)\n",
            "Requirement already satisfied: click in /usr/local/lib/python3.10/dist-packages (from nltk->local_text_summarizer) (8.1.7)\n",
            "Requirement already satisfied: joblib in /usr/local/lib/python3.10/dist-packages (from nltk->local_text_summarizer) (1.4.2)\n",
            "Requirement already satisfied: regex>=2021.8.3 in /usr/local/lib/python3.10/dist-packages (from nltk->local_text_summarizer) (2024.9.11)\n",
            "Requirement already satisfied: tqdm in /usr/local/lib/python3.10/dist-packages (from nltk->local_text_summarizer) (4.66.6)\n",
            "Downloading local_text_summarizer-0.2-py3-none-any.whl (5.3 kB)\n",
            "Installing collected packages: local_text_summarizer\n",
            "Successfully installed local_text_summarizer-0.2\n"
          ]
        }
      ]
    },
    {
      "cell_type": "code",
      "source": [
        "from local_text_summarizer import condense_story\n",
        "\n",
        "text = \"\"\"\n",
        "Once upon a time, in a small marina, there was a little boat named Luna. Luna was a sturdy sailboat with a white hull and a bright blue sail. She had been sitting in the marina for a while, waiting for her next adventure.\n",
        "\n",
        "One day, a young couple, Alex and Maddie, came to the marina looking for a boat to rent. They had always dreamed of sailing around the world, but for now, they were just looking for a day trip. As they walked down the dock, they noticed Luna, and their eyes lit up. \"She's perfect!\" Alex exclaimed. Maddie nodded in agreement. \"Let's take her out!\"\n",
        "\n",
        "The marina owner, a grizzled old sailor named Jack, helped them prepare Luna for the trip. He showed them the ropes, literally, and gave them a quick sailing lesson. As they set off into the open water, Luna felt the wind in her sail and the sun on her deck. She was finally free!\n",
        "er\n",
        "Alex and Maddie laughed and chatted as riztummahey sailed across the bay, taking in the sights and sounds of the ocean. As they approached a small island, they decided to drop anchor and explore. Luna bobbed gently in the water as they swam ashore and discovered a hidden cove, teeming with sea life.\n",
        "\n",
        "As the day drew to a close, Alex and Msummaddie reluctantly climbed back on board. As they sailed back to the marina, Luna felt grateful for the adventure she had shared with the young couple. She knew she would always be ready for the next big adventure that came her way.\n",
        "ar\n",
        "From that day on, Luna became the go-to boat for many more exciting journeys, and her legend grew as the little boat with a big heart and a love for the open sea.\n",
        "\"\"\"\n",
        "\n",
        "# Summarize the text\n",
        "summary = condense_story(text, ratio=0.5)\n",
        "#print(\"Summary:\")\n",
        "#print(summary)\n"
      ],
      "metadata": {
        "colab": {
          "base_uri": "https://localhost:8080/"
        },
        "id": "Wh0LLbO3b1jX",
        "outputId": "63b5ce44-b62d-4ae6-a428-cfd22f4a553c"
      },
      "execution_count": 19,
      "outputs": [
        {
          "output_type": "stream",
          "name": "stdout",
          "text": [
            "From that day on, Luna became the go-to boat for many more exciting journeys, and her legend grew as the little boat with a big heart and a love for the open sea. Alex and Maddie laughed and chatted as they sailed across the bay, taking in the sights and sounds of the ocean. As they sailed back to the marina, Luna felt grateful for the adventure she had shared with the young couple. As they set off into the open water, Luna felt the wind in her sail and the sun on her deck. One day, a young couple, Alex and Maddie, came to the marina looking for a boat to rent. They had always dreamed of sailing around the world, but for now, they were just looking for a day trip. Luna bobbed gently in the water as they swam ashore and discovered a hidden cove, teeming with sea life. The marina owner, a grizzled old sailor named Jack, helped them prepare Luna for the trip. She had been sitting in the marina for a while, waiting for her next adventure. As the day drew to a close, Alex and Maddie reluctantly climbed back on board.\n"
          ]
        }
      ]
    },
    {
      "cell_type": "code",
      "source": [],
      "metadata": {
        "id": "4fcJVMQnb1UG"
      },
      "execution_count": null,
      "outputs": []
    },
    {
      "cell_type": "markdown",
      "source": [],
      "metadata": {
        "id": "i8pG3ivKb0eI"
      }
    },
    {
      "cell_type": "markdown",
      "source": [],
      "metadata": {
        "id": "TZY9OMlYV7jY"
      }
    },
    {
      "cell_type": "markdown",
      "source": [],
      "metadata": {
        "id": "11qMRRC-MrvP"
      }
    }
  ]
}