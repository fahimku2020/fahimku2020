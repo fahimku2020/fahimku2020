{
  "nbformat": 4,
  "nbformat_minor": 0,
  "metadata": {
    "colab": {
      "provenance": [],
      "authorship_tag": "ABX9TyOXe7ig/Tg4EUYy0H8qhQjq",
      "include_colab_link": true
    },
    "kernelspec": {
      "name": "python3",
      "display_name": "Python 3"
    },
    "language_info": {
      "name": "python"
    }
  },
  "cells": [
    {
      "cell_type": "markdown",
      "metadata": {
        "id": "view-in-github",
        "colab_type": "text"
      },
      "source": [
        "<a href=\"https://colab.research.google.com/github/fahimku2020/fahimku2020/blob/main/Best_Hybrid_tfidf_semantically_similar_sentences_summarizer.ipynb\" target=\"_parent\"><img src=\"https://colab.research.google.com/assets/colab-badge.svg\" alt=\"Open In Colab\"/></a>"
      ]
    },
    {
      "cell_type": "code",
      "execution_count": null,
      "metadata": {
        "colab": {
          "base_uri": "https://localhost:8080/"
        },
        "id": "stfQ8Xsjownn",
        "outputId": "989c9567-fa94-4752-a1d2-41757d1b0bbe"
      },
      "outputs": [
        {
          "output_type": "stream",
          "name": "stdout",
          "text": [
            "Collecting hybridtfidf\n",
            "  Downloading hybridtfidf-1.1.0-py3-none-any.whl.metadata (4.6 kB)\n",
            "Downloading hybridtfidf-1.1.0-py3-none-any.whl (6.4 kB)\n",
            "Installing collected packages: hybridtfidf\n",
            "Successfully installed hybridtfidf-1.1.0\n"
          ]
        }
      ],
      "source": [
        "!pip install hybridtfidf"
      ]
    },
    {
      "cell_type": "code",
      "source": [
        "!pip install wikipedia"
      ],
      "metadata": {
        "colab": {
          "base_uri": "https://localhost:8080/"
        },
        "id": "kh7_aBDIx8Ue",
        "outputId": "7c3e9684-d15f-4ac9-cbdf-7ee933225ec1"
      },
      "execution_count": null,
      "outputs": [
        {
          "output_type": "stream",
          "name": "stdout",
          "text": [
            "Collecting wikipedia\n",
            "  Downloading wikipedia-1.4.0.tar.gz (27 kB)\n",
            "  Preparing metadata (setup.py) ... \u001b[?25l\u001b[?25hdone\n",
            "Requirement already satisfied: beautifulsoup4 in /usr/local/lib/python3.10/dist-packages (from wikipedia) (4.12.3)\n",
            "Requirement already satisfied: requests<3.0.0,>=2.0.0 in /usr/local/lib/python3.10/dist-packages (from wikipedia) (2.32.3)\n",
            "Requirement already satisfied: charset-normalizer<4,>=2 in /usr/local/lib/python3.10/dist-packages (from requests<3.0.0,>=2.0.0->wikipedia) (3.4.0)\n",
            "Requirement already satisfied: idna<4,>=2.5 in /usr/local/lib/python3.10/dist-packages (from requests<3.0.0,>=2.0.0->wikipedia) (3.10)\n",
            "Requirement already satisfied: urllib3<3,>=1.21.1 in /usr/local/lib/python3.10/dist-packages (from requests<3.0.0,>=2.0.0->wikipedia) (2.2.3)\n",
            "Requirement already satisfied: certifi>=2017.4.17 in /usr/local/lib/python3.10/dist-packages (from requests<3.0.0,>=2.0.0->wikipedia) (2024.12.14)\n",
            "Requirement already satisfied: soupsieve>1.2 in /usr/local/lib/python3.10/dist-packages (from beautifulsoup4->wikipedia) (2.6)\n",
            "Building wheels for collected packages: wikipedia\n",
            "  Building wheel for wikipedia (setup.py) ... \u001b[?25l\u001b[?25hdone\n",
            "  Created wheel for wikipedia: filename=wikipedia-1.4.0-py3-none-any.whl size=11679 sha256=e9d6da1186e7c83eb7a10caa65c8dc1218a049498950703afb8cdac6fd3015e4\n",
            "  Stored in directory: /root/.cache/pip/wheels/5e/b6/c5/93f3dec388ae76edc830cb42901bb0232504dfc0df02fc50de\n",
            "Successfully built wikipedia\n",
            "Installing collected packages: wikipedia\n",
            "Successfully installed wikipedia-1.4.0\n"
          ]
        }
      ]
    },
    {
      "cell_type": "code",
      "source": [
        "import wikipedia\n",
        "#print( wikipedia.summary(\"Wikipedia\"))\n",
        "# Wikipedia (/ˌwɪkɨˈpiːdiə/ or /ˌwɪkiˈpiːdiə/ WIK-i-PEE-dee-ə) is a collaboratively edited, multilingual, free Internet encyclopedia supported by the non-profit Wikimedia Foundation...\n",
        "\n",
        "#wikipedia.search(\"Barack\")\n",
        "# [u'Barak (given name)', u'Barack Obama', u'Barack (brandy)', u'Presidency of Barack Obama', u'Family of Barack Obama', u'First inauguration of Barack Obama', u'Barack Obama presidential campaign, 2008', u'Barack Obama, Sr.', u'Barack Obama citizenship conspiracy theories', u'Presidential transition of Barack Obama']\n",
        "\n",
        "#ny = wikipedia.page(\"Amitabh Bachan\")\n",
        "# ny.title\n",
        "# u'New York'\n",
        "#ny.url\n",
        "# u'http://en.wikipedia.org/wiki/New_York'\n",
        "#doc = ny.content\n",
        "#print(len(doc ))\n",
        "summary = wikipedia.summary(\"Amitabh Bachan \")"
      ],
      "metadata": {
        "id": "IhCaorcHx8D6"
      },
      "execution_count": null,
      "outputs": []
    },
    {
      "cell_type": "markdown",
      "source": [],
      "metadata": {
        "id": "fmxBYF-f3lUM"
      }
    },
    {
      "cell_type": "markdown",
      "source": [],
      "metadata": {
        "id": "Jt8aJtWRx70P"
      }
    },
    {
      "cell_type": "code",
      "source": [
        "doc = summary\n",
        "print(doc )"
      ],
      "metadata": {
        "colab": {
          "base_uri": "https://localhost:8080/"
        },
        "id": "xTdiixwayf-C",
        "outputId": "d62cb9cd-3c17-4764-dd3e-3203c107a75f"
      },
      "execution_count": null,
      "outputs": [
        {
          "output_type": "stream",
          "name": "stdout",
          "text": [
            "Amitabh Bachchan (pronounced [əmɪˈt̪ɑːbʱ ˈbətːʃən] ; born Amitabh Srivastava; 11 October 1942) is an Indian actor who works in Hindi cinema. He is often considered one of the greatest, most accomplished and commercially successful actors in the history of Indian cinema. With a cinematic career spanning over five decades, he has played pivotal roles in over 200 films. Bachchan is often hailed as the Shahenshah of Bollywood, Sadi Ke Mahanayak (translated as \"Greatest actor of the century\" in Hindi), Star of the Millennium, or simply Big B. His dominance in the Indian film industry during the 1970s–80s led the French director François Truffaut to describe it as a \"one-man industry\". He is a recipient of several accolades including six National Film Awards and sixteen Filmfare Awards.\n",
            "Amitabh Bachchan was born in 1942 in Allahabad (now Prayagraj) to the Hindi poet Harivansh Rai Bachchan and his wife, the social activist Teji Bachchan. He was educated at Sherwood College, Nainital, and Kirori Mal College, University of Delhi. His film career started in 1969 as a voice narrator in Mrinal Sen's film Bhuvan Shome. He first gained popularity in the early-1970s for films, such as Anand, Zanjeer and Roti Kapada Aur Makaan, and achieved greater stardom in later years, being dubbed India's \"Angry Young Man\" for several of his on-screen roles in Hindi films. He consistently starred in top–grossing Indian films from the mid-1970s to the 1980s, such as Deewaar, Sholay, Kabhi Kabhie, Hera Pheri, Amar Akbar Anthony, Parvarish, Kasme Vaade, Don, Trishul, Muqaddar Ka Sikandar, Suhaag, Dostana, Naseeb, Laawaris, Namak Halaal, Andhaa Kaanoon, Coolie, Sharaabi and Mard, as well as some of his most acclaimed performances, include Namak Haraam, Abhimaan, Majboor, Mili, Chupke Chupke, Do Anjaane, Kaala Patthar, Shaan, Silsila, Yaarana, Kaalia, Shakti, Aakhree Raasta, Shahenshah and Agneepath. After taking a break from acting in the 1990s, his resurgence was marked in 2000 with Mohabbatein. Since then he starred in several successful and acclaimed films like Kabhi Khushi Kabhie Gham, Aankhen, Baghban, Khakee, Black, Bunty Aur Babli, Sarkar, Kabhi Alvida Naa Kehna, Bhoothnath, Cheeni Kum, Paa, Piku, Pink, Badla, Brahmāstra: Part One – Shiva and Kalki 2898 AD. For Piku, he won his fourth National Film Award for Best Actor, making him the only actor to do so. Bachchan also made an appearance in a Hollywood film, The Great Gatsby (2013), in which he played a non-Indian Jewish character.\n",
            "Bachchan has won numerous accolades in his career, including record four National Film Awards in Best Actor category and many awards at international film festivals and award ceremonies. He has won sixteen Filmfare Awards and is the most nominated performer in any major acting category at Filmfare with 34 nominations in Best Actor and 42 nominations overall. The Government of India honoured him with the Padma Shri in 1984, the Padma Bhushan in 2001, the Padma Vibhushan in 2015, and India's highest award in the field of cinema, the Dadasaheb Phalke Award in 2018 for his contributions to the arts. The Government of France honoured him with its highest civilian honour, Officer of the Legion of Honour, in 2007 for his exceptional career in the world of cinema and beyond.\n",
            "In addition to acting, Bachchan has worked as a playback singer, film producer, and television presenter. He has hosted several seasons of the game show Kaun Banega Crorepati, India's version of the game show franchise, Who Wants to Be a Millionaire?. He also entered politics for a time in the 1980s. Bachchan has also been involved in several humanitarian works and he is a leading brand endorser in India. Beyond the Indian subcontinent, he acquired a large overseas following of the South Asian diaspora, as well as others, in markets including Africa (South Africa, Eastern Africa, and Mauritius), the Middle East (especially Egypt and the UAE), the United Kingdom, Russia, Central Asia, the Caribbean (Guyana, Suriname, and Trinidad and Tobago), Oceania (Fiji, Australia, and New Zealand), Canada and the United States. Bachchan was voted the \"greatest star of stage or screen\" in the BBC Your Millennium online poll in 1999. In October 2003, Time magazine dubbed Bachchan the \"Star of the Millennium\".\n"
          ]
        }
      ]
    },
    {
      "cell_type": "code",
      "source": [
        "documents = doc.split('.')"
      ],
      "metadata": {
        "id": "csi2EYdLpKwK"
      },
      "execution_count": null,
      "outputs": []
    },
    {
      "cell_type": "code",
      "source": [
        "documents"
      ],
      "metadata": {
        "colab": {
          "base_uri": "https://localhost:8080/"
        },
        "id": "dD4Q6dz5q5x_",
        "outputId": "ea9354ed-f082-4d66-f480-b34ab7751b46"
      },
      "execution_count": null,
      "outputs": [
        {
          "output_type": "execute_result",
          "data": {
            "text/plain": [
              "['Amitabh Bachchan (pronounced [əmɪˈt̪ɑːbʱ ˈbətːʃən] ; born Amitabh Srivastava; 11 October 1942) is an Indian actor who works in Hindi cinema',\n",
              " ' He is often considered one of the greatest, most accomplished and commercially successful actors in the history of Indian cinema',\n",
              " ' With a cinematic career spanning over five decades, he has played pivotal roles in over 200 films',\n",
              " ' Bachchan is often hailed as the Shahenshah of Bollywood, Sadi Ke Mahanayak (translated as \"Greatest actor of the century\" in Hindi), Star of the Millennium, or simply Big B',\n",
              " ' His dominance in the Indian film industry during the 1970s–80s led the French director François Truffaut to describe it as a \"one-man industry\"',\n",
              " ' He is a recipient of several accolades including six National Film Awards and sixteen Filmfare Awards',\n",
              " '\\nAmitabh Bachchan was born in 1942 in Allahabad (now Prayagraj) to the Hindi poet Harivansh Rai Bachchan and his wife, the social activist Teji Bachchan',\n",
              " ' He was educated at Sherwood College, Nainital, and Kirori Mal College, University of Delhi',\n",
              " \" His film career started in 1969 as a voice narrator in Mrinal Sen's film Bhuvan Shome\",\n",
              " ' He first gained popularity in the early-1970s for films, such as Anand, Zanjeer and Roti Kapada Aur Makaan, and achieved greater stardom in later years, being dubbed India\\'s \"Angry Young Man\" for several of his on-screen roles in Hindi films',\n",
              " ' He consistently starred in top–grossing Indian films from the mid-1970s to the 1980s, such as Deewaar, Sholay, Kabhi Kabhie, Hera Pheri, Amar Akbar Anthony, Parvarish, Kasme Vaade, Don, Trishul, Muqaddar Ka Sikandar, Suhaag, Dostana, Naseeb, Laawaris, Namak Halaal, Andhaa Kaanoon, Coolie, Sharaabi and Mard, as well as some of his most acclaimed performances, include Namak Haraam, Abhimaan, Majboor, Mili, Chupke Chupke, Do Anjaane, Kaala Patthar, Shaan, Silsila, Yaarana, Kaalia, Shakti, Aakhree Raasta, Shahenshah and Agneepath',\n",
              " ' After taking a break from acting in the 1990s, his resurgence was marked in 2000 with Mohabbatein',\n",
              " ' Since then he starred in several successful and acclaimed films like Kabhi Khushi Kabhie Gham, Aankhen, Baghban, Khakee, Black, Bunty Aur Babli, Sarkar, Kabhi Alvida Naa Kehna, Bhoothnath, Cheeni Kum, Paa, Piku, Pink, Badla, Brahmāstra: Part One – Shiva and Kalki 2898 AD',\n",
              " ' For Piku, he won his fourth National Film Award for Best Actor, making him the only actor to do so',\n",
              " ' Bachchan also made an appearance in a Hollywood film, The Great Gatsby (2013), in which he played a non-Indian Jewish character',\n",
              " '\\nBachchan has won numerous accolades in his career, including record four National Film Awards in Best Actor category and many awards at international film festivals and award ceremonies',\n",
              " ' He has won sixteen Filmfare Awards and is the most nominated performer in any major acting category at Filmfare with 34 nominations in Best Actor and 42 nominations overall',\n",
              " \" The Government of India honoured him with the Padma Shri in 1984, the Padma Bhushan in 2001, the Padma Vibhushan in 2015, and India's highest award in the field of cinema, the Dadasaheb Phalke Award in 2018 for his contributions to the arts\",\n",
              " ' The Government of France honoured him with its highest civilian honour, Officer of the Legion of Honour, in 2007 for his exceptional career in the world of cinema and beyond',\n",
              " '\\nIn addition to acting, Bachchan has worked as a playback singer, film producer, and television presenter',\n",
              " \" He has hosted several seasons of the game show Kaun Banega Crorepati, India's version of the game show franchise, Who Wants to Be a Millionaire?\",\n",
              " ' He also entered politics for a time in the 1980s',\n",
              " ' Bachchan has also been involved in several humanitarian works and he is a leading brand endorser in India',\n",
              " ' Beyond the Indian subcontinent, he acquired a large overseas following of the South Asian diaspora, as well as others, in markets including Africa (South Africa, Eastern Africa, and Mauritius), the Middle East (especially Egypt and the UAE), the United Kingdom, Russia, Central Asia, the Caribbean (Guyana, Suriname, and Trinidad and Tobago), Oceania (Fiji, Australia, and New Zealand), Canada and the United States',\n",
              " ' Bachchan was voted the \"greatest star of stage or screen\" in the BBC Your Millennium online poll in 1999',\n",
              " ' In October 2003, Time magazine dubbed Bachchan the \"Star of the Millennium\"',\n",
              " '']"
            ]
          },
          "metadata": {},
          "execution_count": 175
        }
      ]
    },
    {
      "cell_type": "code",
      "source": [
        "import nltk\n",
        "from nltk.tokenize import RegexpTokenizer\n",
        "from nltk.stem import WordNetLemmatizer,PorterStemmer\n",
        "from nltk.corpus import stopwords\n",
        "import re\n",
        "\n",
        "lemmatizer = WordNetLemmatizer()\n",
        "nltk.download('stopwords')\n",
        "\n",
        "stemmer = PorterStemmer()\n",
        "nltk.download('wordnet')\n",
        "\n",
        "def preprocess(sentence):\n",
        "    sentence=str(sentence)\n",
        "    sentence = sentence.lower()\n",
        "    sentence=sentence.replace('{html}',\"\")\n",
        "    cleanr = re.compile('<.*?>')\n",
        "    cleantext = re.sub(cleanr, '', sentence)\n",
        "    rem_url=re.sub(r'http\\S+', '',cleantext)\n",
        "    rem_num = re.sub('[0-9]+', '', rem_url)\n",
        "    tokenizer = RegexpTokenizer(r'\\w+')\n",
        "    tokens = tokenizer.tokenize(rem_num)\n",
        "    filtered_words = [w for w in tokens if len(w) > 2 if not w in stopwords.words('english')]\n",
        "    stem_words=[stemmer.stem(w) for w in filtered_words]\n",
        "    lemma_words=[lemmatizer.lemmatize(w) for w in stem_words]\n",
        "    return \" \".join(filtered_words)\n",
        "\n",
        "corp =[]\n",
        "for i in range (len (documents )):\n",
        "  c = preprocess(documents [i ] )\n",
        "  corp.append (c)\n",
        "  print (c)"
      ],
      "metadata": {
        "colab": {
          "base_uri": "https://localhost:8080/"
        },
        "id": "9l2Jw3_Yrxct",
        "outputId": "0df50249-ac7c-4c12-99ca-8b9969f3f4aa"
      },
      "execution_count": null,
      "outputs": [
        {
          "output_type": "stream",
          "name": "stdout",
          "text": [
            "amitabh bachchan pronounced əmɪˈt ɑːbʱ ˈbətːʃən born amitabh srivastava october indian actor works hindi cinema\n",
            "often considered one greatest accomplished commercially successful actors history indian cinema\n",
            "cinematic career spanning five decades played pivotal roles films\n",
            "bachchan often hailed shahenshah bollywood sadi mahanayak translated greatest actor century hindi star millennium simply big\n",
            "dominance indian film industry led french director françois truffaut describe one man industry\n",
            "recipient several accolades including six national film awards sixteen filmfare awards\n",
            "amitabh bachchan born allahabad prayagraj hindi poet harivansh rai bachchan wife social activist teji bachchan\n",
            "educated sherwood college nainital kirori mal college university delhi\n",
            "film career started voice narrator mrinal sen film bhuvan shome\n",
            "first gained popularity early films anand zanjeer roti kapada aur makaan achieved greater stardom later years dubbed india angry young man several screen roles hindi films\n",
            "consistently starred top grossing indian films mid deewaar sholay kabhi kabhie hera pheri amar akbar anthony parvarish kasme vaade trishul muqaddar sikandar suhaag dostana naseeb laawaris namak halaal andhaa kaanoon coolie sharaabi mard well acclaimed performances include namak haraam abhimaan majboor mili chupke chupke anjaane kaala patthar shaan silsila yaarana kaalia shakti aakhree raasta shahenshah agneepath\n",
            "taking break acting resurgence marked mohabbatein\n",
            "since starred several successful acclaimed films like kabhi khushi kabhie gham aankhen baghban khakee black bunty aur babli sarkar kabhi alvida naa kehna bhoothnath cheeni kum paa piku pink badla brahmāstra part one shiva kalki\n",
            "piku fourth national film award best actor making actor\n",
            "bachchan also made appearance hollywood film great gatsby played non indian jewish character\n",
            "bachchan numerous accolades career including record four national film awards best actor category many awards international film festivals award ceremonies\n",
            "sixteen filmfare awards nominated performer major acting category filmfare nominations best actor nominations overall\n",
            "government india honoured padma shri padma bhushan padma vibhushan india highest award field cinema dadasaheb phalke award contributions arts\n",
            "government france honoured highest civilian honour officer legion honour exceptional career world cinema beyond\n",
            "addition acting bachchan worked playback singer film producer television presenter\n",
            "hosted several seasons game show kaun banega crorepati india version game show franchise wants millionaire\n",
            "also entered politics time\n",
            "bachchan also involved several humanitarian works leading brand endorser india\n",
            "beyond indian subcontinent acquired large overseas following south asian diaspora well others markets including africa south africa eastern africa mauritius middle east especially egypt uae united kingdom russia central asia caribbean guyana suriname trinidad tobago oceania fiji australia new zealand canada united states\n",
            "bachchan voted greatest star stage screen bbc millennium online poll\n",
            "october time magazine dubbed bachchan star millennium\n",
            "\n"
          ]
        },
        {
          "output_type": "stream",
          "name": "stderr",
          "text": [
            "[nltk_data] Downloading package stopwords to /root/nltk_data...\n",
            "[nltk_data]   Package stopwords is already up-to-date!\n",
            "[nltk_data] Downloading package wordnet to /root/nltk_data...\n",
            "[nltk_data]   Package wordnet is already up-to-date!\n"
          ]
        }
      ]
    },
    {
      "cell_type": "markdown",
      "source": [],
      "metadata": {
        "id": "TOOvikIgsXZg"
      }
    },
    {
      "cell_type": "markdown",
      "source": [],
      "metadata": {
        "id": "c3wXF99-rcbh"
      }
    },
    {
      "cell_type": "code",
      "source": [
        "documents = corp"
      ],
      "metadata": {
        "id": "atCsVVWxsd4-"
      },
      "execution_count": null,
      "outputs": []
    },
    {
      "cell_type": "code",
      "source": [
        "documents"
      ],
      "metadata": {
        "colab": {
          "base_uri": "https://localhost:8080/"
        },
        "id": "uGDTtGPxut6W",
        "outputId": "81d30325-075f-40bc-87f3-20f09e22520f"
      },
      "execution_count": null,
      "outputs": [
        {
          "output_type": "execute_result",
          "data": {
            "text/plain": [
              "['amitabh bachchan pronounced əmɪˈt ɑːbʱ ˈbətːʃən born amitabh srivastava october indian actor works hindi cinema',\n",
              " 'often considered one greatest accomplished commercially successful actors history indian cinema',\n",
              " 'cinematic career spanning five decades played pivotal roles films',\n",
              " 'bachchan often hailed shahenshah bollywood sadi mahanayak translated greatest actor century hindi star millennium simply big',\n",
              " 'dominance indian film industry led french director françois truffaut describe one man industry',\n",
              " 'recipient several accolades including six national film awards sixteen filmfare awards',\n",
              " 'amitabh bachchan born allahabad prayagraj hindi poet harivansh rai bachchan wife social activist teji bachchan',\n",
              " 'educated sherwood college nainital kirori mal college university delhi',\n",
              " 'film career started voice narrator mrinal sen film bhuvan shome',\n",
              " 'first gained popularity early films anand zanjeer roti kapada aur makaan achieved greater stardom later years dubbed india angry young man several screen roles hindi films',\n",
              " 'consistently starred top grossing indian films mid deewaar sholay kabhi kabhie hera pheri amar akbar anthony parvarish kasme vaade trishul muqaddar sikandar suhaag dostana naseeb laawaris namak halaal andhaa kaanoon coolie sharaabi mard well acclaimed performances include namak haraam abhimaan majboor mili chupke chupke anjaane kaala patthar shaan silsila yaarana kaalia shakti aakhree raasta shahenshah agneepath',\n",
              " 'taking break acting resurgence marked mohabbatein',\n",
              " 'since starred several successful acclaimed films like kabhi khushi kabhie gham aankhen baghban khakee black bunty aur babli sarkar kabhi alvida naa kehna bhoothnath cheeni kum paa piku pink badla brahmāstra part one shiva kalki',\n",
              " 'piku fourth national film award best actor making actor',\n",
              " 'bachchan also made appearance hollywood film great gatsby played non indian jewish character',\n",
              " 'bachchan numerous accolades career including record four national film awards best actor category many awards international film festivals award ceremonies',\n",
              " 'sixteen filmfare awards nominated performer major acting category filmfare nominations best actor nominations overall',\n",
              " 'government india honoured padma shri padma bhushan padma vibhushan india highest award field cinema dadasaheb phalke award contributions arts',\n",
              " 'government france honoured highest civilian honour officer legion honour exceptional career world cinema beyond',\n",
              " 'addition acting bachchan worked playback singer film producer television presenter',\n",
              " 'hosted several seasons game show kaun banega crorepati india version game show franchise wants millionaire',\n",
              " 'also entered politics time',\n",
              " 'bachchan also involved several humanitarian works leading brand endorser india',\n",
              " 'beyond indian subcontinent acquired large overseas following south asian diaspora well others markets including africa south africa eastern africa mauritius middle east especially egypt uae united kingdom russia central asia caribbean guyana suriname trinidad tobago oceania fiji australia new zealand canada united states',\n",
              " 'bachchan voted greatest star stage screen bbc millennium online poll',\n",
              " 'october time magazine dubbed bachchan star millennium',\n",
              " '']"
            ]
          },
          "metadata": {},
          "execution_count": 178
        }
      ]
    },
    {
      "cell_type": "markdown",
      "source": [],
      "metadata": {
        "id": "tap32bSAutq5"
      }
    },
    {
      "cell_type": "markdown",
      "source": [],
      "metadata": {
        "id": "09R0ZdHSq5iS"
      }
    },
    {
      "cell_type": "code",
      "source": [
        "import nltk\n",
        "nltk.download('stopwords')\n",
        "nltk.download('punkt_tab')\n",
        "\n",
        "stop_words = set(nltk.corpus.stopwords.words('english'))\n",
        "\n",
        "tokenized_documents = []\n",
        "\n",
        "for document in documents:\n",
        "    tokens = nltk.tokenize.word_tokenize(document)\n",
        "    tokenized_document = [i for i in tokens if not i in stop_words]\n",
        "    tokenized_documents.append(tokenized_document)\n"
      ],
      "metadata": {
        "colab": {
          "base_uri": "https://localhost:8080/"
        },
        "id": "J1GS7iQopKsh",
        "outputId": "2a5f2b19-d0ca-4050-c3ef-45ada9faabfa"
      },
      "execution_count": null,
      "outputs": [
        {
          "output_type": "stream",
          "name": "stderr",
          "text": [
            "[nltk_data] Downloading package stopwords to /root/nltk_data...\n",
            "[nltk_data]   Package stopwords is already up-to-date!\n",
            "[nltk_data] Downloading package punkt_tab to /root/nltk_data...\n",
            "[nltk_data]   Package punkt_tab is already up-to-date!\n"
          ]
        }
      ]
    },
    {
      "cell_type": "code",
      "source": [
        "tokenized_documents = [' '.join(document) for document in tokenized_documents]\n",
        "\n",
        "# tokenized_documents[0] = 'This one example short text .'\n"
      ],
      "metadata": {
        "id": "HqOaFi30pKip"
      },
      "execution_count": null,
      "outputs": []
    },
    {
      "cell_type": "code",
      "source": [
        "from hybridtfidf import HybridTfidf\n",
        "\n",
        "hybridtfidf = HybridTfidf(threshold=7)\n",
        "hybridtfidf.fit(tokenized_documents)"
      ],
      "metadata": {
        "id": "iJXlKd-apKYd"
      },
      "execution_count": null,
      "outputs": []
    },
    {
      "cell_type": "code",
      "source": [
        "document_vectors = hybridtfidf.transform(tokenized_documents)\n",
        "document_weights = hybridtfidf.transform_to_weights(tokenized_documents)"
      ],
      "metadata": {
        "id": "PF4kJHrXpKNQ"
      },
      "execution_count": null,
      "outputs": []
    },
    {
      "source": [
        "import numpy as np\n",
        "from sklearn.metrics.pairwise import cosine_similarity"
      ],
      "cell_type": "code",
      "metadata": {
        "id": "4_YGa4xOtsQ6"
      },
      "execution_count": null,
      "outputs": []
    },
    {
      "source": [
        "similarity_matrix = cosine_similarity(document_vectors)"
      ],
      "cell_type": "code",
      "metadata": {
        "id": "1jEAwiyqtuEG"
      },
      "execution_count": null,
      "outputs": []
    },
    {
      "source": [
        "k = 20 # Number of most significant documents to select\n",
        "similarity_threshold = 0.4\n",
        "\n",
        "most_significant = []\n",
        "for i in range(len(document_vectors)):\n",
        "       # Get similarity scores for the current document\n",
        "       similarity_scores = similarity_matrix[i]\n",
        "       # Sort indices based on similarity scores in descending order\n",
        "       sorted_indices = np.argsort(similarity_scores)[::-1]\n",
        "       # Select top k documents based on similarity and threshold\n",
        "       for j in sorted_indices[1:]:  # Exclude the document itself\n",
        "           if similarity_scores[j] >= similarity_threshold and len(most_significant) < k:\n",
        "               most_significant.append(j)\n",
        "           else:\n",
        "               break"
      ],
      "cell_type": "code",
      "metadata": {
        "id": "LAWLJn7Ctvo1"
      },
      "execution_count": null,
      "outputs": []
    },
    {
      "source": [
        "unique_sents =[]\n",
        "for i in most_significant:\n",
        "  unique_sents.append(documents[i])\n",
        "  print(' -> ' + ''  +str(documents[i]))"
      ],
      "cell_type": "code",
      "metadata": {
        "colab": {
          "base_uri": "https://localhost:8080/"
        },
        "id": "f04eyMZotw6m",
        "outputId": "acb69361-6a17-4687-a77b-b038353900d0"
      },
      "execution_count": 200,
      "outputs": [
        {
          "output_type": "stream",
          "name": "stdout",
          "text": [
            " -> amitabh bachchan born allahabad prayagraj hindi poet harivansh rai bachchan wife social activist teji bachchan\n",
            " -> bachchan often hailed shahenshah bollywood sadi mahanayak translated greatest actor century hindi star millennium simply big\n",
            " -> bachchan voted greatest star stage screen bbc millennium online poll\n",
            " -> october time magazine dubbed bachchan star millennium\n",
            " -> amitabh bachchan pronounced əmɪˈt ɑːbʱ ˈbətːʃən born amitabh srivastava october indian actor works hindi cinema\n",
            " -> amitabh bachchan born allahabad prayagraj hindi poet harivansh rai bachchan wife social activist teji bachchan\n",
            " -> bachchan also made appearance hollywood film great gatsby played non indian jewish character\n",
            " -> film career started voice narrator mrinal sen film bhuvan shome\n",
            " -> bachchan numerous accolades career including record four national film awards best actor category many awards international film festivals award ceremonies\n",
            " -> amitabh bachchan pronounced əmɪˈt ɑːbʱ ˈbətːʃən born amitabh srivastava october indian actor works hindi cinema\n",
            " -> bachchan often hailed shahenshah bollywood sadi mahanayak translated greatest actor century hindi star millennium simply big\n",
            " -> october time magazine dubbed bachchan star millennium\n",
            " -> addition acting bachchan worked playback singer film producer television presenter\n",
            " -> dominance indian film industry led french director françois truffaut describe one man industry\n",
            " -> piku fourth national film award best actor making actor\n",
            " -> bachchan numerous accolades career including record four national film awards best actor category many awards international film festivals award ceremonies\n",
            " -> bachchan numerous accolades career including record four national film awards best actor category many awards international film festivals award ceremonies\n",
            " -> film career started voice narrator mrinal sen film bhuvan shome\n",
            " -> addition acting bachchan worked playback singer film producer television presenter\n",
            " -> dominance indian film industry led french director françois truffaut describe one man industry\n"
          ]
        }
      ]
    },
    {
      "cell_type": "code",
      "source": [
        "#remove  duplicate sentences\n",
        "\n",
        "a = list(set(unique_sents))\n",
        "\n",
        "print(a)"
      ],
      "metadata": {
        "colab": {
          "base_uri": "https://localhost:8080/"
        },
        "id": "Fy1UidRh7i-p",
        "outputId": "f2a598c0-3370-486b-bbf9-9ad1688599bf"
      },
      "execution_count": 201,
      "outputs": [
        {
          "output_type": "stream",
          "name": "stdout",
          "text": [
            "['bachchan numerous accolades career including record four national film awards best actor category many awards international film festivals award ceremonies', 'piku fourth national film award best actor making actor', 'amitabh bachchan pronounced əmɪˈt ɑːbʱ ˈbətːʃən born amitabh srivastava october indian actor works hindi cinema', 'bachchan also made appearance hollywood film great gatsby played non indian jewish character', 'dominance indian film industry led french director françois truffaut describe one man industry', 'addition acting bachchan worked playback singer film producer television presenter', 'bachchan voted greatest star stage screen bbc millennium online poll', 'film career started voice narrator mrinal sen film bhuvan shome', 'october time magazine dubbed bachchan star millennium', 'bachchan often hailed shahenshah bollywood sadi mahanayak translated greatest actor century hindi star millennium simply big', 'amitabh bachchan born allahabad prayagraj hindi poet harivansh rai bachchan wife social activist teji bachchan']\n"
          ]
        }
      ]
    },
    {
      "cell_type": "markdown",
      "source": [],
      "metadata": {
        "id": "kbuJpB6ws8sk"
      }
    }
  ]
}