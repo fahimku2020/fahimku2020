{
  "nbformat": 4,
  "nbformat_minor": 0,
  "metadata": {
    "colab": {
      "provenance": [],
      "authorship_tag": "ABX9TyOVF0F7C6hEsNJ29Jc2GEqu",
      "include_colab_link": true
    },
    "kernelspec": {
      "name": "python3",
      "display_name": "Python 3"
    },
    "language_info": {
      "name": "python"
    }
  },
  "cells": [
    {
      "cell_type": "markdown",
      "metadata": {
        "id": "view-in-github",
        "colab_type": "text"
      },
      "source": [
        "<a href=\"https://colab.research.google.com/github/fahimku2020/fahimku2020/blob/main/Untitled25_ipynbself_vec_embedding_and_dot_product.ipynb\" target=\"_parent\"><img src=\"https://colab.research.google.com/assets/colab-badge.svg\" alt=\"Open In Colab\"/></a>"
      ]
    },
    {
      "cell_type": "code",
      "execution_count": 7,
      "metadata": {
        "id": "Fc4fHewJfZ0n",
        "outputId": "ea5c5177-6f01-48ab-e248-d2fe979a2ca8",
        "colab": {
          "base_uri": "https://localhost:8080/"
        }
      },
      "outputs": [
        {
          "output_type": "stream",
          "name": "stdout",
          "text": [
            "Word: like\n",
            "Vector: [0.4, 0.5, 0, 1, 0.5]\n"
          ]
        }
      ],
      "source": [
        "def word_to_vector(word):\n",
        "    # Define some basic rules for our vector components\n",
        "    vector = [0] * 5  # Initialize a vector of 5 dimensions\n",
        "\n",
        "    # Rule 1: Length of the word (normalized to a max of 10 characters for simplicity)\n",
        "    vector[0] = len(word) / 10\n",
        "\n",
        "    # Rule 2: Number of vowels in the word (normalized to the length of the word)\n",
        "    vowels = 'aeiou'\n",
        "    vector[1] = sum(1 for char in word if char in vowels) / len(word)\n",
        "\n",
        "    # Rule 3: Whether the word starts with a vowel (1) or not (0)\n",
        "    vector[2] = 1 if word[0] in vowels else 0\n",
        "\n",
        "    # Rule 4: Whether the word ends with a vowel (1) or not (0)\n",
        "    vector[3] = 1 if word[-1] in vowels else 0\n",
        "\n",
        "    # Rule 5: Percentage of consonants in the word\n",
        "    vector[4] = sum(1 for char in word if char not in vowels and char.isalpha()) / len(word)\n",
        "\n",
        "    return vector\n",
        "\n",
        "# Example usage\n",
        "word = \"like\"\n",
        "vector = word_to_vector(word)\n",
        "print(f\"Word: {word}\\nVector: {vector}\")"
      ]
    },
    {
      "cell_type": "code",
      "source": [
        "import numpy as np\n",
        "\n",
        "def cosine_similarity(vector_a, vector_b):\n",
        "    # Calculate the dot product of vectors\n",
        "    dot_product = np.dot(vector_a, vector_b)\n",
        "    # Calculate the norm (magnitude) of each vector\n",
        "    norm_a = np.linalg.norm(vector_a)\n",
        "    norm_b = np.linalg.norm(vector_b)\n",
        "    # Calculate cosine similarity\n",
        "    similarity = dot_product / (norm_a * norm_b)\n",
        "    return similarity\n",
        "\n",
        "# Example usage\n",
        "word1 = \"love\"\n",
        "word2= \"like\"\n",
        "vector1 = word_to_vector(word1)\n",
        "vector2 = word_to_vector(word2)\n",
        "\n",
        "# Calculate and print cosine similarity\n",
        "similarity_score = cosine_similarity(vector1, vector2)\n",
        "print(f\"Cosine similarity between '{word1}' and '{word2}': {similarity_score}\")"
      ],
      "metadata": {
        "colab": {
          "base_uri": "https://localhost:8080/"
        },
        "id": "COUDR9OcgGow",
        "outputId": "00e97938-1194-4270-b0a6-136766a08c4c"
      },
      "execution_count": 5,
      "outputs": [
        {
          "output_type": "stream",
          "name": "stdout",
          "text": [
            "Cosine similarity between 'love' and 'like': 1.0\n"
          ]
        }
      ]
    },
    {
      "cell_type": "markdown",
      "source": [],
      "metadata": {
        "id": "U5-IXRibgc7k"
      }
    }
  ]
}