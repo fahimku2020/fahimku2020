{
  "nbformat": 4,
  "nbformat_minor": 0,
  "metadata": {
    "colab": {
      "provenance": [],
      "authorship_tag": "ABX9TyNM3OvK/I2/RsdfC8FFCbAd",
      "include_colab_link": true
    },
    "kernelspec": {
      "name": "python3",
      "display_name": "Python 3"
    },
    "language_info": {
      "name": "python"
    }
  },
  "cells": [
    {
      "cell_type": "markdown",
      "metadata": {
        "id": "view-in-github",
        "colab_type": "text"
      },
      "source": [
        "<a href=\"https://colab.research.google.com/github/fahimku2020/fahimku2020/blob/main/Pair_wise_strins_similarity.ipynb\" target=\"_parent\"><img src=\"https://colab.research.google.com/assets/colab-badge.svg\" alt=\"Open In Colab\"/></a>"
      ]
    },
    {
      "cell_type": "code",
      "source": [],
      "metadata": {
        "id": "ffVtdEslhXLM"
      },
      "execution_count": null,
      "outputs": []
    },
    {
      "cell_type": "code",
      "execution_count": null,
      "metadata": {
        "colab": {
          "base_uri": "https://localhost:8080/"
        },
        "id": "XvVaKvlkaJQv",
        "outputId": "b160afc0-7177-471f-a658-14fa80d824c5"
      },
      "outputs": [
        {
          "output_type": "stream",
          "name": "stdout",
          "text": [
            "Collecting strimilarity\n",
            "  Downloading strimilarity-1.0.1-py3-none-any.whl.metadata (6.9 kB)\n",
            "Downloading strimilarity-1.0.1-py3-none-any.whl (5.2 kB)\n",
            "Installing collected packages: strimilarity\n",
            "Successfully installed strimilarity-1.0.1\n"
          ]
        }
      ],
      "source": [
        "!pip install strimilarity"
      ]
    },
    {
      "cell_type": "code",
      "source": [
        "import strimilarity\n",
        "starty = strimilarity.Strimilarity()"
      ],
      "metadata": {
        "colab": {
          "base_uri": "https://localhost:8080/"
        },
        "id": "qx9KO03LaNMN",
        "outputId": "e8b62237-49e4-4a6e-e573-84433215503f"
      },
      "execution_count": null,
      "outputs": [
        {
          "output_type": "stream",
          "name": "stderr",
          "text": [
            "[nltk_data] Downloading package stopwords to /root/nltk_data...\n",
            "[nltk_data]   Unzipping corpora/stopwords.zip.\n"
          ]
        }
      ]
    },
    {
      "cell_type": "code",
      "source": [
        "sentence1 = 'All you have to decide is what to do with the time that is given to you.'\n",
        "sentence2 = 'You have to decide what to do now, we do not have time.'\n",
        "\n",
        "starty = strimilarity.Strimilarity()\n",
        "\n",
        "similarity = starty.similarity_pair(sentence1, sentence2)\n",
        "\n",
        "print(similarity)"
      ],
      "metadata": {
        "colab": {
          "base_uri": "https://localhost:8080/"
        },
        "id": "sh8qMDLMaNBT",
        "outputId": "4c1475e0-e131-4b0c-9131-3f57be6d7872"
      },
      "execution_count": null,
      "outputs": [
        {
          "output_type": "stream",
          "name": "stderr",
          "text": [
            "[nltk_data] Downloading package stopwords to /root/nltk_data...\n",
            "[nltk_data]   Package stopwords is already up-to-date!\n"
          ]
        },
        {
          "output_type": "stream",
          "name": "stdout",
          "text": [
            "0.5634441773849588\n"
          ]
        }
      ]
    },
    {
      "cell_type": "code",
      "source": [
        "sentence1 = 'All you have to decide is what to do with the time that is given to you.'\n",
        "sentence2 = 'You have to decide what to do now, we do not have time.'\n",
        "\n",
        "starty = strimilarity.Strimilarity()\n",
        "\n",
        "similarity = starty.lexical_similarity_pair(sentence1, sentence2)\n",
        "\n",
        "print(similarity)"
      ],
      "metadata": {
        "colab": {
          "base_uri": "https://localhost:8080/"
        },
        "id": "L-4QVKdMaM2W",
        "outputId": "895da184-89ba-4212-95c7-ea6ef0d7dc20"
      },
      "execution_count": null,
      "outputs": [
        {
          "output_type": "stream",
          "name": "stdout",
          "text": [
            "0.5892556509887895\n"
          ]
        },
        {
          "output_type": "stream",
          "name": "stderr",
          "text": [
            "[nltk_data] Downloading package stopwords to /root/nltk_data...\n",
            "[nltk_data]   Package stopwords is already up-to-date!\n"
          ]
        }
      ]
    },
    {
      "cell_type": "code",
      "source": [
        "sentence1 = 'All you have to decide is what to do with the time that is given to you.'\n",
        "sentence2 = 'You have to decide what to do now, we do not have time.'\n",
        "\n",
        "starty = strimilarity.Strimilarity()\n",
        "\n",
        "similarity = starty.semantic_similarity_pair(sentence1, sentence2)\n",
        "\n",
        "print(similarity)"
      ],
      "metadata": {
        "colab": {
          "base_uri": "https://localhost:8080/"
        },
        "id": "gwapdeJMaMra",
        "outputId": "60b92fe5-4cd2-4369-dd0a-857adb5b5f63"
      },
      "execution_count": null,
      "outputs": [
        {
          "output_type": "stream",
          "name": "stdout",
          "text": [
            "0.5376327\n"
          ]
        },
        {
          "output_type": "stream",
          "name": "stderr",
          "text": [
            "[nltk_data] Downloading package stopwords to /root/nltk_data...\n",
            "[nltk_data]   Package stopwords is already up-to-date!\n"
          ]
        }
      ]
    },
    {
      "cell_type": "code",
      "source": [
        "sentences = [\n",
        "    ',Amitabh Bachchan born in  11 October 1942[7]) is an Indian actor who works in Hindi cinema.one of the greatest, most accomplished and commercially successful actors in the history of Indian cinema.,recipient of several accolades including six National Film Awards and sixteen Filmfare Awards.',\n",
        "    ' Bachchan has won numerous accolades in his career, including record four National Film Awards in Best Actor category and many awards at international film festivals and award ceremonies.',\n",
        "    'The first film  was Deewaar,The film emerged a huge blockbuster at the box office and earned him another Filmfare nomination for Best Actor. ',\n",
        "    'Bachchan entered politics in support of a long-time ',\n",
        "    'He contested the Allahabads political elections and became former Chief Minister of Uttar Pradesh.     '\n",
        "\n",
        "]\n",
        "\n",
        "starty = strimilarity.Strimilarity()"
      ],
      "metadata": {
        "colab": {
          "base_uri": "https://localhost:8080/"
        },
        "id": "i_W1ZMW1aMfX",
        "outputId": "e74f2a19-9fa9-4f4c-b90e-be9d9b900332"
      },
      "execution_count": null,
      "outputs": [
        {
          "output_type": "stream",
          "name": "stderr",
          "text": [
            "[nltk_data] Downloading package stopwords to /root/nltk_data...\n",
            "[nltk_data]   Package stopwords is already up-to-date!\n"
          ]
        }
      ]
    },
    {
      "cell_type": "code",
      "source": [
        "similarity = starty.lexical_similarity(sentences)\n",
        "\n",
        "print(similarity)"
      ],
      "metadata": {
        "colab": {
          "base_uri": "https://localhost:8080/"
        },
        "id": "asoP7t9Ibxul",
        "outputId": "7d90c8a6-3aa7-4c73-bb19-644d0f01a122"
      },
      "execution_count": null,
      "outputs": [
        {
          "output_type": "stream",
          "name": "stdout",
          "text": [
            "[[1.         0.42365927 0.2941742  0.07161149 0.1711842 ]\n",
            " [0.42365927 1.         0.23145502 0.08451543 0.        ]\n",
            " [0.2941742  0.23145502 1.         0.         0.21821789]\n",
            " [0.07161149 0.08451543 0.         1.         0.        ]\n",
            " [0.1711842  0.         0.21821789 0.         1.        ]]\n"
          ]
        }
      ]
    },
    {
      "cell_type": "code",
      "source": [
        "\n",
        "\n",
        "starty = strimilarity.Strimilarity()\n",
        "\n",
        "similarity = starty.semantic_similarity(sentences)\n",
        "\n",
        "print(similarity)"
      ],
      "metadata": {
        "colab": {
          "base_uri": "https://localhost:8080/"
        },
        "id": "Vdi7c1J1b_NC",
        "outputId": "85b0545d-517c-485e-9c41-0471b54cff6d"
      },
      "execution_count": null,
      "outputs": [
        {
          "output_type": "stream",
          "name": "stderr",
          "text": [
            "[nltk_data] Downloading package stopwords to /root/nltk_data...\n",
            "[nltk_data]   Package stopwords is already up-to-date!\n"
          ]
        },
        {
          "output_type": "stream",
          "name": "stdout",
          "text": [
            "[[1.0000002  0.7482343  0.57462955 0.29205877 0.33033812]\n",
            " [0.7482343  0.9999999  0.5355059  0.28145573 0.21725276]\n",
            " [0.57462955 0.5355059  0.99999994 0.22846362 0.22999159]\n",
            " [0.29205877 0.28145573 0.22846362 1.0000001  0.19622457]\n",
            " [0.33033812 0.21725276 0.22999159 0.19622457 1.0000001 ]]\n"
          ]
        }
      ]
    },
    {
      "cell_type": "markdown",
      "source": [],
      "metadata": {
        "id": "w0yF3lqFb-8t"
      }
    },
    {
      "cell_type": "markdown",
      "source": [],
      "metadata": {
        "id": "XdQbvSSJbxeA"
      }
    }
  ]
}