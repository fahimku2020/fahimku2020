{
  "nbformat": 4,
  "nbformat_minor": 0,
  "metadata": {
    "colab": {
      "provenance": [],
      "authorship_tag": "ABX9TyOnYnhcVEniFox0eqsuDZIQ",
      "include_colab_link": true
    },
    "kernelspec": {
      "name": "python3",
      "display_name": "Python 3"
    },
    "language_info": {
      "name": "python"
    }
  },
  "cells": [
    {
      "cell_type": "markdown",
      "metadata": {
        "id": "view-in-github",
        "colab_type": "text"
      },
      "source": [
        "<a href=\"https://colab.research.google.com/github/fahimku2020/fahimku2020/blob/main/Semcluster_with_best_diversity.ipynb\" target=\"_parent\"><img src=\"https://colab.research.google.com/assets/colab-badge.svg\" alt=\"Open In Colab\"/></a>"
      ]
    },
    {
      "cell_type": "code",
      "execution_count": 1,
      "metadata": {
        "colab": {
          "base_uri": "https://localhost:8080/"
        },
        "id": "Lv1Joq0uLjcI",
        "outputId": "f2b64acc-c8bf-41fa-9989-9c0d4ab2222b"
      },
      "outputs": [
        {
          "output_type": "stream",
          "name": "stdout",
          "text": [
            "Collecting semcluster\n",
            "  Downloading semcluster-0.0.1-py3-none-any.whl.metadata (1.2 kB)\n",
            "Downloading semcluster-0.0.1-py3-none-any.whl (35.1 MB)\n",
            "\u001b[2K   \u001b[90m━━━━━━━━━━━━━━━━━━━━━━━━━━━━━━━━━━━━━━━━\u001b[0m \u001b[32m35.1/35.1 MB\u001b[0m \u001b[31m12.7 MB/s\u001b[0m eta \u001b[36m0:00:00\u001b[0m\n",
            "\u001b[?25hInstalling collected packages: semcluster\n",
            "Successfully installed semcluster-0.0.1\n"
          ]
        }
      ],
      "source": [
        "!pip install semcluster"
      ]
    },
    {
      "cell_type": "code",
      "source": [
        "import nltk\n",
        "nltk.download ('stopwords')\n",
        "nltk.download('punkt_tab')\n",
        "nltk.download('averaged_perceptron_tagger_eng')\n",
        "nltk.download('wordnet')"
      ],
      "metadata": {
        "colab": {
          "base_uri": "https://localhost:8080/"
        },
        "id": "CUdr4MtAMRqE",
        "outputId": "4f03a174-26dd-4fcb-c127-e202481322b8"
      },
      "execution_count": 9,
      "outputs": [
        {
          "output_type": "stream",
          "name": "stderr",
          "text": [
            "[nltk_data] Downloading package stopwords to /root/nltk_data...\n",
            "[nltk_data]   Package stopwords is already up-to-date!\n",
            "[nltk_data] Downloading package punkt_tab to /root/nltk_data...\n",
            "[nltk_data]   Package punkt_tab is already up-to-date!\n",
            "[nltk_data] Downloading package averaged_perceptron_tagger_eng to\n",
            "[nltk_data]     /root/nltk_data...\n",
            "[nltk_data]   Package averaged_perceptron_tagger_eng is already up-to-\n",
            "[nltk_data]       date!\n",
            "[nltk_data] Downloading package wordnet to /root/nltk_data...\n"
          ]
        },
        {
          "output_type": "execute_result",
          "data": {
            "text/plain": [
              "True"
            ]
          },
          "metadata": {},
          "execution_count": 9
        }
      ]
    },
    {
      "cell_type": "code",
      "source": [],
      "metadata": {
        "id": "cFlg9HpQMeE4"
      },
      "execution_count": null,
      "outputs": []
    },
    {
      "cell_type": "markdown",
      "source": [],
      "metadata": {
        "id": "hIg3-nA_MRV-"
      }
    },
    {
      "cell_type": "code",
      "source": [
        "from semcluster import SemClusterKeywordExtractor\n",
        "\n",
        "text = \"     Amitabh Bachchan (pronounced [əmɪˈt̪ɑːbʱ ˈbətːʃən] ⓘ; born Amitabh Srivastava;[1] 11 October 1942[7]) is an Indian actor who works in Hindi cinema. He is often considered one of the greatest, most accomplished and commercially successful actors in the history of Indian cinema.[8] With a cinematic career spanning over five decades, he has played pivotal roles in over 200 films. Bachchan is often hailed as the Shahenshah of Bollywood, Sadi Ke Mahanayak (translated as Greatest actor of the century in Hindi), Star of the Millennium, or simply Big B.[9] His dominance in the Indian film industry during the 1970s–80s led the French director François Truffaut to describe it as a one-man industry.[10] He is a recipient of several accolades including six National Film Awards and sixteen Filmfare Awards.  \"\n",
        "\n",
        "# Instantiate extractor\n",
        "e = SemClusterKeywordExtractor()\n",
        "\n",
        "# Extract phrases\n",
        "keyphrases = e.extract_keyphrases(text, seed_threshold=0.2, verbose=True)"
      ],
      "metadata": {
        "colab": {
          "base_uri": "https://localhost:8080/"
        },
        "id": "Y7yp2feRLmI5",
        "outputId": "73a7f0f8-2522-4b01-ad7b-c0ee9edd4a97"
      },
      "execution_count": 13,
      "outputs": [
        {
          "output_type": "stream",
          "name": "stdout",
          "text": [
            "Tokenizing document... Done.\n",
            "Tagging POS... Done.\n",
            "Extracting candidates... Done.\n",
            "Looking up Synsets... Done.\n",
            "Clustering candidates... Done.\n",
            "Selecting seeds... Done. [13 seeds]\n",
            "Filtering seeds... Done. [6 seeds]\n",
            "Selecting phrases... Done.\n"
          ]
        }
      ]
    },
    {
      "cell_type": "code",
      "source": [
        "keyphrases"
      ],
      "metadata": {
        "colab": {
          "base_uri": "https://localhost:8080/"
        },
        "id": "ifaVf_njNC_9",
        "outputId": "0eb5fbee-efc2-42ee-967f-51a7f4e85199"
      },
      "execution_count": 14,
      "outputs": [
        {
          "output_type": "execute_result",
          "data": {
            "text/plain": [
              "['bollywood', 'century', 'decades', 'films', 'hindi cinema', 'indian actor']"
            ]
          },
          "metadata": {},
          "execution_count": 14
        }
      ]
    },
    {
      "source": [
        "!pip install esa_wiki"
      ],
      "cell_type": "code",
      "metadata": {
        "colab": {
          "base_uri": "https://localhost:8080/"
        },
        "id": "crBp90mpMIv3",
        "outputId": "6fac1e74-7bf4-41e7-db8a-5a222fe9e61d"
      },
      "execution_count": 4,
      "outputs": [
        {
          "output_type": "stream",
          "name": "stdout",
          "text": [
            "Collecting esa_wiki\n",
            "  Downloading esa_wiki-0.0.1-py3-none-any.whl.metadata (1.5 kB)\n",
            "Downloading esa_wiki-0.0.1-py3-none-any.whl (17 kB)\n",
            "Installing collected packages: esa_wiki\n",
            "Successfully installed esa_wiki-0.0.1\n"
          ]
        }
      ]
    },
    {
      "source": [
        "import pkg_resources\n",
        "installed_packages = pkg_resources.working_set\n",
        "installed_packages_list = sorted([\"%s==%s\" % (i.key, i.version)\n",
        "   for i in installed_packages])\n",
        "print(installed_packages_list)"
      ],
      "cell_type": "code",
      "metadata": {
        "colab": {
          "base_uri": "https://localhost:8080/"
        },
        "id": "COVyaTSFMJTn",
        "outputId": "f124f0e5-8491-40d0-9602-f49cace4ee6b"
      },
      "execution_count": 1,
      "outputs": [
        {
          "output_type": "stream",
          "name": "stdout",
          "text": [
            "['absl-py==1.4.0', 'accelerate==1.1.1', 'aiohappyeyeballs==2.4.4', 'aiohttp==3.11.10', 'aiosignal==1.3.1', 'alabaster==1.0.0', 'albucore==0.0.19', 'albumentations==1.4.20', 'altair==5.5.0', 'annotated-types==0.7.0', 'anyio==3.7.1', 'argon2-cffi-bindings==21.2.0', 'argon2-cffi==23.1.0', 'array-record==0.5.1', 'arviz==0.20.0', 'astropy-iers-data==0.2024.12.9.0.36.21', 'astropy==6.1.7', 'astunparse==1.6.3', 'async-timeout==4.0.3', 'atpublic==4.1.0', 'attrs==24.2.0', 'audioread==3.0.1', 'autocommand==2.2.2', 'autograd==1.7.0', 'babel==2.16.0', 'backcall==0.2.0', 'backports.tarfile==1.2.0', 'beautifulsoup4==4.12.3', 'bigframes==1.27.0', 'bigquery-magics==0.4.0', 'bleach==6.2.0', 'blinker==1.9.0', 'blis==0.7.11', 'blosc2==2.7.1', 'bokeh==3.6.2', 'bottleneck==1.4.2', 'bqplot==0.12.43', 'branca==0.8.0', 'cachecontrol==0.14.1', 'cachetools==5.5.0', 'catalogue==2.0.10', 'certifi==2024.8.30', 'cffi==1.17.1', 'chardet==5.2.0', 'charset-normalizer==3.4.0', 'chex==0.1.87', 'clarabel==0.9.0', 'click==8.1.7', 'cloudpathlib==0.20.0', 'cloudpickle==3.1.0', 'cmake==3.30.5', 'cmdstanpy==1.2.4', 'colorcet==3.1.0', 'colorlover==0.3.0', 'colour==0.1.5', 'community==1.0.0b1', 'confection==0.1.5', 'cons==0.4.6', 'contourpy==1.3.1', 'cryptography==43.0.3', 'cuda-python==12.2.1', 'cudf-cu12==24.10.1', 'cufflinks==0.17.3', 'cupy-cuda12x==12.2.0', 'cvxopt==1.3.2', 'cvxpy==1.5.4', 'cycler==0.12.1', 'cymem==2.0.10', 'cython==3.0.11', 'dask==2024.10.0', 'datascience==0.17.6', 'db-dtypes==1.3.1', 'dbus-python==1.2.18', 'debugpy==1.8.0', 'decorator==4.4.2', 'defusedxml==0.7.1', 'deprecated==1.2.15', 'diffusers==0.31.0', 'distro==1.9.0', 'dlib==19.24.2', 'dm-tree==0.1.8', 'docker-pycreds==0.4.0', 'docstring-parser==0.16', 'docutils==0.21.2', 'dopamine-rl==4.0.9', 'duckdb==1.1.3', 'earthengine-api==1.2.0', 'easydict==1.13', 'ecos==2.0.14', 'editdistance==0.8.1', 'eerepr==0.0.4', 'einops==0.8.0', 'en-core-web-sm==3.7.1', 'entrypoints==0.4', 'esa-wiki==0.0.1', 'et-xmlfile==2.0.0', 'etils==1.11.0', 'etuples==0.3.9', 'eval-type-backport==0.2.0', 'exceptiongroup==1.2.2', 'fastai==2.7.18', 'fastcore==1.7.26', 'fastdownload==0.0.7', 'fastjsonschema==2.21.1', 'fastprogress==1.0.3', 'fastrlock==0.8.2', 'filelock==3.16.1', 'firebase-admin==6.5.0', 'flask==3.0.3', 'flatbuffers==24.3.25', 'flax==0.8.5', 'folium==0.18.0', 'fonttools==4.55.3', 'frozendict==2.4.6', 'frozenlist==1.5.0', 'fsspec==2024.10.0', 'future==1.0.0', 'gast==0.6.0', 'gcsfs==2024.10.0', 'gdal==3.6.4', 'gdown==5.2.0', 'geemap==0.35.1', 'gensim==4.3.3', 'geocoder==1.38.1', 'geographiclib==2.0', 'geopandas==1.0.1', 'geopy==2.4.1', 'gin-config==0.5.0', 'gitdb==4.0.11', 'gitpython==3.1.43', 'glob2==0.7', 'google-ai-generativelanguage==0.6.10', 'google-api-core==2.19.2', 'google-api-python-client==2.151.0', 'google-auth-httplib2==0.2.0', 'google-auth-oauthlib==1.2.1', 'google-auth==2.27.0', 'google-cloud-aiplatform==1.73.0', 'google-cloud-bigquery-connection==1.16.1', 'google-cloud-bigquery-storage==2.27.0', 'google-cloud-bigquery==3.25.0', 'google-cloud-bigtable==2.27.0', 'google-cloud-core==2.4.1', 'google-cloud-datastore==2.20.1', 'google-cloud-firestore==2.19.0', 'google-cloud-functions==1.18.1', 'google-cloud-iam==2.16.1', 'google-cloud-language==2.15.1', 'google-cloud-pubsub==2.27.1', 'google-cloud-resource-manager==1.13.1', 'google-cloud-storage==2.8.0', 'google-cloud-translate==3.17.0', 'google-colab==1.0.0', 'google-crc32c==1.6.0', 'google-genai==0.1.0', 'google-generativeai==0.8.3', 'google-pasta==0.2.0', 'google-resumable-media==2.7.2', 'google==2.0.3', 'googleapis-common-protos==1.66.0', 'googledrivedownloader==0.4', 'graphviz==0.20.3', 'greenlet==3.1.1', 'grpc-google-iam-v1==0.13.1', 'grpcio-status==1.62.3', 'grpcio==1.68.1', 'gspread-dataframe==3.3.1', 'gspread==6.0.2', 'gym-notices==0.0.8', 'gym==0.25.2', 'h11==0.14.0', 'h5netcdf==1.4.1', 'h5py==3.12.1', 'holidays==0.62', 'holoviews==1.20.0', 'html5lib==1.1', 'httpcore==1.0.7', 'httpimport==1.4.0', 'httplib2==0.22.0', 'httpx==0.28.1', 'huggingface-hub==0.26.5', 'humanize==4.11.0', 'hyperopt==0.2.7', 'ibis-framework==9.2.0', 'idna==3.10', 'imageio-ffmpeg==0.5.1', 'imageio==2.36.1', 'imagesize==1.4.1', 'imbalanced-learn==0.12.4', 'imgaug==0.4.0', 'immutabledict==4.2.1', 'importlib-metadata==8.5.0', 'importlib-resources==6.4.5', 'imutils==0.5.4', 'inflect==7.4.0', 'iniconfig==2.0.0', 'intel-cmplr-lib-ur==2025.0.3', 'intel-openmp==2025.0.3', 'ipyevents==2.0.2', 'ipyfilechooser==0.6.0', 'ipykernel==5.5.6', 'ipyleaflet==0.19.2', 'ipyparallel==8.8.0', 'ipython-genutils==0.2.0', 'ipython-sql==0.5.0', 'ipython==7.34.0', 'ipytree==0.2.2', 'ipywidgets==7.7.1', 'itsdangerous==2.2.0', 'jaraco.collections==5.1.0', 'jaraco.context==5.3.0', 'jaraco.functools==4.0.1', 'jaraco.text==3.12.1', 'jax-cuda12-pjrt==0.4.33', 'jax-cuda12-plugin==0.4.33', 'jax==0.4.33', 'jaxlib==0.4.33', 'jeepney==0.7.1', 'jellyfish==1.1.2', 'jieba==0.42.1', 'jinja2==3.1.4', 'jiter==0.8.2', 'joblib==1.4.2', 'jsonpatch==1.33', 'jsonpickle==4.0.0', 'jsonpointer==3.0.0', 'jsonschema-specifications==2024.10.1', 'jsonschema==4.23.0', 'jupyter-client==6.1.12', 'jupyter-console==6.1.0', 'jupyter-core==5.7.2', 'jupyter-leaflet==0.19.2', 'jupyter-server==1.24.0', 'jupyterlab-pygments==0.3.0', 'jupyterlab-widgets==3.0.13', 'kaggle==1.6.17', 'kagglehub==0.3.4', 'keras==3.5.0', 'keyring==23.5.0', 'kiwisolver==1.4.7', 'langchain-core==0.3.24', 'langchain-text-splitters==0.3.2', 'langchain==0.3.11', 'langcodes==3.5.0', 'langsmith==0.2.2', 'language-data==1.3.0', 'launchpadlib==1.10.16', 'lazr.restfulclient==0.14.4', 'lazr.uri==1.0.6', 'lazy-loader==0.4', 'libclang==18.1.1', 'libcudf-cu12==24.10.1', 'librosa==0.10.2.post1', 'lightgbm==4.5.0', 'linkify-it-py==2.0.3', 'llvmlite==0.43.0', 'locket==1.0.0', 'logical-unification==0.4.6', 'lxml==5.3.0', 'marisa-trie==1.2.1', 'markdown-it-py==3.0.0', 'markdown==3.7', 'markupsafe==3.0.2', 'matplotlib-inline==0.1.7', 'matplotlib-venn==1.1.1', 'matplotlib==3.8.0', 'mdit-py-plugins==0.4.2', 'mdurl==0.1.2', 'minikanren==1.0.3', 'missingno==0.5.2', 'mistune==3.0.2', 'mizani==0.13.1', 'mkl==2025.0.1', 'ml-dtypes==0.4.1', 'mlxtend==0.23.3', 'more-itertools==10.5.0', 'moviepy==1.0.3', 'mpmath==1.3.0', 'msgpack==1.1.0', 'multidict==6.1.0', 'multipledispatch==1.0.0', 'multitasking==0.0.11', 'murmurhash==1.0.11', 'music21==9.3.0', 'namex==0.0.8', 'narwhals==1.17.0', 'natsort==8.4.0', 'nbclassic==1.1.0', 'nbclient==0.10.1', 'nbconvert==7.16.4', 'nbformat==5.10.4', 'ndindex==1.9.2', 'nest-asyncio==1.6.0', 'networkx==3.4.2', 'nibabel==5.3.2', 'nltk==3.9.1', 'notebook-shim==0.2.4', 'notebook==6.5.5', 'numba==0.60.0', 'numexpr==2.10.2', 'numpy==1.26.4', 'nvidia-cublas-cu12==12.6.4.1', 'nvidia-cuda-cupti-cu12==12.6.80', 'nvidia-cuda-nvcc-cu12==12.6.85', 'nvidia-cuda-runtime-cu12==12.6.77', 'nvidia-cudnn-cu12==9.6.0.74', 'nvidia-cufft-cu12==11.3.0.4', 'nvidia-curand-cu12==10.3.7.77', 'nvidia-cusolver-cu12==11.7.1.2', 'nvidia-cusparse-cu12==12.5.4.2', 'nvidia-nccl-cu12==2.23.4', 'nvidia-nvjitlink-cu12==12.6.85', 'nvtx==0.2.10', 'nx-cugraph-cu12==24.10.0', 'oauth2client==4.1.3', 'oauthlib==3.2.2', 'openai==1.54.5', 'opencv-contrib-python==4.10.0.84', 'opencv-python-headless==4.10.0.84', 'opencv-python==4.10.0.84', 'openpyxl==3.1.5', 'opentelemetry-api==1.28.2', 'opentelemetry-sdk==1.28.2', 'opentelemetry-semantic-conventions==0.49b2', 'opt-einsum==3.4.0', 'optax==0.2.4', 'optree==0.13.1', 'orbax-checkpoint==0.6.4', 'orjson==3.10.12', 'osqp==0.6.7.post3', 'packaging==24.2', 'pandas-datareader==0.10.0', 'pandas-gbq==0.24.0', 'pandas-stubs==2.2.2.240909', 'pandas==2.2.2', 'pandocfilters==1.5.1', 'panel==1.5.4', 'param==2.1.1', 'parso==0.8.4', 'parsy==2.1', 'partd==1.4.2', 'pathlib==1.0.1', 'patsy==1.0.1', 'peewee==3.17.8', 'peft==0.13.2', 'pexpect==4.9.0', 'pickleshare==0.7.5', 'pillow==11.0.0', 'pip==24.1.2', 'platformdirs==4.3.6', 'plotly==5.24.1', 'plotnine==0.14.3', 'pluggy==1.5.0', 'ply==3.11', 'polars==1.9.0', 'pooch==1.8.2', 'portpicker==1.5.2', 'preshed==3.0.9', 'prettytable==3.12.0', 'proglog==0.1.10', 'progressbar2==4.5.0', 'prometheus-client==0.21.1', 'promise==2.3', 'prompt-toolkit==3.0.48', 'propcache==0.2.1', 'prophet==1.1.6', 'proto-plus==1.25.0', 'protobuf==4.25.5', 'psutil==5.9.5', 'psycopg2==2.9.10', 'ptyprocess==0.7.0', 'py-cpuinfo==9.0.0', 'py4j==0.10.9.7', 'pyarrow-hotfix==0.6', 'pyarrow==17.0.0', 'pyasn1-modules==0.4.1', 'pyasn1==0.6.1', 'pycocotools==2.0.8', 'pycparser==2.22', 'pydantic-core==2.27.1', 'pydantic==2.10.3', 'pydata-google-auth==1.9.0', 'pydot==3.0.3', 'pydotplus==2.0.2', 'pydrive2==1.21.3', 'pydrive==1.3.1', 'pyerfa==2.0.1.5', 'pygame==2.6.1', 'pygit2==1.16.0', 'pygments==2.18.0', 'pygobject==3.42.1', 'pyjwt==2.10.1', 'pylibcudf-cu12==24.10.1', 'pylibcugraph-cu12==24.10.0', 'pylibraft-cu12==24.10.0', 'pymc==5.18.2', 'pymystem3==0.2.0', 'pynvjitlink-cu12==0.4.0', 'pyogrio==0.10.0', 'pyomo==6.8.2', 'pyopengl==3.1.7', 'pyopenssl==24.2.1', 'pyparsing==3.2.0', 'pyperclip==1.9.0', 'pyproj==3.7.0', 'pyshp==2.3.1', 'pysocks==1.7.1', 'pyspark==3.5.3', 'pytensor==2.26.4', 'pytest==8.3.4', 'python-apt==0.0.0', 'python-box==7.3.0', 'python-dateutil==2.8.2', 'python-louvain==0.16', 'python-slugify==8.0.4', 'python-utils==3.9.1', 'pytz==2024.2', 'pyviz-comms==3.0.3', 'pyyaml==6.0.2', 'pyzmq==24.0.1', 'qdldl==0.1.7.post4', 'ratelim==0.1.6', 'referencing==0.35.1', 'regex==2024.9.11', 'requests-oauthlib==1.3.1', 'requests-toolbelt==1.0.0', 'requests==2.32.3', 'requirements-parser==0.9.0', 'rich==13.9.4', 'rmm-cu12==24.10.0', 'rpds-py==0.22.3', 'rpy2==3.4.2', 'rsa==4.9', 'safetensors==0.4.5', 'scikit-image==0.24.0', 'scikit-learn==1.5.2', 'scipy==1.13.1', 'scooby==0.10.0', 'scs==3.2.7', 'seaborn==0.13.2', 'secretstorage==3.3.1', 'semcluster==0.0.1', 'send2trash==1.8.3', 'sentence-transformers==3.2.1', 'sentencepiece==0.2.0', 'sentry-sdk==2.19.2', 'setproctitle==1.3.4', 'setuptools==75.1.0', 'shap==0.46.0', 'shapely==2.0.6', 'shellingham==1.5.4', 'simple-parsing==0.1.6', 'six==1.17.0', 'sklearn-pandas==2.2.0', 'slicer==0.0.8', 'smart-open==7.0.5', 'smmap==5.0.1', 'sniffio==1.3.1', 'snowballstemmer==2.2.0', 'soundfile==0.12.1', 'soupsieve==2.6', 'soxr==0.5.0.post1', 'spacy-legacy==3.0.12', 'spacy-loggers==1.0.5', 'spacy==3.7.5', 'sphinx==8.1.3', 'sphinxcontrib-applehelp==2.0.0', 'sphinxcontrib-devhelp==2.0.0', 'sphinxcontrib-htmlhelp==2.1.0', 'sphinxcontrib-jsmath==1.0.1', 'sphinxcontrib-qthelp==2.0.0', 'sphinxcontrib-serializinghtml==2.0.0', 'sqlalchemy==2.0.36', 'sqlglot==25.1.0', 'sqlparse==0.5.3', 'srsly==2.5.0', 'stanio==0.5.1', 'statsmodels==0.14.4', 'strenum==0.4.15', 'stringzilla==3.11.0', 'sympy==1.13.1', 'tables==3.10.1', 'tabulate==0.9.0', 'tbb==2022.0.0', 'tcmlib==1.2.0', 'tenacity==9.0.0', 'tensorboard-data-server==0.7.2', 'tensorboard==2.17.1', 'tensorflow-datasets==4.9.7', 'tensorflow-hub==0.16.1', 'tensorflow-io-gcs-filesystem==0.37.1', 'tensorflow-metadata==1.13.1', 'tensorflow-probability==0.24.0', 'tensorflow==2.17.1', 'tensorstore==0.1.69', 'termcolor==2.5.0', 'terminado==0.18.1', 'text-unidecode==1.3', 'textblob==0.17.1', 'tf-keras==2.17.0', 'tf-slim==1.1.0', 'thinc==8.2.5', 'threadpoolctl==3.5.0', 'tifffile==2024.9.20', 'timm==1.0.12', 'tinycss2==1.4.0', 'tokenizers==0.20.3', 'toml==0.10.2', 'tomli==2.2.1', 'toolz==0.12.1', 'torch==2.5.1+cu121', 'torchaudio==2.5.1+cu121', 'torchsummary==1.5.1', 'torchvision==0.20.1+cu121', 'tornado==6.3.3', 'tqdm==4.66.6', 'traitlets==5.7.1', 'traittypes==0.2.1', 'transformers==4.46.3', 'tweepy==4.14.0', 'typeguard==4.4.1', 'typer==0.15.1', 'types-pytz==2024.2.0.20241003', 'types-setuptools==75.6.0.20241126', 'typing-extensions==4.12.2', 'tzdata==2024.2', 'tzlocal==5.2', 'uc-micro-py==1.0.3', 'umf==0.9.1', 'uritemplate==4.1.1', 'urllib3==2.2.3', 'vega-datasets==0.9.0', 'wadllib==1.3.6', 'wandb==0.18.7', 'wasabi==1.1.3', 'wcwidth==0.2.13', 'weasel==0.4.1', 'webcolors==24.11.1', 'webencodings==0.5.1', 'websocket-client==1.8.0', 'websockets==14.1', 'werkzeug==3.1.3', 'wheel==0.45.1', 'widgetsnbextension==3.6.10', 'wordcloud==1.9.4', 'wrapt==1.17.0', 'xarray-einstats==0.8.0', 'xarray==2024.10.0', 'xgboost==2.1.3', 'xlrd==2.0.1', 'xyzservices==2024.9.0', 'yarl==1.18.3', 'yellowbrick==1.5', 'yfinance==0.2.50', 'zipp==3.21.0']\n"
          ]
        },
        {
          "output_type": "stream",
          "name": "stderr",
          "text": [
            "<ipython-input-1-d6f479cc150a>:1: DeprecationWarning: pkg_resources is deprecated as an API. See https://setuptools.pypa.io/en/latest/pkg_resources.html\n",
            "  import pkg_resources\n"
          ]
        }
      ]
    },
    {
      "cell_type": "code",
      "source": [],
      "metadata": {
        "id": "2a40OBNkLqLu"
      },
      "execution_count": null,
      "outputs": []
    },
    {
      "cell_type": "markdown",
      "source": [],
      "metadata": {
        "id": "HfuJPLPKLl5-"
      }
    }
  ]
}