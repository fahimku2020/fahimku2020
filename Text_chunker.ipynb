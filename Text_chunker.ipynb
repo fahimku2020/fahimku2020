{
  "nbformat": 4,
  "nbformat_minor": 0,
  "metadata": {
    "colab": {
      "provenance": [],
      "authorship_tag": "ABX9TyPvlqwJxXJFl8CYP4rThBA5",
      "include_colab_link": true
    },
    "kernelspec": {
      "name": "python3",
      "display_name": "Python 3"
    },
    "language_info": {
      "name": "python"
    }
  },
  "cells": [
    {
      "cell_type": "markdown",
      "metadata": {
        "id": "view-in-github",
        "colab_type": "text"
      },
      "source": [
        "<a href=\"https://colab.research.google.com/github/fahimku2020/fahimku2020/blob/main/Text_chunker.ipynb\" target=\"_parent\"><img src=\"https://colab.research.google.com/assets/colab-badge.svg\" alt=\"Open In Colab\"/></a>"
      ]
    },
    {
      "cell_type": "code",
      "execution_count": 6,
      "metadata": {
        "colab": {
          "base_uri": "https://localhost:8080/"
        },
        "id": "FrTGjQpgshF9",
        "outputId": "ee4ddb77-43b0-4a04-fc06-84962cc9cefb"
      },
      "outputs": [
        {
          "output_type": "stream",
          "name": "stdout",
          "text": [
            "Collecting text_chunker\n",
            "  Downloading text_chunker-0.2.2-py3-none-any.whl.metadata (2.1 kB)\n",
            "Downloading text_chunker-0.2.2-py3-none-any.whl (3.9 kB)\n",
            "Installing collected packages: text_chunker\n",
            "Successfully installed text_chunker-0.2.2\n"
          ]
        }
      ],
      "source": [
        "!pip install text_chunker"
      ]
    },
    {
      "cell_type": "code",
      "source": [
        "from text_chunker import TextChunker\n",
        "\n",
        "# Create a new TextChunker object with a maximum chunk length of 50 characters\n",
        "chunker = TextChunker(maxlen=100)\n",
        "\n",
        "# Chunk a long text string into smaller chunks\n",
        "text = \"   In 1982, he played double roles in the musical Satte Pe Satta and action drama Desh Premee which succeeded at the box office along with highly successful ventures like action comedy Namak Halaal, action drama Khud-Daar and the critically acclaimed drama Bemisal.[90] On 26 July 1982, while filming a fight scene with co-actor Puneet Issar for Coolie, Bachchan had a near-fatal intestinal injury.[91] Bachchan was performing his stunts in the film and one scene required him to fall onto a table and then on the ground. However, as he jumped towards the table, the corner of the table struck his abdomen, resulting in a splenic rupture from which he lost a significant amount of blood. He required an emergency splenectomy and remained critically ill in the hospital for many months, at times close to death. There were long queues of well-wishing fans outside the hospital where he was recuperating; the public response included prayers in places of worship and offers to sacrifice limbs to save him.[92] Nevertheless, he resumed filming later that year after a long period of recuperation. The director, Manmohan Desai, altered the ending of Coolie: Bachchan's character was originally intended to have been killed off; but, after the change of script, the character lived in the end. Desai felt it would have been inappropriate for the man who had just fended off death in real life to be killed on screen. The footage of the fight scene is frozen at the critical moment, and a caption appears onscreen marking it as the instant of the actor's injury.[93] The film was released in 1983, and partly due to the huge publicity of Bachchan's accident, it emerged a mega blockbuster and top-grossing film of the year.[94] He then played a triple role in S. Ramanathan's action drama Mahaan, which performed poorly at the box office.[95] Other releases that year included Nastik and Pukar which too didn't do that well, but Andhaa Kaanoon (in which he had a small role) was a blockbuster.[96] During a stint in politics from 1984 to 1987, five of his completed films were released, out of which, Manmohan Desai's action film Mard (1985) went on to become a massive blockbuster, followed by superhits, Sharaabi (1984) and Geraftaar (1985), a hit film, Aakhree Raasta (1986) and an average fare in Inquilaab (1984) to go with the major grossers.[97][98] After a three-year stint in politics from 1984 to 1987, Bachchan returned to films in 1988, playing the title role in Tinnu Anand's vigilante action film Shahenshah, which opened to bumper response all over the nation and emerged a huge hit as well as the second highest-grossing film of the year.[   .\"\n",
        "for chunk in chunker.chunk(text):\n",
        "    print(chunk)"
      ],
      "metadata": {
        "colab": {
          "base_uri": "https://localhost:8080/"
        },
        "id": "Wxc9up7ZskqW",
        "outputId": "0889806d-deab-4b70-fce7-9fa6f4c40b2b"
      },
      "execution_count": 8,
      "outputs": [
        {
          "output_type": "stream",
          "name": "stdout",
          "text": [
            "   In 1982, he played double roles in the musical Satte Pe Satta and action drama Desh Premee which \n",
            "succeeded at the box office along with highly successful ventures like action comedy Namak Halaal, \n",
            "action drama Khud-Daar and the critically acclaimed drama Bemisal.[90] On 26 July 1982, while \n",
            "filming a fight scene with co-actor Puneet Issar for Coolie, Bachchan had a near-fatal intestinal \n",
            "injury.[91] Bachchan was performing his stunts in the film and one scene required him to fall onto \n",
            "a table and then on the ground.\n",
            " However, as he jumped towards the table, the corner of the table struck his abdomen, resulting in \n",
            "a splenic rupture from which he lost a significant amount of blood.\n",
            " He required an emergency splenectomy and remained critically ill in the hospital for many months, \n",
            "at times close to death.\n",
            " There were long queues of well-wishing fans outside the hospital where he was recuperating; the \n",
            "public response included prayers in places of worship and offers to sacrifice limbs to save \n",
            "him.[92] Nevertheless, he resumed filming later that year after a long period of recuperation.\n",
            " The director, Manmohan Desai, altered the ending of Coolie: Bachchan's character was originally \n",
            "intended to have been killed off; but, after the change of script, the character lived in the end.\n",
            " Desai felt it would have been inappropriate for the man who had just fended off death in real life \n",
            "to be killed on screen.\n",
            " The footage of the fight scene is frozen at the critical moment, and a caption appears onscreen \n",
            "marking it as the instant of the actor's injury.[93] The film was released in 1983, and partly due \n",
            "to the huge publicity of Bachchan's accident, it emerged a mega blockbuster and top-grossing film \n",
            "of the year.[94] He then played a triple role in S.\n",
            " Ramanathan's action drama Mahaan, which performed poorly at the box office.[95] Other releases \n",
            "that year included Nastik and Pukar which too didn't do that well, but Andhaa Kaanoon (in which he \n",
            "had a small role) was a blockbuster.[96] During a stint in politics from 1984 to 1987, five of his \n",
            "completed films were released, out of which, Manmohan Desai's action film Mard (1985) went on to \n",
            "become a massive blockbuster, followed by superhits, Sharaabi (1984) and Geraftaar (1985), a hit \n",
            "film, Aakhree Raasta (1986) and an average fare in Inquilaab (1984) to go with the major \n",
            "grossers.[97][98] After a three-year stint in politics from 1984 to 1987, Bachchan returned to \n",
            "films in 1988, playing the title role in Tinnu Anand's vigilante action film Shahenshah, which \n",
            "opened to bumper response all over the nation and emerged a huge hit as well as the second \n",
            "highest-grossing film of the year.[   .\n"
          ]
        }
      ]
    },
    {
      "cell_type": "code",
      "source": [
        "from text_chunker import paragraphs\n",
        "\n",
        "for p in paragraphs(text):\n",
        "    print(p)"
      ],
      "metadata": {
        "colab": {
          "base_uri": "https://localhost:8080/"
        },
        "id": "ptGHBJUHwJV1",
        "outputId": "90d9fb77-9117-4560-efa3-d5731045e6e9"
      },
      "execution_count": 9,
      "outputs": [
        {
          "output_type": "stream",
          "name": "stdout",
          "text": [
            "   In 1982, he played double roles in the musical Satte Pe Satta and action drama Desh Premee which succeeded at the box office along with highly successful ventures like action comedy Namak Halaal, action drama Khud-Daar and the critically acclaimed drama Bemisal.[90] On 26 July 1982, while filming a fight scene with co-actor Puneet Issar for Coolie, Bachchan had a near-fatal intestinal injury.[91] Bachchan was performing his stunts in the film and one scene required him to fall onto a table and then on the ground. However, as he jumped towards the table, the corner of the table struck his abdomen, resulting in a splenic rupture from which he lost a significant amount of blood. He required an emergency splenectomy and remained critically ill in the hospital for many months, at times close to death. There were long queues of well-wishing fans outside the hospital where he was recuperating; the public response included prayers in places of worship and offers to sacrifice limbs to save him.[92] Nevertheless, he resumed filming later that year after a long period of recuperation. The director, Manmohan Desai, altered the ending of Coolie: Bachchan's character was originally intended to have been killed off; but, after the change of script, the character lived in the end. Desai felt it would have been inappropriate for the man who had just fended off death in real life to be killed on screen. The footage of the fight scene is frozen at the critical moment, and a caption appears onscreen marking it as the instant of the actor's injury.[93] The film was released in 1983, and partly due to the huge publicity of Bachchan's accident, it emerged a mega blockbuster and top-grossing film of the year.[94] He then played a triple role in S. Ramanathan's action drama Mahaan, which performed poorly at the box office.[95] Other releases that year included Nastik and Pukar which too didn't do that well, but Andhaa Kaanoon (in which he had a small role) was a blockbuster.[96] During a stint in politics from 1984 to 1987, five of his completed films were released, out of which, Manmohan Desai's action film Mard (1985) went on to become a massive blockbuster, followed by superhits, Sharaabi (1984) and Geraftaar (1985), a hit film, Aakhree Raasta (1986) and an average fare in Inquilaab (1984) to go with the major grossers.[97][98] After a three-year stint in politics from 1984 to 1987, Bachchan returned to films in 1988, playing the title role in Tinnu Anand's vigilante action film Shahenshah, which opened to bumper response all over the nation and emerged a huge hit as well as the second highest-grossing film of the year.[   .\n"
          ]
        }
      ]
    },
    {
      "cell_type": "code",
      "source": [],
      "metadata": {
        "id": "HEqfmXbrwS7V"
      },
      "execution_count": null,
      "outputs": []
    },
    {
      "cell_type": "code",
      "source": [
        "import nltk\n",
        "nltk.download('punkt_tab')"
      ],
      "metadata": {
        "colab": {
          "base_uri": "https://localhost:8080/"
        },
        "id": "YqV8_ne5wSu-",
        "outputId": "829fb509-de78-435b-e161-8c90dcdddcfc"
      },
      "execution_count": 11,
      "outputs": [
        {
          "output_type": "stream",
          "name": "stderr",
          "text": [
            "[nltk_data] Downloading package punkt_tab to /root/nltk_data...\n",
            "[nltk_data]   Unzipping tokenizers/punkt_tab.zip.\n"
          ]
        },
        {
          "output_type": "execute_result",
          "data": {
            "text/plain": [
              "True"
            ]
          },
          "metadata": {},
          "execution_count": 11
        }
      ]
    },
    {
      "cell_type": "code",
      "source": [
        "from text_chunker import sentences\n",
        "\n",
        "for s in sentences(text):\n",
        "    print(s)"
      ],
      "metadata": {
        "colab": {
          "base_uri": "https://localhost:8080/"
        },
        "id": "Wy5mTOyuwMNU",
        "outputId": "8484f57b-739d-4b5b-a833-73873f477f64"
      },
      "execution_count": 12,
      "outputs": [
        {
          "output_type": "stream",
          "name": "stdout",
          "text": [
            "   In 1982, he played double roles in the musical Satte Pe Satta and action drama Desh Premee which succeeded at the box office along with highly successful ventures like action comedy Namak Halaal, action drama Khud-Daar and the critically acclaimed drama Bemisal.\n",
            "[90] On 26 July 1982, while filming a fight scene with co-actor Puneet Issar for Coolie, Bachchan had a near-fatal intestinal injury.\n",
            "[91] Bachchan was performing his stunts in the film and one scene required him to fall onto a table and then on the ground.\n",
            "However, as he jumped towards the table, the corner of the table struck his abdomen, resulting in a splenic rupture from which he lost a significant amount of blood.\n",
            "He required an emergency splenectomy and remained critically ill in the hospital for many months, at times close to death.\n",
            "There were long queues of well-wishing fans outside the hospital where he was recuperating; the public response included prayers in places of worship and offers to sacrifice limbs to save him.\n",
            "[92] Nevertheless, he resumed filming later that year after a long period of recuperation.\n",
            "The director, Manmohan Desai, altered the ending of Coolie: Bachchan's character was originally intended to have been killed off; but, after the change of script, the character lived in the end.\n",
            "Desai felt it would have been inappropriate for the man who had just fended off death in real life to be killed on screen.\n",
            "The footage of the fight scene is frozen at the critical moment, and a caption appears onscreen marking it as the instant of the actor's injury.\n",
            "[93] The film was released in 1983, and partly due to the huge publicity of Bachchan's accident, it emerged a mega blockbuster and top-grossing film of the year.\n",
            "[94] He then played a triple role in S. Ramanathan's action drama Mahaan, which performed poorly at the box office.\n",
            "[95] Other releases that year included Nastik and Pukar which too didn't do that well, but Andhaa Kaanoon (in which he had a small role) was a blockbuster.\n",
            "[96] During a stint in politics from 1984 to 1987, five of his completed films were released, out of which, Manmohan Desai's action film Mard (1985) went on to become a massive blockbuster, followed by superhits, Sharaabi (1984) and Geraftaar (1985), a hit film, Aakhree Raasta (1986) and an average fare in Inquilaab (1984) to go with the major grossers.\n",
            "[97][98] After a three-year stint in politics from 1984 to 1987, Bachchan returned to films in 1988, playing the title role in Tinnu Anand's vigilante action film Shahenshah, which opened to bumper response all over the nation and emerged a huge hit as well as the second highest-grossing film of the year.\n",
            "[   .\n"
          ]
        }
      ]
    },
    {
      "cell_type": "markdown",
      "source": [],
      "metadata": {
        "id": "ZQJDZnltwJAz"
      }
    }
  ]
}