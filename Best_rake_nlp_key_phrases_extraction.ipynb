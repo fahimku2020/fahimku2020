{
  "nbformat": 4,
  "nbformat_minor": 0,
  "metadata": {
    "colab": {
      "provenance": [],
      "authorship_tag": "ABX9TyMINHDIPMDXXCBkG1JflxXT",
      "include_colab_link": true
    },
    "kernelspec": {
      "name": "python3",
      "display_name": "Python 3"
    },
    "language_info": {
      "name": "python"
    }
  },
  "cells": [
    {
      "cell_type": "markdown",
      "metadata": {
        "id": "view-in-github",
        "colab_type": "text"
      },
      "source": [
        "<a href=\"https://colab.research.google.com/github/fahimku2020/fahimku2020/blob/main/Best_rake_nlp_key_phrases_extraction.ipynb\" target=\"_parent\"><img src=\"https://colab.research.google.com/assets/colab-badge.svg\" alt=\"Open In Colab\"/></a>"
      ]
    },
    {
      "cell_type": "code",
      "source": [
        "!pip install rake-nltk"
      ],
      "metadata": {
        "colab": {
          "base_uri": "https://localhost:8080/"
        },
        "id": "H5l6fH27HytT",
        "outputId": "d28e33bc-dcbf-4689-b484-4eefa11e992a"
      },
      "execution_count": 20,
      "outputs": [
        {
          "output_type": "stream",
          "name": "stdout",
          "text": [
            "Collecting rake-nltk\n",
            "  Downloading rake_nltk-1.0.6-py3-none-any.whl.metadata (6.4 kB)\n",
            "Requirement already satisfied: nltk<4.0.0,>=3.6.2 in /usr/local/lib/python3.10/dist-packages (from rake-nltk) (3.9.1)\n",
            "Requirement already satisfied: click in /usr/local/lib/python3.10/dist-packages (from nltk<4.0.0,>=3.6.2->rake-nltk) (8.1.7)\n",
            "Requirement already satisfied: joblib in /usr/local/lib/python3.10/dist-packages (from nltk<4.0.0,>=3.6.2->rake-nltk) (1.4.2)\n",
            "Requirement already satisfied: regex>=2021.8.3 in /usr/local/lib/python3.10/dist-packages (from nltk<4.0.0,>=3.6.2->rake-nltk) (2024.9.11)\n",
            "Requirement already satisfied: tqdm in /usr/local/lib/python3.10/dist-packages (from nltk<4.0.0,>=3.6.2->rake-nltk) (4.66.6)\n",
            "Downloading rake_nltk-1.0.6-py3-none-any.whl (9.1 kB)\n",
            "Installing collected packages: rake-nltk\n",
            "Successfully installed rake-nltk-1.0.6\n"
          ]
        }
      ]
    },
    {
      "cell_type": "code",
      "source": [
        "import nltk\n",
        "nltk.download('stopwords')\n",
        "nltk.download('punkt_tab')"
      ],
      "metadata": {
        "colab": {
          "base_uri": "https://localhost:8080/"
        },
        "id": "HZG228jBMlhv",
        "outputId": "b7d6073b-873a-4285-fabe-132da56babc4"
      },
      "execution_count": 27,
      "outputs": [
        {
          "output_type": "stream",
          "name": "stderr",
          "text": [
            "[nltk_data] Downloading package stopwords to /root/nltk_data...\n",
            "[nltk_data]   Package stopwords is already up-to-date!\n",
            "[nltk_data] Downloading package punkt_tab to /root/nltk_data...\n",
            "[nltk_data]   Unzipping tokenizers/punkt_tab.zip.\n"
          ]
        },
        {
          "output_type": "execute_result",
          "data": {
            "text/plain": [
              "True"
            ]
          },
          "metadata": {},
          "execution_count": 27
        }
      ]
    },
    {
      "cell_type": "markdown",
      "source": [],
      "metadata": {
        "id": "i0tt00SAMlML"
      }
    },
    {
      "cell_type": "code",
      "source": [
        "from rake_nltk import Rake\n",
        "\n",
        "# Uses stopwords for english from NLTK, and all puntuation characters by\n",
        "# default\n",
        "r = Rake()"
      ],
      "metadata": {
        "id": "U4p6gO40MgkG"
      },
      "execution_count": 23,
      "outputs": []
    },
    {
      "cell_type": "code",
      "source": [
        "\n",
        "r.extract_keywords_from_text(\"  Amitabh Bachchan born Amitabh Srivastava;[1] 11 October 1942[7]) is an Indian actor who works in Hindi cinema. He is often considered one of the greatest, most accomplished and commercially successful actors in the history of Indian cinema.[8] With a cinematic career spanning over five decades, he has played pivotal roles in over 200 films. Bachchan is often hailed as the Shahenshah of Bollywood, Sadi Ke Mahanayak (translated as Greatest actor of the century in Hindi), Star of the Millennium, or simply Big B.[9] His dominance in the Indian film industry during the 1970s–80s led the French director François Truffaut to describe it as a one-man industry.[10] He is a recipient of several accolades including six National Film Awards and sixteen Filmfare Awards.   Bachchan has won numerous accolades in his career, including record four National Film Awards in Best Actor category and many awards at international film festivals and award ceremonies. He has won sixteen Filmfare Awards and is the most nominated performer in any major acting category at Filmfare with 34 nominations in Best Actor and 42 nominations overall. The Government of India honoured him with the Padma Shri in 1984, the Padma Bhushan in 2001, the Padma Vibhushan in 2015, and India's highest award in the field of cinema, the Dadasaheb Phalke Award in 2018 for his contributions to the arts. The Government of France honoured him with its highest civilian honour, Officer of the Legion of Honour, in 2007 for his exceptional career in the world of cinema and beyond.In addition to acting, Bachchan has worked as a playback singer, film producer, and television presenter. He has hosted several seasons of the game show Kaun Banega Crorepati, India's version of the game show franchise, Who Wants to Be a Millionaire?. He also entered politics for a time in the 1980s. Bachchan has also been involved in several humanitarian works and he is a leading brand endorser in India. Beyond the Indian subcontinent, he acquired a large overseas following of the South Asian diaspora, as well as others, in markets including Africa (South Africa, Eastern Africa, and Mauritius), the Middle East (especially Egypt and the UAE), the United Kingdom, Russia, Central Asia, the Caribbean (Guyana, Suriname, and Trinidad and Tobago), Oceania (Fiji, Australia, and New Zealand), Canada and the United States.[  \")"
      ],
      "metadata": {
        "id": "tVXocr_oMghV"
      },
      "execution_count": 37,
      "outputs": []
    },
    {
      "cell_type": "code",
      "source": [
        "\n",
        "r.get_ranked_phrases()\n",
        "#r.get_ranked_phrases_with_scores()\n"
      ],
      "metadata": {
        "colab": {
          "base_uri": "https://localhost:8080/"
        },
        "id": "dbd_AaJRMgd_",
        "outputId": "665aee7b-9390-46ec-a788-b1894ed81c39"
      },
      "execution_count": 38,
      "outputs": [
        {
          "output_type": "execute_result",
          "data": {
            "text/plain": [
              "['amitabh bachchan born amitabh srivastava ;[ 1',\n",
              " 'several accolades including six national film awards',\n",
              " 'including record four national film awards',\n",
              " 'game show kaun banega crorepati',\n",
              " 'french director françois truffaut',\n",
              " '1970s – 80s led',\n",
              " 'new zealand ), canada',\n",
              " 'game show franchise',\n",
              " 'markets including africa',\n",
              " 'hosted several seasons',\n",
              " 'international film festivals',\n",
              " 'sixteen filmfare awards',\n",
              " 'sixteen filmfare awards',\n",
              " 'several humanitarian works',\n",
              " 'simply big b',\n",
              " 'sadi ke mahanayak',\n",
              " 'played pivotal roles',\n",
              " 'leading brand endorser',\n",
              " 'large overseas following',\n",
              " 'commercially successful actors',\n",
              " '11 october 1942',\n",
              " 'indian film industry',\n",
              " 'tobago ), oceania',\n",
              " 'south asian diaspora',\n",
              " '42 nominations overall',\n",
              " 'dadasaheb phalke award',\n",
              " 'hindi ), star',\n",
              " 'major acting category',\n",
              " 'cinematic career spanning',\n",
              " 'also entered politics',\n",
              " 'best actor category',\n",
              " 'often considered one',\n",
              " 'highest civilian honour',\n",
              " 'numerous accolades',\n",
              " 'many awards',\n",
              " 'film producer',\n",
              " 'south africa',\n",
              " 'highest award',\n",
              " 'uae ),',\n",
              " 'mauritius ),',\n",
              " 'best actor',\n",
              " 'often hailed',\n",
              " 'man industry',\n",
              " 'indian actor',\n",
              " '34 nominations',\n",
              " 'eastern africa',\n",
              " 'award ceremonies',\n",
              " 'indian subcontinent',\n",
              " 'united states',\n",
              " 'united kingdom',\n",
              " 'television presenter',\n",
              " 'playback singer',\n",
              " 'padma vibhushan',\n",
              " 'padma shri',\n",
              " 'padma bhushan',\n",
              " 'nominated performer',\n",
              " 'millionaire ?.',\n",
              " 'middle east',\n",
              " 'hindi cinema',\n",
              " 'france honoured',\n",
              " 'five decades',\n",
              " 'exceptional career',\n",
              " 'especially egypt',\n",
              " 'central asia',\n",
              " '7 ])',\n",
              " '200 films',\n",
              " 'indian cinema',\n",
              " 'greatest actor',\n",
              " 'india honoured',\n",
              " 'filmfare',\n",
              " 'bachchan',\n",
              " 'bachchan',\n",
              " 'bachchan',\n",
              " 'bachchan',\n",
              " 'works',\n",
              " 'one',\n",
              " 'honour',\n",
              " 'career',\n",
              " 'also',\n",
              " 'acting',\n",
              " 'greatest',\n",
              " 'cinema',\n",
              " 'cinema',\n",
              " 'india',\n",
              " 'india',\n",
              " 'india',\n",
              " 'world',\n",
              " 'worked',\n",
              " 'well',\n",
              " 'wants',\n",
              " 'version',\n",
              " 'trinidad',\n",
              " 'translated',\n",
              " 'time',\n",
              " 'suriname',\n",
              " 'shahenshah',\n",
              " 'russia',\n",
              " 'recipient',\n",
              " 'others',\n",
              " 'officer',\n",
              " 'millennium',\n",
              " 'legion',\n",
              " 'involved',\n",
              " 'history',\n",
              " 'guyana',\n",
              " 'government',\n",
              " 'government',\n",
              " 'fiji',\n",
              " 'field',\n",
              " 'dominance',\n",
              " 'describe',\n",
              " 'contributions',\n",
              " 'century',\n",
              " 'caribbean',\n",
              " 'bollywood',\n",
              " 'beyond',\n",
              " 'beyond',\n",
              " 'australia',\n",
              " 'arts',\n",
              " 'addition',\n",
              " 'acquired',\n",
              " 'accomplished',\n",
              " '9',\n",
              " '8',\n",
              " '2018',\n",
              " '2015',\n",
              " '2007',\n",
              " '2001',\n",
              " '1984',\n",
              " '1980s',\n",
              " '10']"
            ]
          },
          "metadata": {},
          "execution_count": 38
        }
      ]
    },
    {
      "cell_type": "code",
      "source": [
        "r.get_ranked_phrases_with_scores()"
      ],
      "metadata": {
        "colab": {
          "base_uri": "https://localhost:8080/"
        },
        "id": "hHP7ZOUGMgTR",
        "outputId": "5dc69a16-cb0c-4304-c608-55e31e0e372e"
      },
      "execution_count": 39,
      "outputs": [
        {
          "output_type": "execute_result",
          "data": {
            "text/plain": [
              "[(44.2, 'amitabh bachchan born amitabh srivastava ;[ 1'),\n",
              " (36.06666666666666, 'several accolades including six national film awards'),\n",
              " (32.233333333333334, 'including record four national film awards'),\n",
              " (23.0, 'game show kaun banega crorepati'),\n",
              " (16.0, 'french director françois truffaut'),\n",
              " (16.0, '1970s – 80s led'),\n",
              " (14.8, 'new zealand ), canada'),\n",
              " (11.0, 'game show franchise'),\n",
              " (10.666666666666666, 'markets including africa'),\n",
              " (10.333333333333332, 'hosted several seasons'),\n",
              " (10.2, 'international film festivals'),\n",
              " (9.533333333333335, 'sixteen filmfare awards'),\n",
              " (9.533333333333335, 'sixteen filmfare awards'),\n",
              " (9.333333333333332, 'several humanitarian works'),\n",
              " (9.0, 'simply big b'),\n",
              " (9.0, 'sadi ke mahanayak'),\n",
              " (9.0, 'played pivotal roles'),\n",
              " (9.0, 'leading brand endorser'),\n",
              " (9.0, 'large overseas following'),\n",
              " (9.0, 'commercially successful actors'),\n",
              " (9.0, '11 october 1942'),\n",
              " (8.95, 'indian film industry'),\n",
              " (8.8, 'tobago ), oceania'),\n",
              " (8.5, 'south asian diaspora'),\n",
              " (8.5, '42 nominations overall'),\n",
              " (8.333333333333334, 'dadasaheb phalke award'),\n",
              " (8.3, 'hindi ), star'),\n",
              " (8.0, 'major acting category'),\n",
              " (8.0, 'cinematic career spanning'),\n",
              " (8.0, 'also entered politics'),\n",
              " (7.75, 'best actor category'),\n",
              " (7.5, 'often considered one'),\n",
              " (7.5, 'highest civilian honour'),\n",
              " (6.5, 'numerous accolades'),\n",
              " (6.2, 'many awards'),\n",
              " (6.2, 'film producer'),\n",
              " (4.833333333333334, 'south africa'),\n",
              " (4.833333333333334, 'highest award'),\n",
              " (4.8, 'uae ),'),\n",
              " (4.8, 'mauritius ),'),\n",
              " (4.75, 'best actor'),\n",
              " (4.5, 'often hailed'),\n",
              " (4.5, 'man industry'),\n",
              " (4.5, 'indian actor'),\n",
              " (4.5, '34 nominations'),\n",
              " (4.333333333333334, 'eastern africa'),\n",
              " (4.333333333333334, 'award ceremonies'),\n",
              " (4.25, 'indian subcontinent'),\n",
              " (4.0, 'united states'),\n",
              " (4.0, 'united kingdom'),\n",
              " (4.0, 'television presenter'),\n",
              " (4.0, 'playback singer'),\n",
              " (4.0, 'padma vibhushan'),\n",
              " (4.0, 'padma shri'),\n",
              " (4.0, 'padma bhushan'),\n",
              " (4.0, 'nominated performer'),\n",
              " (4.0, 'millionaire ?.'),\n",
              " (4.0, 'middle east'),\n",
              " (4.0, 'hindi cinema'),\n",
              " (4.0, 'france honoured'),\n",
              " (4.0, 'five decades'),\n",
              " (4.0, 'exceptional career'),\n",
              " (4.0, 'especially egypt'),\n",
              " (4.0, 'central asia'),\n",
              " (4.0, '7 ])'),\n",
              " (4.0, '200 films'),\n",
              " (3.75, 'indian cinema'),\n",
              " (3.75, 'greatest actor'),\n",
              " (3.25, 'india honoured'),\n",
              " (2.3333333333333335, 'filmfare'),\n",
              " (2.2, 'bachchan'),\n",
              " (2.2, 'bachchan'),\n",
              " (2.2, 'bachchan'),\n",
              " (2.2, 'bachchan'),\n",
              " (2.0, 'works'),\n",
              " (2.0, 'one'),\n",
              " (2.0, 'honour'),\n",
              " (2.0, 'career'),\n",
              " (2.0, 'also'),\n",
              " (2.0, 'acting'),\n",
              " (1.5, 'greatest'),\n",
              " (1.5, 'cinema'),\n",
              " (1.5, 'cinema'),\n",
              " (1.25, 'india'),\n",
              " (1.25, 'india'),\n",
              " (1.25, 'india'),\n",
              " (1.0, 'world'),\n",
              " (1.0, 'worked'),\n",
              " (1.0, 'well'),\n",
              " (1.0, 'wants'),\n",
              " (1.0, 'version'),\n",
              " (1.0, 'trinidad'),\n",
              " (1.0, 'translated'),\n",
              " (1.0, 'time'),\n",
              " (1.0, 'suriname'),\n",
              " (1.0, 'shahenshah'),\n",
              " (1.0, 'russia'),\n",
              " (1.0, 'recipient'),\n",
              " (1.0, 'others'),\n",
              " (1.0, 'officer'),\n",
              " (1.0, 'millennium'),\n",
              " (1.0, 'legion'),\n",
              " (1.0, 'involved'),\n",
              " (1.0, 'history'),\n",
              " (1.0, 'guyana'),\n",
              " (1.0, 'government'),\n",
              " (1.0, 'government'),\n",
              " (1.0, 'fiji'),\n",
              " (1.0, 'field'),\n",
              " (1.0, 'dominance'),\n",
              " (1.0, 'describe'),\n",
              " (1.0, 'contributions'),\n",
              " (1.0, 'century'),\n",
              " (1.0, 'caribbean'),\n",
              " (1.0, 'bollywood'),\n",
              " (1.0, 'beyond'),\n",
              " (1.0, 'beyond'),\n",
              " (1.0, 'australia'),\n",
              " (1.0, 'arts'),\n",
              " (1.0, 'addition'),\n",
              " (1.0, 'acquired'),\n",
              " (1.0, 'accomplished'),\n",
              " (1.0, '9'),\n",
              " (1.0, '8'),\n",
              " (1.0, '2018'),\n",
              " (1.0, '2015'),\n",
              " (1.0, '2007'),\n",
              " (1.0, '2001'),\n",
              " (1.0, '1984'),\n",
              " (1.0, '1980s'),\n",
              " (1.0, '10')]"
            ]
          },
          "metadata": {},
          "execution_count": 39
        }
      ]
    },
    {
      "cell_type": "code",
      "source": [],
      "metadata": {
        "id": "JnKSKQJ2MgHj"
      },
      "execution_count": null,
      "outputs": []
    },
    {
      "cell_type": "markdown",
      "source": [],
      "metadata": {
        "id": "BpSG_7wyMf4H"
      }
    },
    {
      "cell_type": "markdown",
      "source": [],
      "metadata": {
        "id": "NcX0pC7vHycs"
      }
    }
  ]
}