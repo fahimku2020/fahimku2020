{
  "nbformat": 4,
  "nbformat_minor": 0,
  "metadata": {
    "colab": {
      "provenance": [],
      "gpuType": "T4",
      "authorship_tag": "ABX9TyOX9VXhmfwmJkGjc5vIXwqx",
      "include_colab_link": true
    },
    "kernelspec": {
      "name": "python3",
      "display_name": "Python 3"
    },
    "language_info": {
      "name": "python"
    },
    "accelerator": "GPU"
  },
  "cells": [
    {
      "cell_type": "markdown",
      "metadata": {
        "id": "view-in-github",
        "colab_type": "text"
      },
      "source": [
        "<a href=\"https://colab.research.google.com/github/fahimku2020/fahimku2020/blob/main/Best_semantic_chunking_by_transformers.ipynb\" target=\"_parent\"><img src=\"https://colab.research.google.com/assets/colab-badge.svg\" alt=\"Open In Colab\"/></a>"
      ]
    },
    {
      "cell_type": "code",
      "source": [
        "!pip install  wikipedia"
      ],
      "metadata": {
        "colab": {
          "base_uri": "https://localhost:8080/"
        },
        "id": "jRFkcoLun7qi",
        "outputId": "cb4c6f77-70b9-42d7-add7-a3149663ee67"
      },
      "execution_count": null,
      "outputs": [
        {
          "output_type": "stream",
          "name": "stdout",
          "text": [
            "Collecting wikipedia\n",
            "  Downloading wikipedia-1.4.0.tar.gz (27 kB)\n",
            "  Preparing metadata (setup.py) ... \u001b[?25l\u001b[?25hdone\n",
            "Requirement already satisfied: beautifulsoup4 in /usr/local/lib/python3.10/dist-packages (from wikipedia) (4.12.3)\n",
            "Requirement already satisfied: requests<3.0.0,>=2.0.0 in /usr/local/lib/python3.10/dist-packages (from wikipedia) (2.32.3)\n",
            "Requirement already satisfied: charset-normalizer<4,>=2 in /usr/local/lib/python3.10/dist-packages (from requests<3.0.0,>=2.0.0->wikipedia) (3.4.0)\n",
            "Requirement already satisfied: idna<4,>=2.5 in /usr/local/lib/python3.10/dist-packages (from requests<3.0.0,>=2.0.0->wikipedia) (3.10)\n",
            "Requirement already satisfied: urllib3<3,>=1.21.1 in /usr/local/lib/python3.10/dist-packages (from requests<3.0.0,>=2.0.0->wikipedia) (2.2.3)\n",
            "Requirement already satisfied: certifi>=2017.4.17 in /usr/local/lib/python3.10/dist-packages (from requests<3.0.0,>=2.0.0->wikipedia) (2024.12.14)\n",
            "Requirement already satisfied: soupsieve>1.2 in /usr/local/lib/python3.10/dist-packages (from beautifulsoup4->wikipedia) (2.6)\n",
            "Building wheels for collected packages: wikipedia\n",
            "  Building wheel for wikipedia (setup.py) ... \u001b[?25l\u001b[?25hdone\n",
            "  Created wheel for wikipedia: filename=wikipedia-1.4.0-py3-none-any.whl size=11679 sha256=91e68e0f6dcf19d56e4d79118bf99aad58b95ff660423567e9e8177170a9f679\n",
            "  Stored in directory: /root/.cache/pip/wheels/5e/b6/c5/93f3dec388ae76edc830cb42901bb0232504dfc0df02fc50de\n",
            "Successfully built wikipedia\n",
            "Installing collected packages: wikipedia\n",
            "Successfully installed wikipedia-1.4.0\n"
          ]
        }
      ]
    },
    {
      "cell_type": "markdown",
      "source": [],
      "metadata": {
        "id": "vJDuy8PHn7bk"
      }
    },
    {
      "cell_type": "code",
      "source": [
        "# importing the module\n",
        "import wikipedia\n",
        "\n",
        "# finding result for the search\n",
        "# sentences = 2 refers to numbers of line\n",
        "input_text = wikipedia.summary(\"Amitabh  Bachan \")\n",
        "\n",
        "# printing the result\n",
        "print(input_text)\n"
      ],
      "metadata": {
        "colab": {
          "base_uri": "https://localhost:8080/"
        },
        "id": "3sEsmXEunsus",
        "outputId": "2bd4acbf-553b-4505-827c-5caf86505875"
      },
      "execution_count": null,
      "outputs": [
        {
          "output_type": "stream",
          "name": "stdout",
          "text": [
            "Amitabh Bachchan (pronounced [əmɪˈt̪ɑːbʱ ˈbətːʃən] ; born Amitabh Srivastava; 11 October 1942) is an Indian actor who works in Hindi cinema. He is often considered one of the greatest, most accomplished and commercially successful actors in the history of Indian cinema. With a cinematic career spanning over five decades, he has played pivotal roles in over 200 films. Bachchan is often hailed as the Shahenshah of Bollywood, Sadi Ke Mahanayak (translated as \"Greatest actor of the century\" in Hindi), Star of the Millennium, or simply Big B. His dominance in the Indian film industry during the 1970s–80s led the French director François Truffaut to describe it as a \"one-man industry\". He is a recipient of several accolades including six National Film Awards and sixteen Filmfare Awards.\n",
            "Amitabh Bachchan was born in 1942 in Allahabad (now Prayagraj) to the Hindi poet Harivansh Rai Bachchan and his wife, the social activist Teji Bachchan. He was educated at Sherwood College, Nainital, and Kirori Mal College, University of Delhi. His film career started in 1969 as a voice narrator in Mrinal Sen's film Bhuvan Shome. He first gained popularity in the early-1970s for films, such as Anand, Zanjeer and Roti Kapada Aur Makaan, and achieved greater stardom in later years, being dubbed India's \"Angry Young Man\" for several of his on-screen roles in Hindi films. He consistently starred in top–grossing Indian films from the mid-1970s to the 1980s, such as Deewaar, Sholay, Kabhi Kabhie, Hera Pheri, Amar Akbar Anthony, Parvarish, Kasme Vaade, Don, Trishul, Muqaddar Ka Sikandar, Suhaag, Dostana, Naseeb, Laawaris, Namak Halaal, Andhaa Kaanoon, Coolie, Sharaabi and Mard, as well as some of his most acclaimed performances, include Namak Haraam, Abhimaan, Majboor, Mili, Chupke Chupke, Do Anjaane, Kaala Patthar, Shaan, Silsila, Yaarana, Kaalia, Shakti, Aakhree Raasta, Shahenshah and Agneepath. After taking a break from acting in the 1990s, his resurgence was marked in 2000 with Mohabbatein. Since then he starred in several successful and acclaimed films like Kabhi Khushi Kabhie Gham, Aankhen, Baghban, Khakee, Black, Bunty Aur Babli, Sarkar, Kabhi Alvida Naa Kehna, Bhoothnath, Cheeni Kum, Paa, Piku, Pink, Badla, Brahmāstra: Part One – Shiva and Kalki 2898 AD. For Piku, he won his fourth National Film Award for Best Actor, making him the only actor to do so. Bachchan also made an appearance in a Hollywood film, The Great Gatsby (2013), in which he played a non-Indian Jewish character.\n",
            "Bachchan has won numerous accolades in his career, including record four National Film Awards in Best Actor category and many awards at international film festivals and award ceremonies. He has won sixteen Filmfare Awards and is the most nominated performer in any major acting category at Filmfare with 34 nominations in Best Actor and 42 nominations overall. The Government of India honoured him with the Padma Shri in 1984, the Padma Bhushan in 2001, the Padma Vibhushan in 2015, and India's highest award in the field of cinema, the Dadasaheb Phalke Award in 2018 for his contributions to the arts. The Government of France honoured him with its highest civilian honour, Officer of the Legion of Honour, in 2007 for his exceptional career in the world of cinema and beyond.\n",
            "In addition to acting, Bachchan has worked as a playback singer, film producer, and television presenter. He has hosted several seasons of the game show Kaun Banega Crorepati, India's version of the game show franchise, Who Wants to Be a Millionaire?. He also entered politics for a time in the 1980s. Bachchan has also been involved in several humanitarian works and he is a leading brand endorser in India. Beyond the Indian subcontinent, he acquired a large overseas following of the South Asian diaspora, as well as others, in markets including Africa (South Africa, Eastern Africa, and Mauritius), the Middle East (especially Egypt and the UAE), the United Kingdom, Russia, Central Asia, the Caribbean (Guyana, Suriname, and Trinidad and Tobago), Oceania (Fiji, Australia, and New Zealand), Canada and the United States. Bachchan was voted the \"greatest star of stage or screen\" in the BBC Your Millennium online poll in 1999. In October 2003, Time magazine dubbed Bachchan the \"Star of the Millennium\".\n"
          ]
        }
      ]
    },
    {
      "cell_type": "code",
      "source": [
        "!pip install semantic-chunking"
      ],
      "metadata": {
        "colab": {
          "base_uri": "https://localhost:8080/",
          "height": 984
        },
        "id": "yjUueXgKpLFX",
        "outputId": "05e4b382-5e01-4854-ba29-47f1bd681496"
      },
      "execution_count": null,
      "outputs": [
        {
          "output_type": "stream",
          "name": "stdout",
          "text": [
            "Collecting semantic-chunking\n",
            "  Downloading semantic_chunking-0.1.1-py3-none-any.whl.metadata (1.9 kB)\n",
            "Requirement already satisfied: numpy>=1.18.5 in /usr/local/lib/python3.10/dist-packages (from semantic-chunking) (1.26.4)\n",
            "Requirement already satisfied: sentence-transformers>=2.2.2 in /usr/local/lib/python3.10/dist-packages (from semantic-chunking) (3.3.1)\n",
            "Collecting transformers<5.0.0,>=4.41.0 (from sentence-transformers>=2.2.2->semantic-chunking)\n",
            "  Downloading transformers-4.47.1-py3-none-any.whl.metadata (44 kB)\n",
            "\u001b[2K     \u001b[90m━━━━━━━━━━━━━━━━━━━━━━━━━━━━━━━━━━━━━━━━\u001b[0m \u001b[32m44.1/44.1 kB\u001b[0m \u001b[31m2.5 MB/s\u001b[0m eta \u001b[36m0:00:00\u001b[0m\n",
            "\u001b[?25hRequirement already satisfied: tqdm in /usr/local/lib/python3.10/dist-packages (from sentence-transformers>=2.2.2->semantic-chunking) (4.67.1)\n",
            "Requirement already satisfied: torch>=1.11.0 in /usr/local/lib/python3.10/dist-packages (from sentence-transformers>=2.2.2->semantic-chunking) (2.5.1+cu121)\n",
            "Requirement already satisfied: scikit-learn in /usr/local/lib/python3.10/dist-packages (from sentence-transformers>=2.2.2->semantic-chunking) (1.6.0)\n",
            "Requirement already satisfied: scipy in /usr/local/lib/python3.10/dist-packages (from sentence-transformers>=2.2.2->semantic-chunking) (1.13.1)\n",
            "Requirement already satisfied: huggingface-hub>=0.20.0 in /usr/local/lib/python3.10/dist-packages (from sentence-transformers>=2.2.2->semantic-chunking) (0.27.0)\n",
            "Requirement already satisfied: Pillow in /usr/local/lib/python3.10/dist-packages (from sentence-transformers>=2.2.2->semantic-chunking) (11.0.0)\n",
            "Requirement already satisfied: filelock in /usr/local/lib/python3.10/dist-packages (from huggingface-hub>=0.20.0->sentence-transformers>=2.2.2->semantic-chunking) (3.16.1)\n",
            "Requirement already satisfied: fsspec>=2023.5.0 in /usr/local/lib/python3.10/dist-packages (from huggingface-hub>=0.20.0->sentence-transformers>=2.2.2->semantic-chunking) (2024.10.0)\n",
            "Requirement already satisfied: packaging>=20.9 in /usr/local/lib/python3.10/dist-packages (from huggingface-hub>=0.20.0->sentence-transformers>=2.2.2->semantic-chunking) (24.2)\n",
            "Requirement already satisfied: pyyaml>=5.1 in /usr/local/lib/python3.10/dist-packages (from huggingface-hub>=0.20.0->sentence-transformers>=2.2.2->semantic-chunking) (6.0.2)\n",
            "Requirement already satisfied: requests in /usr/local/lib/python3.10/dist-packages (from huggingface-hub>=0.20.0->sentence-transformers>=2.2.2->semantic-chunking) (2.32.3)\n",
            "Requirement already satisfied: typing-extensions>=3.7.4.3 in /usr/local/lib/python3.10/dist-packages (from huggingface-hub>=0.20.0->sentence-transformers>=2.2.2->semantic-chunking) (4.12.2)\n",
            "Requirement already satisfied: networkx in /usr/local/lib/python3.10/dist-packages (from torch>=1.11.0->sentence-transformers>=2.2.2->semantic-chunking) (3.4.2)\n",
            "Requirement already satisfied: jinja2 in /usr/local/lib/python3.10/dist-packages (from torch>=1.11.0->sentence-transformers>=2.2.2->semantic-chunking) (3.1.4)\n",
            "Requirement already satisfied: sympy==1.13.1 in /usr/local/lib/python3.10/dist-packages (from torch>=1.11.0->sentence-transformers>=2.2.2->semantic-chunking) (1.13.1)\n",
            "Requirement already satisfied: mpmath<1.4,>=1.1.0 in /usr/local/lib/python3.10/dist-packages (from sympy==1.13.1->torch>=1.11.0->sentence-transformers>=2.2.2->semantic-chunking) (1.3.0)\n",
            "Requirement already satisfied: regex!=2019.12.17 in /usr/local/lib/python3.10/dist-packages (from transformers<5.0.0,>=4.41.0->sentence-transformers>=2.2.2->semantic-chunking) (2024.11.6)\n",
            "Collecting tokenizers<0.22,>=0.21 (from transformers<5.0.0,>=4.41.0->sentence-transformers>=2.2.2->semantic-chunking)\n",
            "  Downloading tokenizers-0.21.0-cp39-abi3-manylinux_2_17_x86_64.manylinux2014_x86_64.whl.metadata (6.7 kB)\n",
            "Requirement already satisfied: safetensors>=0.4.1 in /usr/local/lib/python3.10/dist-packages (from transformers<5.0.0,>=4.41.0->sentence-transformers>=2.2.2->semantic-chunking) (0.4.5)\n",
            "Requirement already satisfied: joblib>=1.2.0 in /usr/local/lib/python3.10/dist-packages (from scikit-learn->sentence-transformers>=2.2.2->semantic-chunking) (1.4.2)\n",
            "Requirement already satisfied: threadpoolctl>=3.1.0 in /usr/local/lib/python3.10/dist-packages (from scikit-learn->sentence-transformers>=2.2.2->semantic-chunking) (3.5.0)\n",
            "Requirement already satisfied: MarkupSafe>=2.0 in /usr/local/lib/python3.10/dist-packages (from jinja2->torch>=1.11.0->sentence-transformers>=2.2.2->semantic-chunking) (3.0.2)\n",
            "Requirement already satisfied: charset-normalizer<4,>=2 in /usr/local/lib/python3.10/dist-packages (from requests->huggingface-hub>=0.20.0->sentence-transformers>=2.2.2->semantic-chunking) (3.4.0)\n",
            "Requirement already satisfied: idna<4,>=2.5 in /usr/local/lib/python3.10/dist-packages (from requests->huggingface-hub>=0.20.0->sentence-transformers>=2.2.2->semantic-chunking) (3.10)\n",
            "Requirement already satisfied: urllib3<3,>=1.21.1 in /usr/local/lib/python3.10/dist-packages (from requests->huggingface-hub>=0.20.0->sentence-transformers>=2.2.2->semantic-chunking) (2.2.3)\n",
            "Requirement already satisfied: certifi>=2017.4.17 in /usr/local/lib/python3.10/dist-packages (from requests->huggingface-hub>=0.20.0->sentence-transformers>=2.2.2->semantic-chunking) (2024.12.14)\n",
            "Downloading semantic_chunking-0.1.1-py3-none-any.whl (3.8 kB)\n",
            "Downloading transformers-4.47.1-py3-none-any.whl (10.1 MB)\n",
            "\u001b[2K   \u001b[90m━━━━━━━━━━━━━━━━━━━━━━━━━━━━━━━━━━━━━━━━\u001b[0m \u001b[32m10.1/10.1 MB\u001b[0m \u001b[31m84.8 MB/s\u001b[0m eta \u001b[36m0:00:00\u001b[0m\n",
            "\u001b[?25hDownloading tokenizers-0.21.0-cp39-abi3-manylinux_2_17_x86_64.manylinux2014_x86_64.whl (3.0 MB)\n",
            "\u001b[2K   \u001b[90m━━━━━━━━━━━━━━━━━━━━━━━━━━━━━━━━━━━━━━━━\u001b[0m \u001b[32m3.0/3.0 MB\u001b[0m \u001b[31m95.4 MB/s\u001b[0m eta \u001b[36m0:00:00\u001b[0m\n",
            "\u001b[?25hInstalling collected packages: tokenizers, transformers, semantic-chunking\n",
            "  Attempting uninstall: tokenizers\n",
            "    Found existing installation: tokenizers 0.15.2\n",
            "    Uninstalling tokenizers-0.15.2:\n",
            "      Successfully uninstalled tokenizers-0.15.2\n",
            "  Attempting uninstall: transformers\n",
            "    Found existing installation: transformers 4.36.2\n",
            "    Uninstalling transformers-4.36.2:\n",
            "      Successfully uninstalled transformers-4.36.2\n",
            "Successfully installed semantic-chunking-0.1.1 tokenizers-0.21.0 transformers-4.47.1\n"
          ]
        },
        {
          "output_type": "display_data",
          "data": {
            "application/vnd.colab-display-data+json": {
              "pip_warning": {
                "packages": [
                  "transformers"
                ]
              },
              "id": "9a6082d303164005ae742306efaa6a67"
            }
          },
          "metadata": {}
        }
      ]
    },
    {
      "cell_type": "code",
      "source": [
        "from semantic_chunking import SemanticChunker\n",
        "\n",
        "def test_semantic_chunker():\n",
        "    text =input_text\n",
        "\n",
        "    chunker = SemanticChunker(model_name='all-MiniLM-L6-v2', max_chunk_size=128, similarity_threshold=0.3)\n",
        "    chunks = chunker.semantic_chunk(text)\n",
        "\n",
        "    print(\"Semantic Chunks:\")\n",
        "    for i, chunk in enumerate(chunks, 1):\n",
        "        print(f\"Chunk {i}: {chunk}\")\n",
        "        print(f\"Words: {len(chunk.split())}\\n\")\n",
        "\n",
        "# Uncomment to test\n",
        "test_semantic_chunker()"
      ],
      "metadata": {
        "colab": {
          "base_uri": "https://localhost:8080/"
        },
        "id": "8Dqz5V-gqVNQ",
        "outputId": "96a19146-3882-4cef-c152-7f811027551c"
      },
      "execution_count": null,
      "outputs": [
        {
          "output_type": "stream",
          "name": "stdout",
          "text": [
            "Semantic Chunks:\n",
            "Chunk 1: Amitabh Bachchan (pronounced [əmɪˈt̪ɑːbʱ ˈbətːʃən] ; born Amitabh Srivastava; 11 October 1942) is an Indian actor who works in Hindi cinema. He is often considered one of the greatest, most accomplished and commercially successful actors in the history of Indian cinema. With a cinematic career spanning over five decades, he has played pivotal roles in over 200 films. Bachchan is often hailed as the Shahenshah of Bollywood, Sadi Ke Mahanayak (translated as \"Greatest actor of the century\" in Hindi), Star of the Millennium, or simply Big B.\n",
            "Words: 87\n",
            "\n",
            "Chunk 2: His dominance in the Indian film industry during the 1970s–80s led the French director François Truffaut to describe it as a \"one-man industry\".\n",
            "Words: 23\n",
            "\n",
            "Chunk 3: He is a recipient of several accolades including six National Film Awards and sixteen Filmfare Awards. Amitabh Bachchan was born in 1942 in Allahabad (now Prayagraj) to the Hindi poet Harivansh Rai Bachchan and his wife, the social activist Teji Bachchan.\n",
            "Words: 41\n",
            "\n",
            "Chunk 4: He was educated at Sherwood College, Nainital, and Kirori Mal College, University of Delhi.\n",
            "Words: 14\n",
            "\n",
            "Chunk 5: His film career started in 1969 as a voice narrator in Mrinal Sen's film Bhuvan Shome. He first gained popularity in the early-1970s for films, such as Anand, Zanjeer and Roti Kapada Aur Makaan, and achieved greater stardom in later years, being dubbed India's \"Angry Young Man\" for several of his on-screen roles in Hindi films.\n",
            "Words: 56\n",
            "\n",
            "Chunk 6: He consistently starred in top–grossing Indian films from the mid-1970s to the 1980s, such as Deewaar, Sholay, Kabhi Kabhie, Hera Pheri, Amar Akbar Anthony, Parvarish, Kasme Vaade, Don, Trishul, Muqaddar Ka Sikandar, Suhaag, Dostana, Naseeb, Laawaris, Namak Halaal, Andhaa Kaanoon, Coolie, Sharaabi and Mard, as well as some of his most acclaimed performances, include Namak Haraam, Abhimaan, Majboor, Mili, Chupke Chupke, Do Anjaane, Kaala Patthar, Shaan, Silsila, Yaarana, Kaalia, Shakti, Aakhree Raasta, Shahenshah and Agneepath. After taking a break from acting in the 1990s, his resurgence was marked in 2000 with Mohabbatein.\n",
            "Words: 92\n",
            "\n",
            "Chunk 7: Since then he starred in several successful and acclaimed films like Kabhi Khushi Kabhie Gham, Aankhen, Baghban, Khakee, Black, Bunty Aur Babli, Sarkar, Kabhi Alvida Naa Kehna, Bhoothnath, Cheeni Kum, Paa, Piku, Pink, Badla, Brahmāstra: Part One – Shiva and Kalki 2898 AD. For Piku, he won his fourth National Film Award for Best Actor, making him the only actor to do so. Bachchan also made an appearance in a Hollywood film, The Great Gatsby (2013), in which he played a non-Indian Jewish character. Bachchan has won numerous accolades in his career, including record four National Film Awards in Best Actor category and many awards at international film festivals and award ceremonies.\n",
            "Words: 112\n",
            "\n",
            "Chunk 8: He has won sixteen Filmfare Awards and is the most nominated performer in any major acting category at Filmfare with 34 nominations in Best Actor and 42 nominations overall. The Government of India honoured him with the Padma Shri in 1984, the Padma Bhushan in 2001, the Padma Vibhushan in 2015, and India's highest award in the field of cinema, the Dadasaheb Phalke Award in 2018 for his contributions to the arts. The Government of France honoured him with its highest civilian honour, Officer of the Legion of Honour, in 2007 for his exceptional career in the world of cinema and beyond.\n",
            "Words: 102\n",
            "\n",
            "Chunk 9: In addition to acting, Bachchan has worked as a playback singer, film producer, and television presenter. He has hosted several seasons of the game show Kaun Banega Crorepati, India's version of the game show franchise, Who Wants to Be a Millionaire?.\n",
            "Words: 41\n",
            "\n",
            "Chunk 10: He also entered politics for a time in the 1980s.\n",
            "Words: 10\n",
            "\n",
            "Chunk 11: Bachchan has also been involved in several humanitarian works and he is a leading brand endorser in India.\n",
            "Words: 18\n",
            "\n",
            "Chunk 12: Beyond the Indian subcontinent, he acquired a large overseas following of the South Asian diaspora, as well as others, in markets including Africa (South Africa, Eastern Africa, and Mauritius), the Middle East (especially Egypt and the UAE), the United Kingdom, Russia, Central Asia, the Caribbean (Guyana, Suriname, and Trinidad and Tobago), Oceania (Fiji, Australia, and New Zealand), Canada and the United States.\n",
            "Words: 62\n",
            "\n",
            "Chunk 13: Bachchan was voted the \"greatest star of stage or screen\" in the BBC Your Millennium online poll in 1999. In October 2003, Time magazine dubbed Bachchan the \"Star of the Millennium\".\n",
            "Words: 31\n",
            "\n"
          ]
        }
      ]
    },
    {
      "cell_type": "code",
      "source": [
        "!pip install adaptkeybert"
      ],
      "metadata": {
        "colab": {
          "base_uri": "https://localhost:8080/"
        },
        "id": "7lXqGCPTtu3P",
        "outputId": "ecacc30c-e1c3-45c4-e87d-366cb1005691"
      },
      "execution_count": null,
      "outputs": [
        {
          "output_type": "stream",
          "name": "stdout",
          "text": [
            "Collecting adaptkeybert\n",
            "  Downloading adaptkeybert-0.0.2-py3-none-any.whl.metadata (5.0 kB)\n",
            "Requirement already satisfied: sentence-transformers>=0.3.8 in /usr/local/lib/python3.10/dist-packages (from adaptkeybert) (3.3.1)\n",
            "Requirement already satisfied: scikit-learn>=0.22.2 in /usr/local/lib/python3.10/dist-packages (from adaptkeybert) (1.6.0)\n",
            "Requirement already satisfied: numpy>=1.18.5 in /usr/local/lib/python3.10/dist-packages (from adaptkeybert) (1.26.4)\n",
            "Requirement already satisfied: rich>=10.4.0 in /usr/local/lib/python3.10/dist-packages (from adaptkeybert) (13.9.4)\n",
            "Requirement already satisfied: markdown-it-py>=2.2.0 in /usr/local/lib/python3.10/dist-packages (from rich>=10.4.0->adaptkeybert) (3.0.0)\n",
            "Requirement already satisfied: pygments<3.0.0,>=2.13.0 in /usr/local/lib/python3.10/dist-packages (from rich>=10.4.0->adaptkeybert) (2.18.0)\n",
            "Requirement already satisfied: typing-extensions<5.0,>=4.0.0 in /usr/local/lib/python3.10/dist-packages (from rich>=10.4.0->adaptkeybert) (4.12.2)\n",
            "Requirement already satisfied: scipy>=1.6.0 in /usr/local/lib/python3.10/dist-packages (from scikit-learn>=0.22.2->adaptkeybert) (1.13.1)\n",
            "Requirement already satisfied: joblib>=1.2.0 in /usr/local/lib/python3.10/dist-packages (from scikit-learn>=0.22.2->adaptkeybert) (1.4.2)\n",
            "Requirement already satisfied: threadpoolctl>=3.1.0 in /usr/local/lib/python3.10/dist-packages (from scikit-learn>=0.22.2->adaptkeybert) (3.5.0)\n",
            "Requirement already satisfied: transformers<5.0.0,>=4.41.0 in /usr/local/lib/python3.10/dist-packages (from sentence-transformers>=0.3.8->adaptkeybert) (4.47.1)\n",
            "Requirement already satisfied: tqdm in /usr/local/lib/python3.10/dist-packages (from sentence-transformers>=0.3.8->adaptkeybert) (4.67.1)\n",
            "Requirement already satisfied: torch>=1.11.0 in /usr/local/lib/python3.10/dist-packages (from sentence-transformers>=0.3.8->adaptkeybert) (2.5.1+cu121)\n",
            "Requirement already satisfied: huggingface-hub>=0.20.0 in /usr/local/lib/python3.10/dist-packages (from sentence-transformers>=0.3.8->adaptkeybert) (0.27.0)\n",
            "Requirement already satisfied: Pillow in /usr/local/lib/python3.10/dist-packages (from sentence-transformers>=0.3.8->adaptkeybert) (11.0.0)\n",
            "Requirement already satisfied: filelock in /usr/local/lib/python3.10/dist-packages (from huggingface-hub>=0.20.0->sentence-transformers>=0.3.8->adaptkeybert) (3.16.1)\n",
            "Requirement already satisfied: fsspec>=2023.5.0 in /usr/local/lib/python3.10/dist-packages (from huggingface-hub>=0.20.0->sentence-transformers>=0.3.8->adaptkeybert) (2024.10.0)\n",
            "Requirement already satisfied: packaging>=20.9 in /usr/local/lib/python3.10/dist-packages (from huggingface-hub>=0.20.0->sentence-transformers>=0.3.8->adaptkeybert) (24.2)\n",
            "Requirement already satisfied: pyyaml>=5.1 in /usr/local/lib/python3.10/dist-packages (from huggingface-hub>=0.20.0->sentence-transformers>=0.3.8->adaptkeybert) (6.0.2)\n",
            "Requirement already satisfied: requests in /usr/local/lib/python3.10/dist-packages (from huggingface-hub>=0.20.0->sentence-transformers>=0.3.8->adaptkeybert) (2.32.3)\n",
            "Requirement already satisfied: mdurl~=0.1 in /usr/local/lib/python3.10/dist-packages (from markdown-it-py>=2.2.0->rich>=10.4.0->adaptkeybert) (0.1.2)\n",
            "Requirement already satisfied: networkx in /usr/local/lib/python3.10/dist-packages (from torch>=1.11.0->sentence-transformers>=0.3.8->adaptkeybert) (3.4.2)\n",
            "Requirement already satisfied: jinja2 in /usr/local/lib/python3.10/dist-packages (from torch>=1.11.0->sentence-transformers>=0.3.8->adaptkeybert) (3.1.4)\n",
            "Requirement already satisfied: sympy==1.13.1 in /usr/local/lib/python3.10/dist-packages (from torch>=1.11.0->sentence-transformers>=0.3.8->adaptkeybert) (1.13.1)\n",
            "Requirement already satisfied: mpmath<1.4,>=1.1.0 in /usr/local/lib/python3.10/dist-packages (from sympy==1.13.1->torch>=1.11.0->sentence-transformers>=0.3.8->adaptkeybert) (1.3.0)\n",
            "Requirement already satisfied: regex!=2019.12.17 in /usr/local/lib/python3.10/dist-packages (from transformers<5.0.0,>=4.41.0->sentence-transformers>=0.3.8->adaptkeybert) (2024.11.6)\n",
            "Requirement already satisfied: tokenizers<0.22,>=0.21 in /usr/local/lib/python3.10/dist-packages (from transformers<5.0.0,>=4.41.0->sentence-transformers>=0.3.8->adaptkeybert) (0.21.0)\n",
            "Requirement already satisfied: safetensors>=0.4.1 in /usr/local/lib/python3.10/dist-packages (from transformers<5.0.0,>=4.41.0->sentence-transformers>=0.3.8->adaptkeybert) (0.4.5)\n",
            "Requirement already satisfied: MarkupSafe>=2.0 in /usr/local/lib/python3.10/dist-packages (from jinja2->torch>=1.11.0->sentence-transformers>=0.3.8->adaptkeybert) (3.0.2)\n",
            "Requirement already satisfied: charset-normalizer<4,>=2 in /usr/local/lib/python3.10/dist-packages (from requests->huggingface-hub>=0.20.0->sentence-transformers>=0.3.8->adaptkeybert) (3.4.0)\n",
            "Requirement already satisfied: idna<4,>=2.5 in /usr/local/lib/python3.10/dist-packages (from requests->huggingface-hub>=0.20.0->sentence-transformers>=0.3.8->adaptkeybert) (3.10)\n",
            "Requirement already satisfied: urllib3<3,>=1.21.1 in /usr/local/lib/python3.10/dist-packages (from requests->huggingface-hub>=0.20.0->sentence-transformers>=0.3.8->adaptkeybert) (2.2.3)\n",
            "Requirement already satisfied: certifi>=2017.4.17 in /usr/local/lib/python3.10/dist-packages (from requests->huggingface-hub>=0.20.0->sentence-transformers>=0.3.8->adaptkeybert) (2024.12.14)\n",
            "Downloading adaptkeybert-0.0.2-py3-none-any.whl (19 kB)\n",
            "Installing collected packages: adaptkeybert\n",
            "Successfully installed adaptkeybert-0.0.2\n"
          ]
        }
      ]
    },
    {
      "cell_type": "code",
      "source": [
        "from adaptkeybert import KeyBERT"
      ],
      "metadata": {
        "id": "8oYkO6Dltuy7"
      },
      "execution_count": null,
      "outputs": []
    },
    {
      "cell_type": "code",
      "source": [
        "kw_model = KeyBERT()\n",
        "keywords = kw_model.extract_keywords(chunks  , top_n=2)\n",
        "print(keywords)\n"
      ],
      "metadata": {
        "colab": {
          "base_uri": "https://localhost:8080/"
        },
        "id": "GiOwrTnytumG",
        "outputId": "74a29af1-fb86-4d08-8921-8a274354e2c3"
      },
      "execution_count": null,
      "outputs": [
        {
          "output_type": "stream",
          "name": "stdout",
          "text": [
            "[[('amitabh', 0.7359), ('bachchan', 0.6823)], [('ɑːbʱ', 1.0), ('əmɪˈt', 0.2934)], [('ˈbətːʃən', 0.9897)], [('amitabh', 0.5644), ('srivastava', 0.4677)], [('hindi', 0.6651), ('cinema', 0.5822)], [('indian', 0.3502), ('actors', 0.3398)], [('cinema', 0.9402)], [('films', 0.4201), ('decades', 0.3505)], [('bachchan', 0.6131), ('shahenshah', 0.5676)], [('mahanayak', 0.7215), ('actor', 0.3913)], [('hindi', 0.5612), ('star', 0.5215)], [('director', 0.4201), ('film', 0.3342)], [('truffaut', 0.5254), ('françois', 0.3676)], [('filmfare', 0.5244), ('awards', 0.5018)], [('amitabh', 0.5806), ('bachchan', 0.5159)], [('bachchan', 0.5524), ('rai', 0.4978)], [('bachchan', 0.7606), ('teji', 0.7231)], [('university', 0.4272), ('sherwood', 0.4178)], [('delhi', 0.4586), ('1969', 0.3527)], [('bhuvan', 0.6721), ('film', 0.5557)], [('anand', 0.4347), ('1970s', 0.3328)], [('zanjeer', 0.5523), ('makaan', 0.5376)], [('young', 0.3206), ('angry', 0.3199)], [('hindi', 0.5583), ('films', 0.4215)], [('films', 0.3364), ('1970s', 0.3207)], [('kabhi', 0.6714), ('kabhie', 0.6474)], [('akbar', 0.545), ('hera', 0.4492)], [('sikandar', 0.5481), ('trishul', 0.529)], [('dostana', 0.6791), ('namak', 0.5822)], [('sharaabi', 0.5383), ('andhaa', 0.4329)], [('abhimaan', 0.4917), ('performances', 0.4498)], [('majboor', 0.6164), ('chupke', 0.5397)], [('kaala', 0.5894), ('kaalia', 0.5458)], [('aakhree', 0.5786), ('shakti', 0.5648)], [('1990s', 0.3772), ('acting', 0.3338)], [('mohabbatein', 0.6701), ('2000', 0.6031)], [('kabhi', 0.5567), ('kabhie', 0.5273)], [('khakee', 0.5641), ('babli', 0.5209)], [('kabhi', 0.664), ('sarkar', 0.5615)], [('piku', 0.5157), ('cheeni', 0.4756)], [('shiva', 0.5876), ('kalki', 0.5029)], [('piku', 0.4305), ('actor', 0.3588)], [], [('gatsby', 0.6131), ('bachchan', 0.51)], [('jewish', 0.4875), ('indian', 0.3796)], [('bachchan', 0.5201), ('awards', 0.4711)], [('awards', 0.5797), ('actor', 0.5443)], [('filmfare', 0.4884), ('awards', 0.3691)], [('filmfare', 0.5932), ('nominations', 0.476)], [('padma', 0.5411), ('1984', 0.3418)], [('padma', 0.6997), ('bhushan', 0.606)], [('india', 0.6147)], [('dadasaheb', 0.4713), ('phalke', 0.4363)], [('arts', 0.5677), ('2018', 0.4849)], [('honour', 0.4224), ('legion', 0.3622)], [('2007', 0.5136), ('cinema', 0.5016)], [('bachchan', 0.599), ('acting', 0.4614)], [('crorepati', 0.5137), ('kaun', 0.449)], [], [('millionaire', 0.5753), ('franchise', 0.4681)], [('1980s', 0.5527), ('politics', 0.358)], [('bachchan', 0.6495), ('humanitarian', 0.4395)], [('india', 0.6681)], [('subcontinent', 0.4655), ('diaspora', 0.4288)], [('mauritius', 0.5788), ('markets', 0.551)], [('uae', 0.5801), ('asia', 0.5144)], [('guyana', 0.6202), ('tobago', 0.618)], [('zealand', 0.4759), ('australia', 0.4735)], [('stage', 0.5834), ('star', 0.543)], [('1999', 0.5025), ('bbc', 0.4484)], [('bachchan', 0.5102), ('millennium', 0.494)]]\n"
          ]
        }
      ]
    },
    {
      "cell_type": "code",
      "source": [
        "kw_model = KeyBERT(domain_adapt=True, zero_adapt=True)\n",
        "kw_model.pre_train([str(chunks).lower()], [['indian', 'actor']], lr=1e-3)\n",
        "kw_model.zeroshot_pre_train(['Amitabh', 'cinema'], adaptive_thr=0.15)\n",
        "keywords = kw_model.extract_keywords(str(chunks).lower(), top_n=10)\n",
        "print(keywords)"
      ],
      "metadata": {
        "colab": {
          "base_uri": "https://localhost:8080/"
        },
        "id": "fanvJ7UFvWUp",
        "outputId": "d76f23f5-1b61-426a-e2ad-85ffd6f1999a"
      },
      "execution_count": 21,
      "outputs": [
        {
          "output_type": "stream",
          "name": "stderr",
          "text": [
            "{'mse_target': 0.305, 'mse_gen': 0.136}: 100%|██████████| 100/100 [01:46<00:00,  1.06s/it]\n"
          ]
        },
        {
          "output_type": "stream",
          "name": "stdout",
          "text": [
            "[('amitabh', 0.6674), ('bollywood', 0.6372), ('cinema', 0.615), ('bachchan', 0.6149), ('actor', 0.6081), ('crorepati', 0.5944), ('filmfare', 0.5703), ('hindi', 0.5516), ('actors', 0.523), ('kabhi', 0.5199)]\n"
          ]
        }
      ]
    },
    {
      "cell_type": "markdown",
      "source": [],
      "metadata": {
        "id": "m-OxuFLjvWC_"
      }
    },
    {
      "cell_type": "markdown",
      "source": [],
      "metadata": {
        "id": "B7SoOKDmtuUJ"
      }
    },
    {
      "cell_type": "code",
      "source": [
        "!pip install semantic-chunker"
      ],
      "metadata": {
        "colab": {
          "base_uri": "https://localhost:8080/"
        },
        "id": "GpIndQr7qVBi",
        "outputId": "39458195-891e-4a60-b32b-083cf50755d3"
      },
      "execution_count": null,
      "outputs": [
        {
          "output_type": "stream",
          "name": "stdout",
          "text": [
            "Collecting semantic-chunker\n",
            "  Downloading semantic_chunker-0.1.0-py3-none-any.whl.metadata (8.8 kB)\n",
            "Collecting semantic-text-splitter>=0.14.1 (from semantic-chunker)\n",
            "  Downloading semantic_text_splitter-0.20.1-cp39-abi3-manylinux_2_17_x86_64.manylinux2014_x86_64.whl.metadata (7.8 kB)\n",
            "Collecting tree-sitter-language-pack>=0.2.0 (from semantic-chunker)\n",
            "  Downloading tree_sitter_language_pack-0.2.0.tar.gz (35.7 MB)\n",
            "\u001b[2K     \u001b[90m━━━━━━━━━━━━━━━━━━━━━━━━━━━━━━━━━━━━━━━━\u001b[0m \u001b[32m35.7/35.7 MB\u001b[0m \u001b[31m39.5 MB/s\u001b[0m eta \u001b[36m0:00:00\u001b[0m\n",
            "\u001b[?25h  Installing build dependencies ... \u001b[?25l\u001b[?25hdone\n",
            "  Getting requirements to build wheel ... \u001b[?25l\u001b[?25hdone\n",
            "  Preparing metadata (pyproject.toml) ... \u001b[?25l\u001b[?25hdone\n",
            "Requirement already satisfied: typing-extensions>=4.12.2 in /usr/local/lib/python3.10/dist-packages (from semantic-chunker) (4.12.2)\n",
            "Collecting tree-sitter>=0.22.0 (from tree-sitter-language-pack>=0.2.0->semantic-chunker)\n",
            "  Downloading tree_sitter-0.23.2-cp310-cp310-manylinux_2_17_x86_64.manylinux2014_x86_64.whl.metadata (9.8 kB)\n",
            "Collecting tree-sitter-c-sharp>=0.21.2 (from tree-sitter-language-pack>=0.2.0->semantic-chunker)\n",
            "  Downloading tree_sitter_c_sharp-0.23.1-cp39-abi3-manylinux_2_5_x86_64.manylinux1_x86_64.manylinux_2_17_x86_64.manylinux2014_x86_64.whl.metadata (2.7 kB)\n",
            "Collecting tree-sitter-embedded-template>=0.21.0 (from tree-sitter-language-pack>=0.2.0->semantic-chunker)\n",
            "  Downloading tree_sitter_embedded_template-0.23.2-cp39-abi3-manylinux_2_5_x86_64.manylinux1_x86_64.manylinux_2_17_x86_64.manylinux2014_x86_64.whl.metadata (2.2 kB)\n",
            "Collecting tree-sitter-yaml>=0.6.0 (from tree-sitter-language-pack>=0.2.0->semantic-chunker)\n",
            "  Downloading tree_sitter_yaml-0.7.0-cp39-abi3-manylinux_2_5_x86_64.manylinux1_x86_64.manylinux_2_17_x86_64.manylinux2014_x86_64.whl.metadata (1.7 kB)\n",
            "Collecting tree-sitter-typescript>=0.21.1 (from tree-sitter-language-pack>=0.2.0->semantic-chunker)\n",
            "  Downloading tree_sitter_typescript-0.23.2-cp39-abi3-manylinux_2_5_x86_64.manylinux1_x86_64.manylinux_2_17_x86_64.manylinux2014_x86_64.whl.metadata (2.3 kB)\n",
            "Collecting tree-sitter-php>=0.22.5 (from tree-sitter-language-pack>=0.2.0->semantic-chunker)\n",
            "  Downloading tree_sitter_php-0.23.11-cp39-abi3-manylinux_2_17_x86_64.manylinux2014_x86_64.whl.metadata (1.7 kB)\n",
            "Collecting tree-sitter-xml>=0.6.4 (from tree-sitter-language-pack>=0.2.0->semantic-chunker)\n",
            "  Downloading tree_sitter_xml-0.7.0-cp39-abi3-manylinux_2_5_x86_64.manylinux1_x86_64.manylinux_2_17_x86_64.manylinux2014_x86_64.whl.metadata (2.1 kB)\n",
            "Downloading semantic_chunker-0.1.0-py3-none-any.whl (6.1 kB)\n",
            "Downloading semantic_text_splitter-0.20.1-cp39-abi3-manylinux_2_17_x86_64.manylinux2014_x86_64.whl (8.4 MB)\n",
            "\u001b[2K   \u001b[90m━━━━━━━━━━━━━━━━━━━━━━━━━━━━━━━━━━━━━━━━\u001b[0m \u001b[32m8.4/8.4 MB\u001b[0m \u001b[31m42.0 MB/s\u001b[0m eta \u001b[36m0:00:00\u001b[0m\n",
            "\u001b[?25hDownloading tree_sitter-0.23.2-cp310-cp310-manylinux_2_17_x86_64.manylinux2014_x86_64.whl (566 kB)\n",
            "\u001b[2K   \u001b[90m━━━━━━━━━━━━━━━━━━━━━━━━━━━━━━━━━━━━━━━━\u001b[0m \u001b[32m566.6/566.6 kB\u001b[0m \u001b[31m39.4 MB/s\u001b[0m eta \u001b[36m0:00:00\u001b[0m\n",
            "\u001b[?25hDownloading tree_sitter_c_sharp-0.23.1-cp39-abi3-manylinux_2_5_x86_64.manylinux1_x86_64.manylinux_2_17_x86_64.manylinux2014_x86_64.whl (402 kB)\n",
            "\u001b[2K   \u001b[90m━━━━━━━━━━━━━━━━━━━━━━━━━━━━━━━━━━━━━━━━\u001b[0m \u001b[32m402.8/402.8 kB\u001b[0m \u001b[31m34.2 MB/s\u001b[0m eta \u001b[36m0:00:00\u001b[0m\n",
            "\u001b[?25hDownloading tree_sitter_embedded_template-0.23.2-cp39-abi3-manylinux_2_5_x86_64.manylinux1_x86_64.manylinux_2_17_x86_64.manylinux2014_x86_64.whl (17 kB)\n",
            "Downloading tree_sitter_php-0.23.11-cp39-abi3-manylinux_2_17_x86_64.manylinux2014_x86_64.whl (251 kB)\n",
            "\u001b[2K   \u001b[90m━━━━━━━━━━━━━━━━━━━━━━━━━━━━━━━━━━━━━━━━\u001b[0m \u001b[32m251.5/251.5 kB\u001b[0m \u001b[31m24.5 MB/s\u001b[0m eta \u001b[36m0:00:00\u001b[0m\n",
            "\u001b[?25hDownloading tree_sitter_typescript-0.23.2-cp39-abi3-manylinux_2_5_x86_64.manylinux1_x86_64.manylinux_2_17_x86_64.manylinux2014_x86_64.whl (344 kB)\n",
            "\u001b[2K   \u001b[90m━━━━━━━━━━━━━━━━━━━━━━━━━━━━━━━━━━━━━━━━\u001b[0m \u001b[32m345.0/345.0 kB\u001b[0m \u001b[31m26.8 MB/s\u001b[0m eta \u001b[36m0:00:00\u001b[0m\n",
            "\u001b[?25hDownloading tree_sitter_xml-0.7.0-cp39-abi3-manylinux_2_5_x86_64.manylinux1_x86_64.manylinux_2_17_x86_64.manylinux2014_x86_64.whl (76 kB)\n",
            "\u001b[2K   \u001b[90m━━━━━━━━━━━━━━━━━━━━━━━━━━━━━━━━━━━━━━━━\u001b[0m \u001b[32m76.2/76.2 kB\u001b[0m \u001b[31m8.1 MB/s\u001b[0m eta \u001b[36m0:00:00\u001b[0m\n",
            "\u001b[?25hDownloading tree_sitter_yaml-0.7.0-cp39-abi3-manylinux_2_5_x86_64.manylinux1_x86_64.manylinux_2_17_x86_64.manylinux2014_x86_64.whl (91 kB)\n",
            "\u001b[2K   \u001b[90m━━━━━━━━━━━━━━━━━━━━━━━━━━━━━━━━━━━━━━━━\u001b[0m \u001b[32m91.4/91.4 kB\u001b[0m \u001b[31m9.9 MB/s\u001b[0m eta \u001b[36m0:00:00\u001b[0m\n",
            "\u001b[?25hBuilding wheels for collected packages: tree-sitter-language-pack\n",
            "  Building wheel for tree-sitter-language-pack (pyproject.toml) ... \u001b[?25l\u001b[?25hdone\n",
            "  Created wheel for tree-sitter-language-pack: filename=tree_sitter_language_pack-0.2.0-cp39-abi3-linux_x86_64.whl size=15060335 sha256=58e52749eefb4481e80c03f0eee04e2faeb3e9d639c736e5475cf0fc848be43a\n",
            "  Stored in directory: /root/.cache/pip/wheels/4a/70/a2/1ec483d269d93493a9d512fa8fec48b0f361d20297c7c515fd\n",
            "Successfully built tree-sitter-language-pack\n",
            "Installing collected packages: tree-sitter-yaml, tree-sitter-xml, tree-sitter-typescript, tree-sitter-php, tree-sitter-embedded-template, tree-sitter-c-sharp, tree-sitter, semantic-text-splitter, tree-sitter-language-pack, semantic-chunker\n",
            "Successfully installed semantic-chunker-0.1.0 semantic-text-splitter-0.20.1 tree-sitter-0.23.2 tree-sitter-c-sharp-0.23.1 tree-sitter-embedded-template-0.23.2 tree-sitter-language-pack-0.2.0 tree-sitter-php-0.23.11 tree-sitter-typescript-0.23.2 tree-sitter-xml-0.7.0 tree-sitter-yaml-0.7.0\n"
          ]
        }
      ]
    },
    {
      "cell_type": "code",
      "source": [
        "from semantic_chunker import get_chunker\n",
        "\n",
        "plain_text = input_text\n",
        "\n",
        "chunker = get_chunker(\n",
        "    \"gpt-3.5-turbo\",\n",
        "    chunking_type=\"markdown\",  # required\n",
        "    max_tokens=20,  # required\n",
        "    trim=False,  # default True\n",
        "    overlap=0,  # default 0\n",
        ")\n",
        "\n",
        "# Then use it to chunk a value into either a list of chunks that are up to the `max_tokens` length:\n",
        "chunks = chunker.chunks(plain_text)  # list[str\n",
        "print (chunks )\n",
        "\n",
        "# Or a list of tuples containing the character offset indices and the chunk:\n",
        "#chunks_with_incides = chunker.chunk_with_indices(plain_text)  # list[tuple[str, int]]"
      ],
      "metadata": {
        "colab": {
          "base_uri": "https://localhost:8080/"
        },
        "id": "e05IV5hGqU1P",
        "outputId": "26cb2706-6ed8-4741-a59d-9bc8a78b4e66"
      },
      "execution_count": null,
      "outputs": [
        {
          "output_type": "stream",
          "name": "stdout",
          "text": [
            "['Amitabh Bachchan (pronounced [', 'əmɪˈt̪ɑːbʱ ', 'ˈbətːʃən]', ' ; born Amitabh Srivastava; 11 October 1942) is an Indian actor', ' who works in Hindi cinema. ', 'He is often considered one of the greatest, most accomplished and commercially successful actors in the history of Indian', ' cinema. ', 'With a cinematic career spanning over five decades, he has played pivotal roles in over 200 films.', ' Bachchan is often hailed as the Shahenshah of Bollywood, Sadi Ke ', 'Mahanayak (translated as \"Greatest actor of the century\"', ' in Hindi), Star of the Millennium, or simply Big B. ', 'His dominance in the Indian film industry during the 1970s–80s led the French director', ' François Truffaut to describe it as a \"one-man industry\"', '. He is a recipient of several accolades including six National Film Awards and sixteen Filmfare Awards.\\n', 'Amitabh Bachchan was born in 1942 in Allahabad (now Prayagraj', ') to the Hindi poet Harivansh Rai Bachchan and his wife, the social activist ', 'Teji Bachchan. ', 'He was educated at Sherwood College, Nainital, and Kirori Mal College, University of', \" Delhi. His film career started in 1969 as a voice narrator in Mrinal Sen'\", 's film Bhuvan Shome. ', 'He first gained popularity in the early-1970s for films, such as Anand, ', 'Zanjeer and Roti Kapada Aur Makaan, and achieved greater stardom in', ' later years, being dubbed India\\'s \"Angry Young Man\"', ' for several of his on-screen roles in Hindi films. ', 'He consistently starred in top–grossing Indian films from the mid-1970s to the ', '1980s, such as Deewaar, Sholay, Kabhi Kabhie,', ' Hera Pheri, Amar Akbar Anthony, Parvarish, Kasme Vaade, Don', ', Trishul, Muqaddar Ka Sikandar, Suhaag, ', 'Dostana, Naseeb, Laawaris, Namak Halaal, ', 'Andhaa Kaanoon, Coolie, Sharaabi and Mard, as well as', ' some of his most acclaimed performances, include Namak Haraam, Abhimaan, ', 'Majboor, Mili, Chupke Chupke, Do Anjaane,', ' Kaala Patthar, Shaan, Silsila, Yaarana, Kaalia,', ' Shakti, Aakhree Raasta, Shahenshah and Agneepath.', ' After taking a break from acting in the 1990s, his resurgence was marked in ', '2000 with Mohabbatein. ', 'Since then he starred in several successful and acclaimed films like Kabhi Khushi Kabhie Gham', ', Aankhen, Baghban, Khakee, Black, Bunty Aur Babli', ', Sarkar, Kabhi Alvida Naa Kehna, Bhoothnath, ', 'Cheeni Kum, Paa, Piku, Pink, Badla, Brahmāstra:', ' Part One – Shiva and Kalki 2898 AD. ', 'For Piku, he won his fourth National Film Award for Best Actor, making him the only actor', ' to do so. ', 'Bachchan also made an appearance in a Hollywood film, The Great Gatsby (2013),', ' in which he played a non-Indian Jewish character.\\n', 'Bachchan has won numerous accolades in his career, including record four National Film Awards in Best', ' Actor category and many awards at international film festivals and award ceremonies. ', 'He has won sixteen Filmfare Awards and is the most nominated performer in any major acting category at ', 'Filmfare with 34 nominations in Best Actor and 42 nominations overall. ', 'The Government of India honoured him with the Padma Shri in 1984, the Padma', ' Bhushan in 2001, the Padma Vibhushan in 2015,', \" and India'\", 's highest award in the field of cinema, the Dadasaheb Phalke Award in', ' 2018 for his contributions to the arts. ', 'The Government of France honoured him with its highest civilian honour, Officer of the Legion of Honour, in', ' 2007 for his exceptional career in the world of cinema and beyond.\\n', 'In addition to acting, Bachchan has worked as a playback singer, film producer, and television presenter', '. He has hosted several seasons of the game show Kaun Banega Crorepati, India', \"'\", 's version of the game show franchise, Who Wants to Be a Millionaire?. ', 'He also entered politics for a time in the 1980s. ', 'Bachchan has also been involved in several humanitarian works and he is a leading brand endorser', ' in India. ', 'Beyond the Indian subcontinent, he acquired a large overseas following of the South Asian diaspora, as', ' well as others, in markets including Africa (South Africa, Eastern Africa, and Mauritius), the', ' Middle East (especially Egypt and the UAE), the United Kingdom, Russia, Central Asia, the Caribbean', ' (Guyana, Suriname, and Trinidad and Tobago), Oceania (Fiji,', ' Australia, and New Zealand), Canada and the United States. Bachchan was voted the \"', 'greatest star of stage or screen\"', ' in the BBC Your Millennium online poll in 1999. ', 'In October 2003, Time magazine dubbed Bachchan the \"Star of the Millennium\".']\n"
          ]
        }
      ]
    },
    {
      "cell_type": "markdown",
      "source": [],
      "metadata": {
        "id": "pxHItcYVttQz"
      }
    },
    {
      "cell_type": "markdown",
      "source": [],
      "metadata": {
        "id": "i676u78iqUlv"
      }
    },
    {
      "cell_type": "markdown",
      "source": [],
      "metadata": {
        "id": "T9Tr4UZMnsTT"
      }
    }
  ]
}