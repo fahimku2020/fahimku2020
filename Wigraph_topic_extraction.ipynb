{
  "nbformat": 4,
  "nbformat_minor": 0,
  "metadata": {
    "colab": {
      "provenance": [],
      "authorship_tag": "ABX9TyMafXnmZZVVULwCxI3GXNRp",
      "include_colab_link": true
    },
    "kernelspec": {
      "name": "python3",
      "display_name": "Python 3"
    },
    "language_info": {
      "name": "python"
    }
  },
  "cells": [
    {
      "cell_type": "markdown",
      "metadata": {
        "id": "view-in-github",
        "colab_type": "text"
      },
      "source": [
        "<a href=\"https://colab.research.google.com/github/fahimku2020/fahimku2020/blob/main/Wigraph_topic_extraction.ipynb\" target=\"_parent\"><img src=\"https://colab.research.google.com/assets/colab-badge.svg\" alt=\"Open In Colab\"/></a>"
      ]
    },
    {
      "cell_type": "markdown",
      "source": [
        "pywikigraph helps you determine the relationship between any two wikipedia articles, bold or italic terms. It tells you how closely they are connected to other (degree of separation) and also the exact shortest paths between them. You have the option to specify whether you want to use a directed graph or an undirected graph."
      ],
      "metadata": {
        "id": "LoJeFU5ZsNCr"
      }
    },
    {
      "cell_type": "code",
      "source": [],
      "metadata": {
        "id": "2wnb71PPsL8B"
      },
      "execution_count": null,
      "outputs": []
    },
    {
      "cell_type": "code",
      "source": [
        "!pip install pywikigraph"
      ],
      "metadata": {
        "colab": {
          "base_uri": "https://localhost:8080/"
        },
        "id": "UUMKj9kjox4U",
        "outputId": "3fe95912-5837-4784-8b54-a90f76f9853f"
      },
      "execution_count": 4,
      "outputs": [
        {
          "output_type": "stream",
          "name": "stdout",
          "text": [
            "Collecting pywikigraph\n",
            "  Downloading pywikigraph-0.0.2-py3-none-any.whl.metadata (4.4 kB)\n",
            "Requirement already satisfied: scipy in /usr/local/lib/python3.10/dist-packages (from pywikigraph) (1.13.1)\n",
            "Requirement already satisfied: numpy<2.3,>=1.22.4 in /usr/local/lib/python3.10/dist-packages (from scipy->pywikigraph) (1.26.4)\n",
            "Downloading pywikigraph-0.0.2-py3-none-any.whl (8.0 kB)\n",
            "Installing collected packages: pywikigraph\n",
            "Successfully installed pywikigraph-0.0.2\n"
          ]
        }
      ]
    },
    {
      "cell_type": "markdown",
      "source": [],
      "metadata": {
        "id": "l1OgHFhDoxqS"
      }
    },
    {
      "cell_type": "code",
      "execution_count": 5,
      "metadata": {
        "id": "Uh7DQifAoYWm"
      },
      "outputs": [],
      "source": [
        "from pywikigraph import WikiGraph\n",
        "wg = WikiGraph()"
      ]
    },
    {
      "cell_type": "code",
      "source": [
        "paths = wg.get_shortest_paths_info('Backpropagation', 'Data Science')\n",
        "path"
      ],
      "metadata": {
        "id": "SrqzZt7ko4_B",
        "colab": {
          "base_uri": "https://localhost:8080/"
        },
        "outputId": "77def644-2c8d-4a21-8cc7-3a4fffeea68e"
      },
      "execution_count": 7,
      "outputs": [
        {
          "output_type": "stream",
          "name": "stdout",
          "text": [
            "Downloading index.pkl... (may take several minutes as it is 1 GB)\n",
            "Loading /root/.pywikigraph/index.pkl to memory...\n",
            "Downloading wikigraph_directed_csr.npz... (may take several minutes as it is 680 MBs)\n",
            "Loading /root/.pywikigraph/wikigraph_directed_csr.npz to memory...\n"
          ]
        },
        {
          "output_type": "execute_result",
          "data": {
            "text/plain": [
              "(2, 1, [['backpropagation', 'machine learning', 'data science']])"
            ]
          },
          "metadata": {},
          "execution_count": 7
        }
      ]
    },
    {
      "cell_type": "code",
      "source": [
        "paths_info = wg.get_shortest_paths_info('Deep learning', 'activation function' , directed=False)\n",
        "paths_info"
      ],
      "metadata": {
        "id": "8AkUYkvoo4tO",
        "colab": {
          "base_uri": "https://localhost:8080/"
        },
        "outputId": "8f14b2e4-4d22-43cc-f2e4-10e5c4206844"
      },
      "execution_count": 15,
      "outputs": [
        {
          "output_type": "execute_result",
          "data": {
            "text/plain": [
              "(2,\n",
              " 26,\n",
              " [['deep learning', 'artificial neural network', 'activation function'],\n",
              "  ['deep learning', 'artificial neuron', 'activation function'],\n",
              "  ['deep learning', 'autoencoder', 'activation function'],\n",
              "  ['deep learning', 'backpropagation', 'activation function'],\n",
              "  ['deep learning', 'biological neural network', 'activation function'],\n",
              "  ['deep learning',\n",
              "   'book:machine learning – the complete guide',\n",
              "   'activation function'],\n",
              "  ['deep learning',\n",
              "   'category:artificial neural networks',\n",
              "   'activation function'],\n",
              "  ['deep learning', 'convolutional neural network', 'activation function'],\n",
              "  ['deep learning', 'fast artificial neural network', 'activation function'],\n",
              "  ['deep learning', 'feedforward neural network', 'activation function'],\n",
              "  ['deep learning', 'george cybenko', 'activation function'],\n",
              "  ['deep learning',\n",
              "   'glossary of artificial intelligence',\n",
              "   'activation function'],\n",
              "  ['deep learning', 'keras', 'activation function'],\n",
              "  ['deep learning', 'learning rate', 'activation function'],\n",
              "  ['deep learning', 'lenet', 'activation function'],\n",
              "  ['deep learning', 'long short-term memory', 'activation function'],\n",
              "  ['deep learning', 'multilayer perceptron', 'activation function'],\n",
              "  ['deep learning', 'neural networks', 'activation function'],\n",
              "  ['deep learning', 'neural tangent kernel', 'activation function'],\n",
              "  ['deep learning', 'outline of machine learning', 'activation function'],\n",
              "  ['deep learning', 'rectifier (neural networks)', 'activation function'],\n",
              "  ['deep learning', 'recurrent neural network', 'activation function'],\n",
              "  ['deep learning', 'sepp hochreiter', 'activation function'],\n",
              "  ['deep learning', 'sigmoid function', 'activation function'],\n",
              "  ['deep learning', 'universal approximation theorem', 'activation function'],\n",
              "  ['deep learning', 'vanishing gradient problem', 'activation function']])"
            ]
          },
          "metadata": {},
          "execution_count": 15
        }
      ]
    },
    {
      "cell_type": "markdown",
      "source": [],
      "metadata": {
        "id": "U0zVycUUo4eB"
      }
    }
  ]
}