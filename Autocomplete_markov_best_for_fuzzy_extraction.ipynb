{
  "nbformat": 4,
  "nbformat_minor": 0,
  "metadata": {
    "colab": {
      "provenance": [],
      "authorship_tag": "ABX9TyPbA0moDZKTL4zHzGU72et0",
      "include_colab_link": true
    },
    "kernelspec": {
      "name": "python3",
      "display_name": "Python 3"
    },
    "language_info": {
      "name": "python"
    }
  },
  "cells": [
    {
      "cell_type": "markdown",
      "metadata": {
        "id": "view-in-github",
        "colab_type": "text"
      },
      "source": [
        "<a href=\"https://colab.research.google.com/github/fahimku2020/fahimku2020/blob/main/Autocomplete_markov_best_for_fuzzy_extraction.ipynb\" target=\"_parent\"><img src=\"https://colab.research.google.com/assets/colab-badge.svg\" alt=\"Open In Colab\"/></a>"
      ]
    },
    {
      "cell_type": "code",
      "source": [
        "!pip install markov_autocomplete"
      ],
      "metadata": {
        "colab": {
          "base_uri": "https://localhost:8080/",
          "height": 0
        },
        "id": "Gc3cKioUafZT",
        "outputId": "367e3346-f580-4b3c-9a75-807c30a43056"
      },
      "execution_count": 1,
      "outputs": [
        {
          "output_type": "stream",
          "name": "stdout",
          "text": [
            "Collecting markov_autocomplete\n",
            "  Downloading markov_autocomplete-1.0.1.tar.gz (5.5 kB)\n",
            "  Preparing metadata (setup.py) ... \u001b[?25l\u001b[?25hdone\n",
            "Building wheels for collected packages: markov_autocomplete\n",
            "  Building wheel for markov_autocomplete (setup.py) ... \u001b[?25l\u001b[?25hdone\n",
            "  Created wheel for markov_autocomplete: filename=markov_autocomplete-1.0.1-py2.py3-none-any.whl size=5991 sha256=8361418bc0adb431e6875eaed7a102cf96410ac9bc1e6e4be2bc85fbf5b36efe\n",
            "  Stored in directory: /root/.cache/pip/wheels/16/5b/63/ce83b28be3eb58606a199a9c81d21281877dc77d4be44af334\n",
            "Successfully built markov_autocomplete\n",
            "Installing collected packages: markov_autocomplete\n",
            "Successfully installed markov_autocomplete-1.0.1\n"
          ]
        }
      ]
    },
    {
      "cell_type": "code",
      "source": [
        "from markov_autocomplete.autocomplete import Autocomplete"
      ],
      "metadata": {
        "id": "EA_HoO_8ail6"
      },
      "execution_count": 2,
      "outputs": []
    },
    {
      "cell_type": "code",
      "source": [
        "sentences = [\"I WAS born in the year 1632, in the city of York, of a good family, though not of that country, my father being a foreigner of Bremen, who settled first at Hull. He got a good estate by merchandise, and leaving off his trade, lived afterwards at York, from whence he had married my mother, whose relations were named Robinson, a very good family in that country, and from whom I was called Robinson Kreutznaer; but, by the usual corruption of words in England, we are now called - nay we call ourselves and write our name - Crusoe; and so my companions always called me.\", \"I had two elder brothers, one of whom was lieutenant-colonel to an English regiment of foot in Flanders, formerly commanded by the famous Colonel Lockhart, and was killed at the battle near Dunkirk against the Spaniards. What became of my second brother I never knew, any more than my father or mother knew what became of me.\"]"
      ],
      "metadata": {
        "id": "sPasTC9jaiYg"
      },
      "execution_count": 3,
      "outputs": []
    },
    {
      "cell_type": "code",
      "source": [
        "ac = Autocomplete(model_path = \"ngram\", sentences = sentences, n_model=20, n_candidates=10, match_model=\"middle\", min_freq=0, punctuations=\"\", lowercase=True)"
      ],
      "metadata": {
        "colab": {
          "base_uri": "https://localhost:8080/",
          "height": 0
        },
        "id": "i89I1yDhaxLx",
        "outputId": "2ea3463f-bfd1-4b0c-8bf8-fcec3e6651c8"
      },
      "execution_count": 15,
      "outputs": [
        {
          "output_type": "stream",
          "name": "stdout",
          "text": [
            "Saving the 1-grams in ngram/1-grams.pickle\n",
            "Saving the 2-grams in ngram/2-grams.pickle\n",
            "Saving the 3-grams in ngram/3-grams.pickle\n",
            "Saving the 4-grams in ngram/4-grams.pickle\n",
            "Saving the 5-grams in ngram/5-grams.pickle\n",
            "Saving the 6-grams in ngram/6-grams.pickle\n",
            "Saving the 7-grams in ngram/7-grams.pickle\n",
            "Saving the 8-grams in ngram/8-grams.pickle\n",
            "Saving the 9-grams in ngram/9-grams.pickle\n",
            "Saving the 10-grams in ngram/10-grams.pickle\n",
            "Saving the 11-grams in ngram/11-grams.pickle\n",
            "Saving the 12-grams in ngram/12-grams.pickle\n",
            "Saving the 13-grams in ngram/13-grams.pickle\n",
            "Saving the 14-grams in ngram/14-grams.pickle\n",
            "Saving the 15-grams in ngram/15-grams.pickle\n",
            "Saving the 16-grams in ngram/16-grams.pickle\n",
            "Saving the 17-grams in ngram/17-grams.pickle\n",
            "Saving the 18-grams in ngram/18-grams.pickle\n",
            "Saving the 19-grams in ngram/19-grams.pickle\n",
            "Saving the 20-grams in ngram/20-grams.pickle\n"
          ]
        }
      ]
    },
    {
      "cell_type": "code",
      "source": [
        "ac.predictions(\"lieutenant-colonel\")"
      ],
      "metadata": {
        "colab": {
          "base_uri": "https://localhost:8080/",
          "height": 0
        },
        "id": "ToTxRMb6aw6B",
        "outputId": "e0c677ff-28b7-4a8b-f4c9-6b54d1196789"
      },
      "execution_count": 16,
      "outputs": [
        {
          "output_type": "execute_result",
          "data": {
            "text/plain": [
              "(['Of whom was lieutenant-colonel to an english regiment of foot in flanders, formerly commanded by the famous colonel lockhart, and',\n",
              "  'I had two elder brothers, one of whom was lieutenant-colonel to an english regiment of foot in flanders, formerly commanded',\n",
              "  'Was lieutenant-colonel to an english regiment of foot in flanders, formerly commanded by the famous colonel lockhart, and was killed',\n",
              "  'Had two elder brothers, one of whom was lieutenant-colonel to an english regiment of foot in flanders, formerly commanded by',\n",
              "  'Whom was lieutenant-colonel to an english regiment of foot in flanders, formerly commanded by the famous colonel lockhart, and was',\n",
              "  'Two elder brothers, one of whom was lieutenant-colonel to an english regiment of foot in flanders, formerly commanded by the',\n",
              "  'Elder brothers, one of whom was lieutenant-colonel to an english regiment of foot in flanders, formerly commanded by the famous',\n",
              "  'Brothers, one of whom was lieutenant-colonel to an english regiment of foot in flanders, formerly commanded by the famous colonel',\n",
              "  'One of whom was lieutenant-colonel to an english regiment of foot in flanders, formerly commanded by the famous colonel lockhart,',\n",
              "  'Lieutenant-colonel to an english regiment of foot in flanders, formerly commanded by the famous colonel lockhart, and was killed at'],\n",
              " [-43.342634451514655,\n",
              "  -43.69481696962602,\n",
              "  -43.69481696962602,\n",
              "  -43.99584696529,\n",
              "  -43.99584696529,\n",
              "  -44.29687696095398,\n",
              "  -44.29687696095398,\n",
              "  -44.29687696095398,\n",
              "  -44.29687696095398,\n",
              "  -44.29687696095398])"
            ]
          },
          "metadata": {},
          "execution_count": 16
        }
      ]
    },
    {
      "cell_type": "markdown",
      "source": [],
      "metadata": {
        "id": "MhWkj4MJaYjs"
      }
    },
    {
      "cell_type": "markdown",
      "source": [],
      "metadata": {
        "id": "T40816hPaFD7"
      }
    },
    {
      "cell_type": "markdown",
      "source": [],
      "metadata": {
        "id": "gCEKSLitZ-Gk"
      }
    },
    {
      "cell_type": "markdown",
      "source": [],
      "metadata": {
        "id": "mCshyhbF98C9"
      }
    }
  ]
}