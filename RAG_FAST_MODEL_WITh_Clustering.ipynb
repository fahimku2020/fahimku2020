{
  "nbformat": 4,
  "nbformat_minor": 0,
  "metadata": {
    "colab": {
      "provenance": [],
      "authorship_tag": "ABX9TyMbUyTzxLTS4RA9GgG0HSXH",
      "include_colab_link": true
    },
    "kernelspec": {
      "name": "python3",
      "display_name": "Python 3"
    },
    "language_info": {
      "name": "python"
    }
  },
  "cells": [
    {
      "cell_type": "markdown",
      "metadata": {
        "id": "view-in-github",
        "colab_type": "text"
      },
      "source": [
        "<a href=\"https://colab.research.google.com/github/fahimku2020/fahimku2020/blob/main/RAG_FAST_MODEL_WITh_Clustering.ipynb\" target=\"_parent\"><img src=\"https://colab.research.google.com/assets/colab-badge.svg\" alt=\"Open In Colab\"/></a>"
      ]
    },
    {
      "cell_type": "code",
      "source": [
        "!pip install faiss-cpu\n",
        "!pip install wikipedia"
      ],
      "metadata": {
        "colab": {
          "base_uri": "https://localhost:8080/"
        },
        "id": "uvjjDNqYRWBV",
        "outputId": "0c2b62f4-0c12-41f5-e6a2-26908ad544f0"
      },
      "execution_count": 4,
      "outputs": [
        {
          "output_type": "stream",
          "name": "stdout",
          "text": [
            "Collecting faiss-cpu\n",
            "  Downloading faiss_cpu-1.9.0-cp310-cp310-manylinux_2_17_x86_64.manylinux2014_x86_64.whl.metadata (4.4 kB)\n",
            "Requirement already satisfied: numpy<3.0,>=1.25.0 in /usr/local/lib/python3.10/dist-packages (from faiss-cpu) (1.26.4)\n",
            "Requirement already satisfied: packaging in /usr/local/lib/python3.10/dist-packages (from faiss-cpu) (24.2)\n",
            "Downloading faiss_cpu-1.9.0-cp310-cp310-manylinux_2_17_x86_64.manylinux2014_x86_64.whl (27.5 MB)\n",
            "\u001b[2K   \u001b[90m━━━━━━━━━━━━━━━━━━━━━━━━━━━━━━━━━━━━━━━━\u001b[0m \u001b[32m27.5/27.5 MB\u001b[0m \u001b[31m30.3 MB/s\u001b[0m eta \u001b[36m0:00:00\u001b[0m\n",
            "\u001b[?25hInstalling collected packages: faiss-cpu\n",
            "Successfully installed faiss-cpu-1.9.0\n",
            "Collecting wikipedia\n",
            "  Downloading wikipedia-1.4.0.tar.gz (27 kB)\n",
            "  Preparing metadata (setup.py) ... \u001b[?25l\u001b[?25hdone\n",
            "Requirement already satisfied: beautifulsoup4 in /usr/local/lib/python3.10/dist-packages (from wikipedia) (4.12.3)\n",
            "Requirement already satisfied: requests<3.0.0,>=2.0.0 in /usr/local/lib/python3.10/dist-packages (from wikipedia) (2.32.3)\n",
            "Requirement already satisfied: charset-normalizer<4,>=2 in /usr/local/lib/python3.10/dist-packages (from requests<3.0.0,>=2.0.0->wikipedia) (3.4.0)\n",
            "Requirement already satisfied: idna<4,>=2.5 in /usr/local/lib/python3.10/dist-packages (from requests<3.0.0,>=2.0.0->wikipedia) (3.10)\n",
            "Requirement already satisfied: urllib3<3,>=1.21.1 in /usr/local/lib/python3.10/dist-packages (from requests<3.0.0,>=2.0.0->wikipedia) (2.2.3)\n",
            "Requirement already satisfied: certifi>=2017.4.17 in /usr/local/lib/python3.10/dist-packages (from requests<3.0.0,>=2.0.0->wikipedia) (2024.8.30)\n",
            "Requirement already satisfied: soupsieve>1.2 in /usr/local/lib/python3.10/dist-packages (from beautifulsoup4->wikipedia) (2.6)\n",
            "Building wheels for collected packages: wikipedia\n",
            "  Building wheel for wikipedia (setup.py) ... \u001b[?25l\u001b[?25hdone\n",
            "  Created wheel for wikipedia: filename=wikipedia-1.4.0-py3-none-any.whl size=11679 sha256=bdb63e176d26677d0c64d424a7d169388dd339cb71098a4ed9c5a20a7ca522b1\n",
            "  Stored in directory: /root/.cache/pip/wheels/5e/b6/c5/93f3dec388ae76edc830cb42901bb0232504dfc0df02fc50de\n",
            "Successfully built wikipedia\n",
            "Installing collected packages: wikipedia\n",
            "Successfully installed wikipedia-1.4.0\n"
          ]
        }
      ]
    },
    {
      "cell_type": "markdown",
      "source": [],
      "metadata": {
        "id": "kWDPmACURgB9"
      }
    },
    {
      "cell_type": "code",
      "execution_count": 26,
      "metadata": {
        "colab": {
          "base_uri": "https://localhost:8080/"
        },
        "id": "sJF3PWDqI0TA",
        "outputId": "d5260927-11cc-45e1-a481-a735c59ba2d8"
      },
      "outputs": [
        {
          "output_type": "stream",
          "name": "stdout",
          "text": [
            "['amitabh bachchan indian actor playback singer film producer television host former politician primarily works hindi films', 'made acting debut 1969 saat hindustani narrated mrinal sen bhuvan shome 1969', 'later appeared bhaskar banerjee hrishikesh mukherjee anand 1971 filmfare award best supporting actor', '1973 bachchan played breakthrough role inspector vijay khanna prakash mehra action film zanjeer', 'since appeared several films character name vijay', 'year appeared abhimaan namak haraam', 'latter received filmfare award best supporting actor', 'starred along shashi kapoor yash chopra deewaar earned widespread critical acclaim popularity made filmfare award best actor nomination', 'cited angry young man roles deewaar zanjeer', 'later starred ramesh sippy sholay 1975 considered one greatest indian films time', 'appearing romantic drama kabhie kabhie 1976 bachchan starred manmohan desai highest grosser amar akbar anthony 1977', 'filmfare award best actor performance latter', 'played dual roles vijay 1978 earned filmfare best actor award consecutive year', 'huge blockbusters', 'bachchan stardom continued roar early 1980s critically commercially successful ventures period include dostana 1980 shaan 1980 ram balram 1980 naseeb 1981 lawaaris 1981 kaalia 1981 yaarana 1981 satte pe satta 1982 namak halaal 1982 1982 andha kanoon 1983 coolie 1983', 'performances films dostana shakti earned nominations filmfare award best actor', 'suffered injury shooting coolie', 'workload decreased upcoming four years found critical commercial success sharaabi 1984 geraftaar 1985 mard 1985', 'returned screen success shahenshah 1988', 'year later bachchan played role gangster vijay deenanath chauhan mukul anand agneepath 1990 earned national film award best actor later starred hum 1991 commercial success', 'despite failure former garnered national film award best actor since developed cult status', 'also earned filmfare award best actor hum following took another break acting', 'played badshah khan anand 1992 drama khuda gawah received civilian award president afghanistan', 'khuda gawah released 8 may 1992 also critical commercial success bachchan performance well received domestically internationally', '1996 started film production company amitabh bachchan corporation whose first release tere mere sapne 1996 hit', 'amitabh bachchan also known shahenshah big b bollywood', '2000 bachchan appeared widely acclaimed supporting role aditya chopra mohabbatein', 'filmfare award best supporting actor', 'year made television debut host game show kaun banega crorepati', 'since hosted every season except third one', 'went play roles banker aankhen 2002 disillusioned father baghban 2003 conflicted cop khakee 2004', '2005 played role teacher blind deaf girl sanjay leela bhansali black received national award filmfare award best actor', 'received another national award best actor playing progeria patient balki paa 2009', 'also portrayed title character friendly ghost bhoothnath 2008 sequel bhoothnath returns 2014', 'played hypochondriac piku 2015', 'earned fourth national film award best actor played character man constipation piku', 'bachchan also narrated several films including shatranj ke khilari 1977 lagaan 2001 parineeta 2005 jodhaa akbar 2008 2011 krrish 3 2013', 'also performed playback singer films like laawaris silsila baghban', 'films acting credits production credits television documentaries music videos footnotes see also awards nominations received amitabh bachchan references external links amitabh bachchan imdb amitabh bachchan rotten tomatoes']\n"
          ]
        }
      ],
      "source": [
        "import wikipedia\n",
        "import nltk\n",
        "from nltk.tokenize import sent_tokenize\n",
        "from nltk.corpus import stopwords\n",
        "import numpy as np\n",
        "from sklearn.feature_extraction.text import TfidfVectorizer\n",
        "from sklearn.cluster import KMeans\n",
        "\n",
        "import nltk\n",
        "#nltk.download('punkt')\n",
        "#nltk.download('punkt_tab')\n",
        "#nltk.download('stopwords')\n",
        "\n",
        "# 1. Data Loading (Wikipedia) and Preprocessing\n",
        "\n",
        "def fetch_wikipedia_data(query, num_pages=3):\n",
        "  pages = wikipedia.search(query, results=num_pages)\n",
        "  data = \"\"\n",
        "  for page in pages:\n",
        "    content = wikipedia.page(page).content\n",
        "    return content\n",
        "\n",
        "def preprocess_text(text):\n",
        "  stop_words = set(stopwords.words('english'))\n",
        "  preprocessed_sentences = []\n",
        "  sentences = sent_tokenize(text)\n",
        "  for sentence in sentences :\n",
        "    words = [word.lower() for word in nltk.word_tokenize(sentence) if word.isalnum() and word.lower() not in stop_words]\n",
        "    preprocessed_sentences.append(\" \".join(words))\n",
        "  return preprocessed_sentences\n",
        "\n",
        "\n",
        "query = \"Amitabh  Bachchan films \"\n",
        "wikipedia_data = fetch_wikipedia_data(query)\n",
        "#print(wikipedia_data)\n",
        "sentences = preprocess_text(wikipedia_data)\n",
        "print(sentences)\n",
        "\n"
      ]
    },
    {
      "cell_type": "code",
      "source": [
        "from sklearn.metrics.pairwise import cosine_similarity\n",
        "\n",
        "def search_and_rerank(query, index, vectorizer, sentences, labels, kmeans, topk=5):\n",
        "    # 1. Initial Search (TF-IDF & Cosine Similarity)\n",
        "    query_vec = vectorizer.transform([query])\n",
        "    similarities = cosine_similarity(query_vec, index).flatten()\n",
        "    top_indices = np.argsort(similarities)[-topk:]  # Get indices of top-k similar sentences\n",
        "    initial_results = [(sentences[i], similarities[i]) for i in top_indices]\n",
        "\n",
        "\n",
        "    # 2. Reranking with K-means Clustering\n",
        "    query_cluster = kmeans.predict(query_vec)[0] # Predict the cluster of the query\n",
        "\n",
        "    reranked_results = []\n",
        "    for sentence, similarity in initial_results:\n",
        "        sentence_index = sentences.index(sentence)  # Need to get the original index\n",
        "        sentence_cluster = labels[sentence_index]\n",
        "\n",
        "        if sentence_cluster == query_cluster:  # Boost score if in same cluster\n",
        "            reranked_results.append((sentence, similarity + 0.2)) # Example boost value, tune as needed\n",
        "        else:\n",
        "            reranked_results.append((sentence, similarity)) # Use the same similarity when not in the same cluster\n",
        "\n",
        "    # 3. Sort Reranked Results\n",
        "    reranked_results.sort(key=lambda x: x[1], reverse=True)  # Sort by reranked similarity\n",
        "\n",
        "\n",
        "\n",
        "    return reranked_results[:topk]\n",
        "\n",
        "\n",
        "\n",
        "\n",
        "\n",
        "\n",
        "# Create a TF-IDF vectorizer\n",
        "vectorizer = TfidfVectorizer()\n",
        "index = vectorizer.fit_transform(sentences)\n",
        "\n",
        "# Mock k-means clustering (replace with actual training)\n",
        "from sklearn.cluster import KMeans\n",
        "kmeans = KMeans(n_clusters=3, random_state=0).fit(index)  # Fit to your sentence vectors\n",
        "labels = kmeans.labels_\n",
        "\n",
        "results = search_and_rerank(query, index, vectorizer, sentences, labels, kmeans, topk=15)\n",
        "\n",
        "for sentence, score in results:\n",
        "    print(f\"Sentence: {sentence}, Score: {score}\")"
      ],
      "metadata": {
        "colab": {
          "base_uri": "https://localhost:8080/"
        },
        "id": "lfp_q9grOiYi",
        "outputId": "efce5124-05ea-41e2-adf1-77307be1f080"
      },
      "execution_count": 29,
      "outputs": [
        {
          "output_type": "stream",
          "name": "stdout",
          "text": [
            "Sentence: films acting credits production credits television documentaries music videos footnotes see also awards nominations received amitabh bachchan references external links amitabh bachchan imdb amitabh bachchan rotten tomatoes, Score: 0.7089477180409769\n",
            "Sentence: amitabh bachchan also known shahenshah big b bollywood, Score: 0.5444854755760884\n",
            "Sentence: amitabh bachchan indian actor playback singer film producer television host former politician primarily works hindi films, Score: 0.5356002922471833\n",
            "Sentence: 1996 started film production company amitabh bachchan corporation whose first release tere mere sapne 1996 hit, Score: 0.39403010091481605\n",
            "Sentence: bachchan also narrated several films including shatranj ke khilari 1977 lagaan 2001 parineeta 2005 jodhaa akbar 2008 2011 krrish 3 2013, Score: 0.3539777366823486\n",
            "Sentence: also performed playback singer films like laawaris silsila baghban, Score: 0.33738188762048205\n",
            "Sentence: 2000 bachchan appeared widely acclaimed supporting role aditya chopra mohabbatein, Score: 0.29408739839378495\n",
            "Sentence: 1973 bachchan played breakthrough role inspector vijay khanna prakash mehra action film zanjeer, Score: 0.28277968946753895\n",
            "Sentence: appearing romantic drama kabhie kabhie 1976 bachchan starred manmohan desai highest grosser amar akbar anthony 1977, Score: 0.2654337070342116\n",
            "Sentence: bachchan stardom continued roar early 1980s critically commercially successful ventures period include dostana 1980 shaan 1980 ram balram 1980 naseeb 1981 lawaaris 1981 kaalia 1981 yaarana 1981 satte pe satta 1982 namak halaal 1982 1982 andha kanoon 1983 coolie 1983, Score: 0.23285673654172384\n",
            "Sentence: since appeared several films character name vijay, Score: 0.1693431943992102\n",
            "Sentence: performances films dostana shakti earned nominations filmfare award best actor, Score: 0.15625451133506377\n",
            "Sentence: later starred ramesh sippy sholay 1975 considered one greatest indian films time, Score: 0.11535664372638434\n",
            "Sentence: khuda gawah released 8 may 1992 also critical commercial success bachchan performance well received domestically internationally, Score: 0.07831990419463854\n",
            "Sentence: year later bachchan played role gangster vijay deenanath chauhan mukul anand agneepath 1990 earned national film award best actor later starred hum 1991 commercial success, Score: 0.06260282604927514\n"
          ]
        }
      ]
    },
    {
      "cell_type": "markdown",
      "source": [],
      "metadata": {
        "id": "ehAVCq3gOh-g"
      }
    },
    {
      "cell_type": "markdown",
      "source": [],
      "metadata": {
        "id": "x7L8qOvCVi2O"
      }
    }
  ]
}