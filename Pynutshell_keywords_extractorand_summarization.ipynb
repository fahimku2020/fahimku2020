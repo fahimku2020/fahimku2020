{
  "nbformat": 4,
  "nbformat_minor": 0,
  "metadata": {
    "colab": {
      "provenance": [],
      "authorship_tag": "ABX9TyNK0S1XjMrxXoOro4K8hze6",
      "include_colab_link": true
    },
    "kernelspec": {
      "name": "python3",
      "display_name": "Python 3"
    },
    "language_info": {
      "name": "python"
    }
  },
  "cells": [
    {
      "cell_type": "markdown",
      "metadata": {
        "id": "view-in-github",
        "colab_type": "text"
      },
      "source": [
        "<a href=\"https://colab.research.google.com/github/fahimku2020/fahimku2020/blob/main/Pynutshell_keywords_extractorand_summarization.ipynb\" target=\"_parent\"><img src=\"https://colab.research.google.com/assets/colab-badge.svg\" alt=\"Open In Colab\"/></a>"
      ]
    },
    {
      "cell_type": "code",
      "execution_count": null,
      "metadata": {
        "colab": {
          "base_uri": "https://localhost:8080/"
        },
        "id": "6uJQ-pmaRhuI",
        "outputId": "48a75eb7-6161-4fdd-f95a-68bb8f350e5f"
      },
      "outputs": [
        {
          "output_type": "stream",
          "name": "stdout",
          "text": [
            "Collecting pynutshell\n",
            "  Downloading pynutshell-1.0.2-py3-none-any.whl.metadata (7.2 kB)\n",
            "Requirement already satisfied: numpy in /usr/local/lib/python3.10/dist-packages (from pynutshell) (1.26.4)\n",
            "Requirement already satisfied: networkx in /usr/local/lib/python3.10/dist-packages (from pynutshell) (3.4.2)\n",
            "Requirement already satisfied: nltk in /usr/local/lib/python3.10/dist-packages (from pynutshell) (3.9.1)\n",
            "Requirement already satisfied: click in /usr/local/lib/python3.10/dist-packages (from nltk->pynutshell) (8.1.7)\n",
            "Requirement already satisfied: joblib in /usr/local/lib/python3.10/dist-packages (from nltk->pynutshell) (1.4.2)\n",
            "Requirement already satisfied: regex>=2021.8.3 in /usr/local/lib/python3.10/dist-packages (from nltk->pynutshell) (2024.9.11)\n",
            "Requirement already satisfied: tqdm in /usr/local/lib/python3.10/dist-packages (from nltk->pynutshell) (4.66.6)\n",
            "Downloading pynutshell-1.0.2-py3-none-any.whl (12 kB)\n",
            "Installing collected packages: pynutshell\n",
            "Successfully installed pynutshell-1.0.2\n"
          ]
        }
      ],
      "source": [
        "!pip install pynutshell"
      ]
    },
    {
      "cell_type": "code",
      "source": [
        "import nltk\n",
        "nltk.download('punkt_tab')\n",
        "nltk.download('stopwords')\n",
        "nltk.download('wordnet')\n",
        "nltk.download('averaged_perceptron_tagger')"
      ],
      "metadata": {
        "colab": {
          "base_uri": "https://localhost:8080/"
        },
        "id": "5CA5gtFmSxDa",
        "outputId": "215e5643-ba46-4160-85c7-462161bfa30a"
      },
      "execution_count": null,
      "outputs": [
        {
          "output_type": "stream",
          "name": "stderr",
          "text": [
            "[nltk_data] Downloading package punkt_tab to /root/nltk_data...\n",
            "[nltk_data]   Package punkt_tab is already up-to-date!\n",
            "[nltk_data] Downloading package stopwords to /root/nltk_data...\n",
            "[nltk_data]   Unzipping corpora/stopwords.zip.\n",
            "[nltk_data] Downloading package wordnet to /root/nltk_data...\n",
            "[nltk_data] Downloading package averaged_perceptron_tagger to\n",
            "[nltk_data]     /root/nltk_data...\n",
            "[nltk_data]   Unzipping taggers/averaged_perceptron_tagger.zip.\n"
          ]
        },
        {
          "output_type": "execute_result",
          "data": {
            "text/plain": [
              "True"
            ]
          },
          "metadata": {},
          "execution_count": 6
        }
      ]
    },
    {
      "cell_type": "markdown",
      "source": [],
      "metadata": {
        "id": "qXhD6AN-SwA3"
      }
    },
    {
      "cell_type": "code",
      "source": [
        "from nutshell.algorithms.information_retrieval import ClassicalIR\n",
        "from nutshell.algorithms.ranking import TextRank\n",
        "from nutshell.algorithms.similarity import BM25Plus\n",
        "from nutshell.model import Summarizer\n",
        "from nutshell.preprocessing.cleaner import NLTKCleaner\n",
        "from nutshell.preprocessing.preprocessor import TextPreProcessor\n",
        "from nutshell.preprocessing.tokenizer import NLTKTokenizer\n",
        "from nutshell.utils import load_corpus, construct_sentences_from_ranking\n",
        "\n",
        "# Example\n",
        "corpus = load_corpus('/content/sample_data/A.txt.txt')\n",
        "print(\"\\n --- Original Text ---\\n\")\n",
        "print(corpus)\n",
        "\n",
        "preprocessor = TextPreProcessor(NLTKTokenizer(), NLTKCleaner())\n",
        "similarity_algorithm = BM25Plus()\n",
        "ranker = TextRank()\n",
        "ir = ClassicalIR()\n",
        "\n",
        "# Text Summarization\n",
        "model = Summarizer(preprocessor, similarity_algorithm, ranker, ir)\n",
        "summarised_content = model.summarise(corpus, reduction_ratio=0.70, preserve_order=True)\n",
        "\n",
        "print(\"\\n --- Summarized Text ---\\n\")\n",
        "print(construct_sentences_from_ranking(summarised_content))"
      ],
      "metadata": {
        "id": "Ld6acdWxRl2_",
        "colab": {
          "base_uri": "https://localhost:8080/",
          "height": 567
        },
        "outputId": "121bd97d-67e3-48fc-81ad-7bba4e55abe2"
      },
      "execution_count": null,
      "outputs": [
        {
          "output_type": "stream",
          "name": "stdout",
          "text": [
            "\n",
            " --- Original Text ---\n",
            "\n",
            "Amitabh Bachchan (pronounced [əmɪˈt̪ɑːbʱ ˈbətːʃən] ⓘ; born Amitabh Srivastava;[1] 11 October 1942[7]) is an Indian actor who works in Hindi cinema. He is often considered one of the greatest, most accomplished and commercially successful actors in the history of Indian cinema.[8] With a cinematic career spanning over five decades, he has played pivotal roles in over 200 films. Bachchan is often hailed as the Shahenshah of Bollywood, Sadi Ke Mahanayak (translated as \"Greatest actor of the century\" in Hindi), Star of the Millennium, or simply Big B.[9] His dominance in the Indian film industry during the 1970s–80s led the French director François Truffaut to describe it as a \"one-man industry\".[10] He is a recipient of several accolades including six National Film Awards and sixteen Filmfare Awards.\n",
            "\n",
            "He was born in 1942 in Allahabad (now Prayagraj) to the Hindi poet Harivansh Rai Bachchan and his wife, the social activist Teji Bachchan. He was educated at Sherwood College, Nainital, and Kirori Mal College, University of Delhi. His film career started in 1969 as a voice narrator in Mrinal Sen's film Bhuvan Shome. He first gained popularity in the early-1970s for films, such as Anand, Zanjeer and Roti Kapada Aur Makaan, and achieved greater stardom in later years, being dubbed India's \"Angry Young Man\" for several of his on-screen roles in Hindi films.[11][12] He consistently starred in top–grossing Indian films from the mid-1970s to the 1980s, such as Deewaar, Sholay, Kabhi Kabhie, Hera Pheri, Amar Akbar Anthony, Parvarish, Kasme Vaade, Don, Trishul, Muqaddar Ka Sikandar, Suhaag, Dostana, Naseeb, Laawaris, Namak Halaal, Andhaa Kaanoon, Coolie, Sharaabi and Mard,[13][14] as well as some of his most acclaimed performances, include Namak Haraam, Abhimaan, Majboor, Mili, Chupke Chupke, Do Anjaane, Kaala Patthar, Shaan, Silsila, Yaarana, Kaalia, Shakti, Aakhree Raasta, Shahenshah and Agneepath.[15][16] After taking a break from acting in the 1990s, his resurgence was marked in 2000 with Mohabbatein.[17] Since then he starred in several successful and acclaimed films like Kabhi Khushi Kabhie Gham, Aankhen, Baghban, Khakee, Black, Bunty Aur Babli, Sarkar, Kabhi Alvida Naa Kehna, Bhoothnath, Cheeni Kum, Paa, Piku, Pink, Badla, Brahmāstra: Part One – Shiva and Kalki 2898 AD.[18] For Piku, he won his fourth National Film Award for Best Actor, making him the only actor to do so. Bachchan also made an appearance in a Hollywood film, The Great Gatsby (2013), in which he played a non-Indian Jewish character.[19]\n",
            "\n",
            "Bachchan has won numerous accolades in his career, including record four National Film Awards in Best Actor category and many awards at international film festivals and award ceremonies. He has won sixteen Filmfare Awards and is the most nominated performer in any major acting category at Filmfare with 34 nominations in Best Actor and 42 nominations overall. The Government of India honoured him with the Padma Shri in 1984, the Padma Bhushan in 2001, the Padma Vibhushan in 2015, and India's highest award in the field of cinema, the Dadasaheb Phalke Award in 2018 for his contributions to the arts. The Government of France honoured him with its highest civilian honour, Officer of the Legion of Honour, in 2007 for his exceptional career in the world of cinema and beyond.\n",
            "\n",
            "In addition to acting, Bachchan has worked as a playback singer, film producer, and television presenter. He has hosted several seasons of the game show Kaun Banega Crorepati, India's version of the game show franchise, Who Wants to Be a Millionaire?. He also entered politics for a time in the 1980s. Bachchan has also been involved in several humanitarian works and he is a leading brand endorser in India. Beyond the Indian subcontinent, he acquired a large overseas following of the South Asian diaspora, as well as others, in markets including Africa (South Africa, Eastern Africa, and Mauritius), the Middle East (especially Egypt and the UAE), the United Kingdom, Russia, Central Asia, the Caribbean (Guyana, Suriname, and Trinidad and Tobago), Oceania (Fiji, Australia, and New Zealand), Canada and the United States.[20] Bachchan was voted the \"greatest star of stage or screen\" in the BBC Your Millennium online poll in 1999.[21] In October 2003, Time magazine dubbed Bachchan the \"Star of the Millennium\".[22]\n"
          ]
        },
        {
          "output_type": "error",
          "ename": "AttributeError",
          "evalue": "module 'networkx' has no attribute 'pagerank_numpy'",
          "traceback": [
            "\u001b[0;31m---------------------------------------------------------------------------\u001b[0m",
            "\u001b[0;31mAttributeError\u001b[0m                            Traceback (most recent call last)",
            "\u001b[0;32m<ipython-input-8-c1fb95fc891f>\u001b[0m in \u001b[0;36m<cell line: 22>\u001b[0;34m()\u001b[0m\n\u001b[1;32m     20\u001b[0m \u001b[0;31m# Text Summarization\u001b[0m\u001b[0;34m\u001b[0m\u001b[0;34m\u001b[0m\u001b[0m\n\u001b[1;32m     21\u001b[0m \u001b[0mmodel\u001b[0m \u001b[0;34m=\u001b[0m \u001b[0mSummarizer\u001b[0m\u001b[0;34m(\u001b[0m\u001b[0mpreprocessor\u001b[0m\u001b[0;34m,\u001b[0m \u001b[0msimilarity_algorithm\u001b[0m\u001b[0;34m,\u001b[0m \u001b[0mranker\u001b[0m\u001b[0;34m,\u001b[0m \u001b[0mir\u001b[0m\u001b[0;34m)\u001b[0m\u001b[0;34m\u001b[0m\u001b[0;34m\u001b[0m\u001b[0m\n\u001b[0;32m---> 22\u001b[0;31m \u001b[0msummarised_content\u001b[0m \u001b[0;34m=\u001b[0m \u001b[0mmodel\u001b[0m\u001b[0;34m.\u001b[0m\u001b[0msummarise\u001b[0m\u001b[0;34m(\u001b[0m\u001b[0mcorpus\u001b[0m\u001b[0;34m,\u001b[0m \u001b[0mreduction_ratio\u001b[0m\u001b[0;34m=\u001b[0m\u001b[0;36m0.70\u001b[0m\u001b[0;34m,\u001b[0m \u001b[0mpreserve_order\u001b[0m\u001b[0;34m=\u001b[0m\u001b[0;32mTrue\u001b[0m\u001b[0;34m)\u001b[0m\u001b[0;34m\u001b[0m\u001b[0;34m\u001b[0m\u001b[0m\n\u001b[0m\u001b[1;32m     23\u001b[0m \u001b[0;34m\u001b[0m\u001b[0m\n\u001b[1;32m     24\u001b[0m \u001b[0mprint\u001b[0m\u001b[0;34m(\u001b[0m\u001b[0;34m\"\\n --- Summarized Text ---\\n\"\u001b[0m\u001b[0;34m)\u001b[0m\u001b[0;34m\u001b[0m\u001b[0;34m\u001b[0m\u001b[0m\n",
            "\u001b[0;32m/usr/local/lib/python3.10/dist-packages/nutshell/model.py\u001b[0m in \u001b[0;36msummarise\u001b[0;34m(self, corpus, reduction_ratio, preserve_order)\u001b[0m\n\u001b[1;32m     53\u001b[0m         \u001b[0;31m# Similarity and Ranking\u001b[0m\u001b[0;34m\u001b[0m\u001b[0;34m\u001b[0m\u001b[0m\n\u001b[1;32m     54\u001b[0m         \u001b[0msimilarity_matrix\u001b[0m \u001b[0;34m=\u001b[0m \u001b[0mself\u001b[0m\u001b[0;34m.\u001b[0m\u001b[0m__similarity_algo\u001b[0m\u001b[0;34m.\u001b[0m\u001b[0msimilarity_matrix\u001b[0m\u001b[0;34m(\u001b[0m\u001b[0mcleaned_tokens\u001b[0m\u001b[0;34m,\u001b[0m \u001b[0m_idf\u001b[0m\u001b[0;34m)\u001b[0m\u001b[0;34m\u001b[0m\u001b[0;34m\u001b[0m\u001b[0m\n\u001b[0;32m---> 55\u001b[0;31m         \u001b[0mscores\u001b[0m \u001b[0;34m=\u001b[0m \u001b[0mself\u001b[0m\u001b[0;34m.\u001b[0m\u001b[0m__ranker\u001b[0m\u001b[0;34m.\u001b[0m\u001b[0mget_ranking_scores\u001b[0m\u001b[0;34m(\u001b[0m\u001b[0msimilarity_matrix\u001b[0m\u001b[0;34m)\u001b[0m\u001b[0;34m\u001b[0m\u001b[0;34m\u001b[0m\u001b[0m\n\u001b[0m\u001b[1;32m     56\u001b[0m \u001b[0;34m\u001b[0m\u001b[0m\n\u001b[1;32m     57\u001b[0m         summarized_content = self.__ranker.get_top(scores, original_token, reduction_ratio=reduction_ratio,\n",
            "\u001b[0;32m/usr/local/lib/python3.10/dist-packages/nutshell/algorithms/ranking.py\u001b[0m in \u001b[0;36mget_ranking_scores\u001b[0;34m(self, similarity_matrix)\u001b[0m\n\u001b[1;32m     24\u001b[0m         \u001b[0mInvokes\u001b[0m \u001b[0mthe\u001b[0m \u001b[0mranking\u001b[0m \u001b[0malgorithms\u001b[0m \u001b[0;32mand\u001b[0m \u001b[0mreturns\u001b[0m \u001b[0mthe\u001b[0m \u001b[0mrankings\u001b[0m \u001b[0mscores\u001b[0m \u001b[0;32mfor\u001b[0m \u001b[0meach\u001b[0m \u001b[0mdoc\u001b[0m\u001b[0;34m/\u001b[0m\u001b[0msentence\u001b[0m\u001b[0;34m\u001b[0m\u001b[0;34m\u001b[0m\u001b[0m\n\u001b[1;32m     25\u001b[0m         \"\"\"\n\u001b[0;32m---> 26\u001b[0;31m         \u001b[0;32mreturn\u001b[0m \u001b[0mself\u001b[0m\u001b[0;34m.\u001b[0m\u001b[0m_ranking_algorithm\u001b[0m\u001b[0;34m(\u001b[0m\u001b[0msimilarity_matrix\u001b[0m\u001b[0;34m)\u001b[0m\u001b[0;34m\u001b[0m\u001b[0;34m\u001b[0m\u001b[0m\n\u001b[0m\u001b[1;32m     27\u001b[0m \u001b[0;34m\u001b[0m\u001b[0m\n\u001b[1;32m     28\u001b[0m     \u001b[0;34m@\u001b[0m\u001b[0mstaticmethod\u001b[0m\u001b[0;34m\u001b[0m\u001b[0;34m\u001b[0m\u001b[0m\n",
            "\u001b[0;32m/usr/local/lib/python3.10/dist-packages/nutshell/algorithms/ranking.py\u001b[0m in \u001b[0;36m_ranking_algorithm\u001b[0;34m(self, similarity_matrix)\u001b[0m\n\u001b[1;32m     43\u001b[0m         \"\"\"\n\u001b[1;32m     44\u001b[0m         \u001b[0mgraph\u001b[0m \u001b[0;34m=\u001b[0m \u001b[0mnx\u001b[0m\u001b[0;34m.\u001b[0m\u001b[0mMultiDiGraph\u001b[0m\u001b[0;34m(\u001b[0m\u001b[0msimilarity_matrix\u001b[0m\u001b[0;34m)\u001b[0m\u001b[0;34m\u001b[0m\u001b[0;34m\u001b[0m\u001b[0m\n\u001b[0;32m---> 45\u001b[0;31m         \u001b[0;32mreturn\u001b[0m \u001b[0mnx\u001b[0m\u001b[0;34m.\u001b[0m\u001b[0mpagerank_numpy\u001b[0m\u001b[0;34m(\u001b[0m\u001b[0mgraph\u001b[0m\u001b[0;34m)\u001b[0m\u001b[0;34m\u001b[0m\u001b[0;34m\u001b[0m\u001b[0m\n\u001b[0m\u001b[1;32m     46\u001b[0m \u001b[0;34m\u001b[0m\u001b[0m\n\u001b[1;32m     47\u001b[0m     \u001b[0;34m@\u001b[0m\u001b[0mstaticmethod\u001b[0m\u001b[0;34m\u001b[0m\u001b[0;34m\u001b[0m\u001b[0m\n",
            "\u001b[0;31mAttributeError\u001b[0m: module 'networkx' has no attribute 'pagerank_numpy'"
          ]
        }
      ]
    },
    {
      "source": [
        "import networkx as nx\n",
        "\n",
        "    # Assuming 'G' is your NetworkX graph\n",
        "pagerank_scores = nx.pagerank(G)"
      ],
      "cell_type": "code",
      "metadata": {
        "id": "UmizKtKKT2Md",
        "outputId": "7d4334ef-c399-4270-fbfb-e039914e8078",
        "colab": {
          "base_uri": "https://localhost:8080/",
          "height": 176
        }
      },
      "execution_count": null,
      "outputs": [
        {
          "output_type": "error",
          "ename": "NameError",
          "evalue": "name 'G' is not defined",
          "traceback": [
            "\u001b[0;31m---------------------------------------------------------------------------\u001b[0m",
            "\u001b[0;31mNameError\u001b[0m                                 Traceback (most recent call last)",
            "\u001b[0;32m<ipython-input-10-78ff1d13f5e3>\u001b[0m in \u001b[0;36m<cell line: 4>\u001b[0;34m()\u001b[0m\n\u001b[1;32m      2\u001b[0m \u001b[0;34m\u001b[0m\u001b[0m\n\u001b[1;32m      3\u001b[0m     \u001b[0;31m# Assuming 'G' is your NetworkX graph\u001b[0m\u001b[0;34m\u001b[0m\u001b[0;34m\u001b[0m\u001b[0m\n\u001b[0;32m----> 4\u001b[0;31m \u001b[0mpagerank_scores\u001b[0m \u001b[0;34m=\u001b[0m \u001b[0mnx\u001b[0m\u001b[0;34m.\u001b[0m\u001b[0mpagerank\u001b[0m\u001b[0;34m(\u001b[0m\u001b[0mG\u001b[0m\u001b[0;34m)\u001b[0m\u001b[0;34m\u001b[0m\u001b[0;34m\u001b[0m\u001b[0m\n\u001b[0m",
            "\u001b[0;31mNameError\u001b[0m: name 'G' is not defined"
          ]
        }
      ]
    },
    {
      "cell_type": "code",
      "source": [
        "from nutshell.algorithms.information_retrieval import ClassicalIR\n",
        "from nutshell.model import KeywordExtractor\n",
        "from nutshell.preprocessing.cleaner import NLTKCleaner\n",
        "from nutshell.preprocessing.preprocessor import TextPreProcessor\n",
        "from nutshell.preprocessing.tokenizer import NLTKTokenizer\n",
        "from nutshell.utils import load_corpus\n",
        "\n",
        "corpus = load_corpus('/content/sample_data/A.txt.txt')\n",
        "print(\"\\n --- Original Text ---\\n\")\n",
        "print(corpus)\n",
        "\n",
        "# Text Keyword Extraction\n",
        "preprocessor = TextPreProcessor(NLTKTokenizer(), NLTKCleaner(skip_stemming=True))\n",
        "keyword_extractor = KeywordExtractor(preprocessor, ClassicalIR())\n",
        "keywords = keyword_extractor.extract_keywords(corpus, count=10, raw=False)\n",
        "\n",
        "\n",
        "print(\"\\n --- Keywords ---\\n\")\n",
        "print(keywords)\n"
      ],
      "metadata": {
        "id": "vwzuwW9XRlq_",
        "colab": {
          "base_uri": "https://localhost:8080/"
        },
        "outputId": "bb32ecd2-0c01-4258-f768-b772dd748885"
      },
      "execution_count": null,
      "outputs": [
        {
          "output_type": "stream",
          "name": "stdout",
          "text": [
            "\n",
            " --- Original Text ---\n",
            "\n",
            "Amitabh Bachchan (pronounced [əmɪˈt̪ɑːbʱ ˈbətːʃən] ⓘ; born Amitabh Srivastava;[1] 11 October 1942[7]) is an Indian actor who works in Hindi cinema. He is often considered one of the greatest, most accomplished and commercially successful actors in the history of Indian cinema.[8] With a cinematic career spanning over five decades, he has played pivotal roles in over 200 films. Bachchan is often hailed as the Shahenshah of Bollywood, Sadi Ke Mahanayak (translated as \"Greatest actor of the century\" in Hindi), Star of the Millennium, or simply Big B.[9] His dominance in the Indian film industry during the 1970s–80s led the French director François Truffaut to describe it as a \"one-man industry\".[10] He is a recipient of several accolades including six National Film Awards and sixteen Filmfare Awards.\n",
            "\n",
            "He was born in 1942 in Allahabad (now Prayagraj) to the Hindi poet Harivansh Rai Bachchan and his wife, the social activist Teji Bachchan. He was educated at Sherwood College, Nainital, and Kirori Mal College, University of Delhi. His film career started in 1969 as a voice narrator in Mrinal Sen's film Bhuvan Shome. He first gained popularity in the early-1970s for films, such as Anand, Zanjeer and Roti Kapada Aur Makaan, and achieved greater stardom in later years, being dubbed India's \"Angry Young Man\" for several of his on-screen roles in Hindi films.[11][12] He consistently starred in top–grossing Indian films from the mid-1970s to the 1980s, such as Deewaar, Sholay, Kabhi Kabhie, Hera Pheri, Amar Akbar Anthony, Parvarish, Kasme Vaade, Don, Trishul, Muqaddar Ka Sikandar, Suhaag, Dostana, Naseeb, Laawaris, Namak Halaal, Andhaa Kaanoon, Coolie, Sharaabi and Mard,[13][14] as well as some of his most acclaimed performances, include Namak Haraam, Abhimaan, Majboor, Mili, Chupke Chupke, Do Anjaane, Kaala Patthar, Shaan, Silsila, Yaarana, Kaalia, Shakti, Aakhree Raasta, Shahenshah and Agneepath.[15][16] After taking a break from acting in the 1990s, his resurgence was marked in 2000 with Mohabbatein.[17] Since then he starred in several successful and acclaimed films like Kabhi Khushi Kabhie Gham, Aankhen, Baghban, Khakee, Black, Bunty Aur Babli, Sarkar, Kabhi Alvida Naa Kehna, Bhoothnath, Cheeni Kum, Paa, Piku, Pink, Badla, Brahmāstra: Part One – Shiva and Kalki 2898 AD.[18] For Piku, he won his fourth National Film Award for Best Actor, making him the only actor to do so. Bachchan also made an appearance in a Hollywood film, The Great Gatsby (2013), in which he played a non-Indian Jewish character.[19]\n",
            "\n",
            "Bachchan has won numerous accolades in his career, including record four National Film Awards in Best Actor category and many awards at international film festivals and award ceremonies. He has won sixteen Filmfare Awards and is the most nominated performer in any major acting category at Filmfare with 34 nominations in Best Actor and 42 nominations overall. The Government of India honoured him with the Padma Shri in 1984, the Padma Bhushan in 2001, the Padma Vibhushan in 2015, and India's highest award in the field of cinema, the Dadasaheb Phalke Award in 2018 for his contributions to the arts. The Government of France honoured him with its highest civilian honour, Officer of the Legion of Honour, in 2007 for his exceptional career in the world of cinema and beyond.\n",
            "\n",
            "In addition to acting, Bachchan has worked as a playback singer, film producer, and television presenter. He has hosted several seasons of the game show Kaun Banega Crorepati, India's version of the game show franchise, Who Wants to Be a Millionaire?. He also entered politics for a time in the 1980s. Bachchan has also been involved in several humanitarian works and he is a leading brand endorser in India. Beyond the Indian subcontinent, he acquired a large overseas following of the South Asian diaspora, as well as others, in markets including Africa (South Africa, Eastern Africa, and Mauritius), the Middle East (especially Egypt and the UAE), the United Kingdom, Russia, Central Asia, the Caribbean (Guyana, Suriname, and Trinidad and Tobago), Oceania (Fiji, Australia, and New Zealand), Canada and the United States.[20] Bachchan was voted the \"greatest star of stage or screen\" in the BBC Your Millennium online poll in 1999.[21] In October 2003, Time magazine dubbed Bachchan the \"Star of the Millennium\".[22]\n",
            "\n",
            " --- Keywords ---\n",
            "\n",
            "('22', 'film', 'bachchan', 'also', 'actor', 'time', 'awards', 'college', 'entered', 'politics')\n"
          ]
        }
      ]
    },
    {
      "cell_type": "code",
      "source": [],
      "metadata": {
        "id": "zsMiL6uARlcT"
      },
      "execution_count": null,
      "outputs": []
    }
  ]
}