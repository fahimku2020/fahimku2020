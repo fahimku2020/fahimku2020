{
  "nbformat": 4,
  "nbformat_minor": 0,
  "metadata": {
    "colab": {
      "provenance": [],
      "authorship_tag": "ABX9TyNhnl8QA36psBCKURBIV7Mn",
      "include_colab_link": true
    },
    "kernelspec": {
      "name": "python3",
      "display_name": "Python 3"
    },
    "language_info": {
      "name": "python"
    }
  },
  "cells": [
    {
      "cell_type": "markdown",
      "metadata": {
        "id": "view-in-github",
        "colab_type": "text"
      },
      "source": [
        "<a href=\"https://colab.research.google.com/github/fahimku2020/fahimku2020/blob/main/Google_translate_paraphrase.ipynb\" target=\"_parent\"><img src=\"https://colab.research.google.com/assets/colab-badge.svg\" alt=\"Open In Colab\"/></a>"
      ]
    },
    {
      "source": [
        "!pip install googletrans==4.0.0-rc1"
      ],
      "cell_type": "code",
      "metadata": {
        "id": "_CcyQo4Fzoyt"
      },
      "execution_count": null,
      "outputs": []
    },
    {
      "source": [
        "from paraphraser import paraphrase\n",
        "\n",
        "# Generate list of sentences with similar contextual meaning\n",
        "input_sentence = \" Bachchan has worked as a playback singer, film producer, and television presenter\"\n",
        "# Install a specific version of googletrans that is known to work\n",
        "# This addresses the issue of frequent changes in Google Translate's structure\n",
        "# breaking the token extraction process in googletrans\n",
        "!#pip install googletrans==4.0.0-rc1\n",
        "# Import necessary modules\n",
        "from googletrans import Translator\n",
        "# Re-initialize the translator object\n",
        "translator = Translator()\n",
        "# Call paraphrase with the new translator\n",
        "sentences = paraphrase(input_sentence)"
      ],
      "cell_type": "code",
      "metadata": {
        "id": "8H1krVjHzpKI"
      },
      "execution_count": 7,
      "outputs": []
    },
    {
      "cell_type": "code",
      "source": [
        "sentences"
      ],
      "metadata": {
        "colab": {
          "base_uri": "https://localhost:8080/"
        },
        "id": "oNRDcHmxzMSg",
        "outputId": "da3b772e-143c-464d-b24a-9104776209c0"
      },
      "execution_count": 8,
      "outputs": [
        {
          "output_type": "execute_result",
          "data": {
            "text/plain": [
              "['Bachchan has worked as a reproductive singer, film producer and television presenter',\n",
              " 'Bachchan worked as a Playback singer, film producer and television',\n",
              " 'Bachchan worked as a singer, film producer and television presenter',\n",
              " 'It worked as a pallet mobile singer, movie manufacturing and television provider',\n",
              " 'Bachchan has worked as a screening singer, film producer, and television presenter',\n",
              " 'Bachchan worked as a singer for play, film producer and television presenter',\n",
              " 'Bachchan worked as a player, filmmaker and television.',\n",
              " 'Bachchan has worked as a play singer, film producer and television presenter',\n",
              " 'Bachchan worked as a singer, film producer and television television',\n",
              " 'Batchan has worked as a regenerative singer, movie producer, and a TV presenter.',\n",
              " 'Bachchan worked as a game singer, filmmaker and television presenter',\n",
              " 'Bachchan worked as a reading singer, film producer and television presenter',\n",
              " 'Bachchan has worked as a reproduction singer, film producer and television presenter',\n",
              " 'Bachchan worked as a playback singer, film producer and television host',\n",
              " 'Bachchan worked as a playlist singer, film producer and television presenter']"
            ]
          },
          "metadata": {},
          "execution_count": 8
        }
      ]
    },
    {
      "cell_type": "markdown",
      "source": [],
      "metadata": {
        "id": "WysjjTgAync_"
      }
    },
    {
      "cell_type": "markdown",
      "source": [],
      "metadata": {
        "id": "QZFy7IAYxrVm"
      }
    },
    {
      "cell_type": "markdown",
      "source": [],
      "metadata": {
        "id": "wdYuyM10xXaM"
      }
    }
  ]
}