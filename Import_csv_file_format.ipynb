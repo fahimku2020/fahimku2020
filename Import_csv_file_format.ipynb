{
  "nbformat": 4,
  "nbformat_minor": 0,
  "metadata": {
    "colab": {
      "provenance": [],
      "authorship_tag": "ABX9TyOXkH4BZchpJN9yi91vsPHN",
      "include_colab_link": true
    },
    "kernelspec": {
      "name": "python3",
      "display_name": "Python 3"
    },
    "language_info": {
      "name": "python"
    }
  },
  "cells": [
    {
      "cell_type": "markdown",
      "metadata": {
        "id": "view-in-github",
        "colab_type": "text"
      },
      "source": [
        "<a href=\"https://colab.research.google.com/github/fahimku2020/fahimku2020/blob/main/Import_csv_file_format.ipynb\" target=\"_parent\"><img src=\"https://colab.research.google.com/assets/colab-badge.svg\" alt=\"Open In Colab\"/></a>"
      ]
    },
    {
      "cell_type": "code",
      "execution_count": null,
      "metadata": {
        "colab": {
          "base_uri": "https://localhost:8080/"
        },
        "id": "zKqK_PjiKtJp",
        "outputId": "29a69ce3-c0d6-47d1-f22c-efa84b89ec3e"
      },
      "outputs": [
        {
          "output_type": "stream",
          "name": "stdout",
          "text": [
            "CSV file 'example.csv' created successfully.\n"
          ]
        }
      ],
      "source": [
        "# import\n",
        "import csv\n",
        "\n",
        "# Data\n",
        "data = [\n",
        "    ['Name', 'Age', 'City'],\n",
        "    ['Aman', 28, 'Pune'],\n",
        "    ['Poonam', 24, 'Jaipur'],\n",
        "    ['Bobby', 32, 'Delhi']\n",
        "]\n",
        "\n",
        "# File path for the CSV file\n",
        "csv_file_path = 'example.csv'\n",
        "\n",
        "# Open the file in write mode\n",
        "with open(csv_file_path, mode='w', newline='') as file:\n",
        "    # Create a csv.writer object\n",
        "    writer = csv.writer(file)\n",
        "    # Write data to the CSV file\n",
        "    writer.writerows(data)\n",
        "\n",
        "# Print a confirmation message\n",
        "print(f\"CSV file '{csv_file_path}' created successfully.\")"
      ]
    }
  ]
}