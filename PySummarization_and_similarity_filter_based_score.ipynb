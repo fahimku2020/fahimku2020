{
  "nbformat": 4,
  "nbformat_minor": 0,
  "metadata": {
    "colab": {
      "provenance": [],
      "authorship_tag": "ABX9TyMvVaiR2gcMwHcx18qPAG1g",
      "include_colab_link": true
    },
    "kernelspec": {
      "name": "python3",
      "display_name": "Python 3"
    },
    "language_info": {
      "name": "python"
    }
  },
  "cells": [
    {
      "cell_type": "markdown",
      "metadata": {
        "id": "view-in-github",
        "colab_type": "text"
      },
      "source": [
        "<a href=\"https://colab.research.google.com/github/fahimku2020/fahimku2020/blob/main/PySummarization_and_similarity_filter_based_score.ipynb\" target=\"_parent\"><img src=\"https://colab.research.google.com/assets/colab-badge.svg\" alt=\"Open In Colab\"/></a>"
      ]
    },
    {
      "cell_type": "code",
      "execution_count": 1,
      "metadata": {
        "colab": {
          "base_uri": "https://localhost:8080/"
        },
        "id": "x91nQsm7KbyE",
        "outputId": "b78a97a5-3f70-45e3-a570-d12aed2efd90"
      },
      "outputs": [
        {
          "output_type": "stream",
          "name": "stdout",
          "text": [
            "Collecting pysummarization\n",
            "  Downloading pysummarization-1.1.9.tar.gz (64 kB)\n",
            "\u001b[?25l     \u001b[90m━━━━━━━━━━━━━━━━━━━━━━━━━━━━━━━━━━━━━━━━\u001b[0m \u001b[32m0.0/64.2 kB\u001b[0m \u001b[31m?\u001b[0m eta \u001b[36m-:--:--\u001b[0m\r\u001b[2K     \u001b[90m━━━━━━━━━━━━━━━━━━━━━━━━━━━━━━━━━━━━━━━━\u001b[0m \u001b[32m64.2/64.2 kB\u001b[0m \u001b[31m4.8 MB/s\u001b[0m eta \u001b[36m0:00:00\u001b[0m\n",
            "\u001b[?25h  Preparing metadata (setup.py) ... \u001b[?25l\u001b[?25hdone\n",
            "Requirement already satisfied: numpy in /usr/local/lib/python3.10/dist-packages (from pysummarization) (1.26.4)\n",
            "Requirement already satisfied: nltk in /usr/local/lib/python3.10/dist-packages (from pysummarization) (3.9.1)\n",
            "Requirement already satisfied: click in /usr/local/lib/python3.10/dist-packages (from nltk->pysummarization) (8.1.7)\n",
            "Requirement already satisfied: joblib in /usr/local/lib/python3.10/dist-packages (from nltk->pysummarization) (1.4.2)\n",
            "Requirement already satisfied: regex>=2021.8.3 in /usr/local/lib/python3.10/dist-packages (from nltk->pysummarization) (2024.11.6)\n",
            "Requirement already satisfied: tqdm in /usr/local/lib/python3.10/dist-packages (from nltk->pysummarization) (4.67.1)\n",
            "Building wheels for collected packages: pysummarization\n",
            "  Building wheel for pysummarization (setup.py) ... \u001b[?25l\u001b[?25hdone\n",
            "  Created wheel for pysummarization: filename=pysummarization-1.1.9-py3-none-any.whl size=82362 sha256=8a0ce0cb71b918dff9f5282b78cd61c43d3ab86f54ebe4ae9f4a4750415dde8a\n",
            "  Stored in directory: /root/.cache/pip/wheels/08/d8/9e/940eb35676a1f5dae2f4bb5dc4752e9a00a7affba172bae36c\n",
            "Successfully built pysummarization\n",
            "Installing collected packages: pysummarization\n",
            "Successfully installed pysummarization-1.1.9\n"
          ]
        }
      ],
      "source": [
        "! pip install pysummarization"
      ]
    },
    {
      "cell_type": "code",
      "source": [
        "from pysummarization.nlpbase.auto_abstractor import AutoAbstractor\n",
        "from pysummarization.tokenizabledoc.simple_tokenizer import SimpleTokenizer\n",
        "from pysummarization.abstractabledoc.top_n_rank_abstractor import TopNRankAbstractor"
      ],
      "metadata": {
        "id": "W72v-wePKi9H"
      },
      "execution_count": 2,
      "outputs": []
    },
    {
      "cell_type": "code",
      "source": [
        "!pip install wikipedia"
      ],
      "metadata": {
        "colab": {
          "base_uri": "https://localhost:8080/"
        },
        "id": "5pAb5g-fKi6Y",
        "outputId": "3db4cffd-0e24-4a8a-ab20-a7d71b2573e6"
      },
      "execution_count": 3,
      "outputs": [
        {
          "output_type": "stream",
          "name": "stdout",
          "text": [
            "Collecting wikipedia\n",
            "  Downloading wikipedia-1.4.0.tar.gz (27 kB)\n",
            "  Preparing metadata (setup.py) ... \u001b[?25l\u001b[?25hdone\n",
            "Requirement already satisfied: beautifulsoup4 in /usr/local/lib/python3.10/dist-packages (from wikipedia) (4.12.3)\n",
            "Requirement already satisfied: requests<3.0.0,>=2.0.0 in /usr/local/lib/python3.10/dist-packages (from wikipedia) (2.32.3)\n",
            "Requirement already satisfied: charset-normalizer<4,>=2 in /usr/local/lib/python3.10/dist-packages (from requests<3.0.0,>=2.0.0->wikipedia) (3.4.0)\n",
            "Requirement already satisfied: idna<4,>=2.5 in /usr/local/lib/python3.10/dist-packages (from requests<3.0.0,>=2.0.0->wikipedia) (3.10)\n",
            "Requirement already satisfied: urllib3<3,>=1.21.1 in /usr/local/lib/python3.10/dist-packages (from requests<3.0.0,>=2.0.0->wikipedia) (2.2.3)\n",
            "Requirement already satisfied: certifi>=2017.4.17 in /usr/local/lib/python3.10/dist-packages (from requests<3.0.0,>=2.0.0->wikipedia) (2024.12.14)\n",
            "Requirement already satisfied: soupsieve>1.2 in /usr/local/lib/python3.10/dist-packages (from beautifulsoup4->wikipedia) (2.6)\n",
            "Building wheels for collected packages: wikipedia\n",
            "  Building wheel for wikipedia (setup.py) ... \u001b[?25l\u001b[?25hdone\n",
            "  Created wheel for wikipedia: filename=wikipedia-1.4.0-py3-none-any.whl size=11679 sha256=7395219045ccecbf467b1f1cc40f1c4e9ef82de5063eedfefd75c395c9c015ca\n",
            "  Stored in directory: /root/.cache/pip/wheels/5e/b6/c5/93f3dec388ae76edc830cb42901bb0232504dfc0df02fc50de\n",
            "Successfully built wikipedia\n",
            "Installing collected packages: wikipedia\n",
            "Successfully installed wikipedia-1.4.0\n"
          ]
        }
      ]
    },
    {
      "cell_type": "code",
      "source": [
        "import wikipedia\n",
        "\n",
        "# Wikipedia (/ˌwɪkɨˈpiːdiə/ or /ˌwɪkiˈpiːdiə/ WIK-i-PEE-dee-ə) is a collaboratively edited, multilingual, free Internet encyclopedia supported by the non-profit Wikimedia Foundation...\n",
        "ny = wikipedia.page(\"Amitabh Bachan\")\n",
        "\n",
        "document=  ny.content"
      ],
      "metadata": {
        "id": "sMPGGnJTKi3y"
      },
      "execution_count": 5,
      "outputs": []
    },
    {
      "cell_type": "code",
      "source": [
        "auto_abstractor = AutoAbstractor()\n",
        "# Set tokenizer.\n",
        "auto_abstractor.tokenizable_doc = SimpleTokenizer()\n",
        "# Set delimiter for making a list of sentence.\n",
        "auto_abstractor.delimiter_list = [\".\", \"\\n\"]\n",
        "# Object of abstracting and filtering document.\n",
        "abstractable_doc = TopNRankAbstractor()\n",
        "# Summarize document.\n",
        "result_dict = auto_abstractor.summarize(document, abstractable_doc)\n",
        "\n",
        "# Output result.\n",
        "for sentence in result_dict[\"summarize_result\"]:\n",
        "    print(sentence)\n"
      ],
      "metadata": {
        "colab": {
          "base_uri": "https://localhost:8080/"
        },
        "id": "omVm9hi7Ki0w",
        "outputId": "2739ee8f-29ad-480e-e128-ea446fb34cd9"
      },
      "execution_count": 5,
      "outputs": [
        {
          "output_type": "stream",
          "name": "stdout",
          "text": [
            "Amitabh Bachchan (pronounced [əmɪˈt̪ɑːbʱ ˈbətːʃən] ; born Amitabh Srivastava; 11 October 1942) is an Indian actor who works in Hindi cinema.\n",
            "\n",
            " He is often considered one of the greatest, most accomplished and commercially successful actors in the history of Indian cinema.\n",
            "\n",
            " With a cinematic career spanning over five decades, he has played pivotal roles in over 200 films.\n",
            "\n",
            " Bachchan is often hailed as the Shahenshah of Bollywood, Sadi Ke Mahanayak (translated as \"Greatest actor of the century\" in Hindi), Star of the Millennium, or simply Big B.\n",
            "\n",
            " His dominance in the Indian film industry during the 1970s–80s led the French director François Truffaut to describe it as a \"one-man industry\".\n",
            "\n",
            " He is a recipient of several accolades including six National Film Awards and sixteen Filmfare Awards.\n",
            "\n",
            "Amitabh Bachchan was born in 1942 in Allahabad (now Prayagraj) to the Hindi poet Harivansh Rai Bachchan and his wife, the social activist Teji Bachchan.\n",
            "\n",
            " He has won sixteen Filmfare Awards and is the most nominated performer in any major acting category at Filmfare with 34 nominations in Best Actor and 42 nominations overall.\n",
            "\n",
            "Bachchan was born on 11 October 1942 in Allahabad (now Prayagraj) to Hindi poet Harivansh Rai Bachchan and social activist Teji Bachchan.\n",
            "\n",
            "Bachchan is widely regarded as one of the greatest and most influential actors in the history of Indian cinema.\n",
            "\n"
          ]
        }
      ]
    },
    {
      "cell_type": "markdown",
      "source": [
        "Filtering similar sentences and summarization\n",
        "\n",
        "\n",
        "\n",
        "The function of these methods is to cut-off mutually similar sentences. In text summarization, basic usage of this function is as follow. After all, SimilarityFilter is delegated as well as GoF's Strategy Pattern.\n",
        "\n",
        "Import Python modules for NLP and text summarization."
      ],
      "metadata": {
        "id": "pRgnrtwhLmj5"
      }
    },
    {
      "cell_type": "markdown",
      "source": [],
      "metadata": {
        "id": "CLgUd5j7N6AW"
      }
    },
    {
      "cell_type": "code",
      "source": [
        "from pysummarization.similarityfilter.tfidf_cosine import TfIdfCosine\n",
        "similarity_filter = TfIdfCosine()"
      ],
      "metadata": {
        "id": "7yMm19AZPKyC"
      },
      "execution_count": 15,
      "outputs": []
    },
    {
      "cell_type": "code",
      "source": [
        "from pysummarization.similarityfilter.simpson import Simpson\n",
        "similarity_filter = Simpson()"
      ],
      "metadata": {
        "id": "2RrpGmE_P1pq"
      },
      "execution_count": 18,
      "outputs": []
    },
    {
      "cell_type": "code",
      "source": [
        "from pysummarization.similarityfilter.jaccard import Jaccard\n",
        "similarity_filter = Jaccard()"
      ],
      "metadata": {
        "id": "-sC6DrsnQDbi"
      },
      "execution_count": 22,
      "outputs": []
    },
    {
      "cell_type": "markdown",
      "source": [],
      "metadata": {
        "id": "coEGH1gJQDLs"
      }
    },
    {
      "cell_type": "markdown",
      "source": [],
      "metadata": {
        "id": "_YHA1wkBP1Y9"
      }
    },
    {
      "cell_type": "code",
      "source": [
        "from pysummarization.similarityfilter.dice import Dice\n",
        "similarity_filter = Dice()"
      ],
      "metadata": {
        "id": "4DYiu4JQQOdT"
      },
      "execution_count": 25,
      "outputs": []
    },
    {
      "cell_type": "markdown",
      "source": [],
      "metadata": {
        "id": "IOFNHaibQOLm"
      }
    },
    {
      "cell_type": "code",
      "source": [
        "# Tokenized sentences\n",
        "token_list_x = [\"Dice\", \"coefficient\", \"is\", \"a\", \"similarity\", \"measure\", \".\"]\n",
        "token_list_y = [\"Jaccard\", \"coefficient\", \"is\", \"a\", \"similarity\", \"measure\", \".\"]\n",
        "# 0.75\n",
        "similarity_num = similarity_filter.calculate(token_list_x, token_list_y)"
      ],
      "metadata": {
        "id": "cOdjmGukPKu7"
      },
      "execution_count": 26,
      "outputs": []
    },
    {
      "cell_type": "code",
      "source": [
        "similarity_num"
      ],
      "metadata": {
        "colab": {
          "base_uri": "https://localhost:8080/"
        },
        "id": "P-g5F1VlPKou",
        "outputId": "31f346de-aa3a-4c78-d21c-d4505386b0b9"
      },
      "execution_count": 27,
      "outputs": [
        {
          "output_type": "execute_result",
          "data": {
            "text/plain": [
              "0.8571428571428571"
            ]
          },
          "metadata": {},
          "execution_count": 27
        }
      ]
    },
    {
      "cell_type": "markdown",
      "source": [],
      "metadata": {
        "id": "Quwk7Y-zPKZX"
      }
    },
    {
      "cell_type": "markdown",
      "source": [],
      "metadata": {
        "id": "UK96baYaN1C5"
      }
    },
    {
      "cell_type": "markdown",
      "source": [],
      "metadata": {
        "id": "JFTaX1B7KiXd"
      }
    }
  ]
}