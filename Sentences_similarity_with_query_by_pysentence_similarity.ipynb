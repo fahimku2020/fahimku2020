{
  "nbformat": 4,
  "nbformat_minor": 0,
  "metadata": {
    "colab": {
      "provenance": [],
      "authorship_tag": "ABX9TyMBZ1YmwpLvOOg9KY1Z3ABI",
      "include_colab_link": true
    },
    "kernelspec": {
      "name": "python3",
      "display_name": "Python 3"
    },
    "language_info": {
      "name": "python"
    }
  },
  "cells": [
    {
      "cell_type": "markdown",
      "metadata": {
        "id": "view-in-github",
        "colab_type": "text"
      },
      "source": [
        "<a href=\"https://colab.research.google.com/github/fahimku2020/fahimku2020/blob/main/Sentences_similarity_with_query_by_pysentence_similarity.ipynb\" target=\"_parent\"><img src=\"https://colab.research.google.com/assets/colab-badge.svg\" alt=\"Open In Colab\"/></a>"
      ]
    },
    {
      "cell_type": "code",
      "source": [
        "!pip install pysentence-similarity"
      ],
      "metadata": {
        "colab": {
          "base_uri": "https://localhost:8080/"
        },
        "id": "PyBKJuFs00qR",
        "outputId": "308bd0ea-6b4f-4cee-c1f1-c4c47a31e454"
      },
      "execution_count": 14,
      "outputs": [
        {
          "output_type": "stream",
          "name": "stdout",
          "text": [
            "Collecting pysentence-similarity\n",
            "  Downloading pysentence_similarity-1.0.1-py3-none-any.whl.metadata (13 kB)\n",
            "Requirement already satisfied: beautifulsoup4 in /usr/local/lib/python3.10/dist-packages (from pysentence-similarity) (4.12.3)\n",
            "Requirement already satisfied: h5py in /usr/local/lib/python3.10/dist-packages (from pysentence-similarity) (3.12.1)\n",
            "Collecting onnxruntime-gpu (from pysentence-similarity)\n",
            "  Downloading onnxruntime_gpu-1.20.1-cp310-cp310-manylinux_2_27_x86_64.manylinux_2_28_x86_64.whl.metadata (4.5 kB)\n",
            "Requirement already satisfied: platformdirs in /usr/local/lib/python3.10/dist-packages (from pysentence-similarity) (4.3.6)\n",
            "Requirement already satisfied: tokenizers in /usr/local/lib/python3.10/dist-packages (from pysentence-similarity) (0.20.3)\n",
            "Requirement already satisfied: soupsieve>1.2 in /usr/local/lib/python3.10/dist-packages (from beautifulsoup4->pysentence-similarity) (2.6)\n",
            "Requirement already satisfied: numpy>=1.19.3 in /usr/local/lib/python3.10/dist-packages (from h5py->pysentence-similarity) (1.26.4)\n",
            "Collecting coloredlogs (from onnxruntime-gpu->pysentence-similarity)\n",
            "  Downloading coloredlogs-15.0.1-py2.py3-none-any.whl.metadata (12 kB)\n",
            "Requirement already satisfied: flatbuffers in /usr/local/lib/python3.10/dist-packages (from onnxruntime-gpu->pysentence-similarity) (24.3.25)\n",
            "Requirement already satisfied: packaging in /usr/local/lib/python3.10/dist-packages (from onnxruntime-gpu->pysentence-similarity) (24.2)\n",
            "Requirement already satisfied: protobuf in /usr/local/lib/python3.10/dist-packages (from onnxruntime-gpu->pysentence-similarity) (4.25.5)\n",
            "Requirement already satisfied: sympy in /usr/local/lib/python3.10/dist-packages (from onnxruntime-gpu->pysentence-similarity) (1.13.1)\n",
            "Requirement already satisfied: huggingface-hub<1.0,>=0.16.4 in /usr/local/lib/python3.10/dist-packages (from tokenizers->pysentence-similarity) (0.26.5)\n",
            "Requirement already satisfied: filelock in /usr/local/lib/python3.10/dist-packages (from huggingface-hub<1.0,>=0.16.4->tokenizers->pysentence-similarity) (3.16.1)\n",
            "Requirement already satisfied: fsspec>=2023.5.0 in /usr/local/lib/python3.10/dist-packages (from huggingface-hub<1.0,>=0.16.4->tokenizers->pysentence-similarity) (2024.10.0)\n",
            "Requirement already satisfied: pyyaml>=5.1 in /usr/local/lib/python3.10/dist-packages (from huggingface-hub<1.0,>=0.16.4->tokenizers->pysentence-similarity) (6.0.2)\n",
            "Requirement already satisfied: requests in /usr/local/lib/python3.10/dist-packages (from huggingface-hub<1.0,>=0.16.4->tokenizers->pysentence-similarity) (2.32.3)\n",
            "Requirement already satisfied: tqdm>=4.42.1 in /usr/local/lib/python3.10/dist-packages (from huggingface-hub<1.0,>=0.16.4->tokenizers->pysentence-similarity) (4.66.6)\n",
            "Requirement already satisfied: typing-extensions>=3.7.4.3 in /usr/local/lib/python3.10/dist-packages (from huggingface-hub<1.0,>=0.16.4->tokenizers->pysentence-similarity) (4.12.2)\n",
            "Collecting humanfriendly>=9.1 (from coloredlogs->onnxruntime-gpu->pysentence-similarity)\n",
            "  Downloading humanfriendly-10.0-py2.py3-none-any.whl.metadata (9.2 kB)\n",
            "Requirement already satisfied: mpmath<1.4,>=1.1.0 in /usr/local/lib/python3.10/dist-packages (from sympy->onnxruntime-gpu->pysentence-similarity) (1.3.0)\n",
            "Requirement already satisfied: charset-normalizer<4,>=2 in /usr/local/lib/python3.10/dist-packages (from requests->huggingface-hub<1.0,>=0.16.4->tokenizers->pysentence-similarity) (3.4.0)\n",
            "Requirement already satisfied: idna<4,>=2.5 in /usr/local/lib/python3.10/dist-packages (from requests->huggingface-hub<1.0,>=0.16.4->tokenizers->pysentence-similarity) (3.10)\n",
            "Requirement already satisfied: urllib3<3,>=1.21.1 in /usr/local/lib/python3.10/dist-packages (from requests->huggingface-hub<1.0,>=0.16.4->tokenizers->pysentence-similarity) (2.2.3)\n",
            "Requirement already satisfied: certifi>=2017.4.17 in /usr/local/lib/python3.10/dist-packages (from requests->huggingface-hub<1.0,>=0.16.4->tokenizers->pysentence-similarity) (2024.8.30)\n",
            "Downloading pysentence_similarity-1.0.1-py3-none-any.whl (29 kB)\n",
            "Downloading onnxruntime_gpu-1.20.1-cp310-cp310-manylinux_2_27_x86_64.manylinux_2_28_x86_64.whl (291.5 MB)\n",
            "\u001b[2K   \u001b[90m━━━━━━━━━━━━━━━━━━━━━━━━━━━━━━━━━━━━━━━━\u001b[0m \u001b[32m291.5/291.5 MB\u001b[0m \u001b[31m3.9 MB/s\u001b[0m eta \u001b[36m0:00:00\u001b[0m\n",
            "\u001b[?25hDownloading coloredlogs-15.0.1-py2.py3-none-any.whl (46 kB)\n",
            "\u001b[2K   \u001b[90m━━━━━━━━━━━━━━━━━━━━━━━━━━━━━━━━━━━━━━━━\u001b[0m \u001b[32m46.0/46.0 kB\u001b[0m \u001b[31m4.2 MB/s\u001b[0m eta \u001b[36m0:00:00\u001b[0m\n",
            "\u001b[?25hDownloading humanfriendly-10.0-py2.py3-none-any.whl (86 kB)\n",
            "\u001b[2K   \u001b[90m━━━━━━━━━━━━━━━━━━━━━━━━━━━━━━━━━━━━━━━━\u001b[0m \u001b[32m86.8/86.8 kB\u001b[0m \u001b[31m8.7 MB/s\u001b[0m eta \u001b[36m0:00:00\u001b[0m\n",
            "\u001b[?25hInstalling collected packages: humanfriendly, coloredlogs, onnxruntime-gpu, pysentence-similarity\n",
            "Successfully installed coloredlogs-15.0.1 humanfriendly-10.0 onnxruntime-gpu-1.20.1 pysentence-similarity-1.0.1\n"
          ]
        }
      ]
    },
    {
      "cell_type": "markdown",
      "source": [],
      "metadata": {
        "id": "IN0wuh1E1ues"
      }
    },
    {
      "cell_type": "code",
      "source": [
        "from pysentence_similarity import Model\n",
        "from pysentence_similarity.utils import compute_score\n",
        "\n",
        "# Create an instance of the model all-MiniLM-L6-v2; the default dtype is `fp32`\n",
        "model = Model(\"all-MiniLM-L6-v2\", dtype=\"fp16\")\n",
        "\n",
        "sentences = [\n",
        "    \"This is another test.\",\n",
        "    \"This is yet another test.\",\n",
        "    \"We are testing sentence similarity.\"\n",
        "]\n",
        "\n",
        "# Convert sentences to embeddings\n",
        "# The default is to use mean_pooling as a pooling function\n",
        "source_embedding = model.encode(\"This is a test.\")\n",
        "embeddings = model.encode(sentences, progress_bar=True)\n",
        "\n",
        "# Compute similarity scores\n",
        "# The rounding parameter allows us to round our float values\n",
        "# with a default of 2, which means 2 decimal places.\n",
        "compute_score(source_embedding, embeddings)"
      ],
      "metadata": {
        "colab": {
          "base_uri": "https://localhost:8080/"
        },
        "id": "TkCMXMx000c-",
        "outputId": "96d78c38-0829-48bc-de73-899a02341f3d"
      },
      "execution_count": 15,
      "outputs": [
        {
          "output_type": "stream",
          "name": "stderr",
          "text": [
            "Downloading model all-MiniLM-L6-v2 (FP16): 100%|██████████| 43.3M/43.3M [00:03<00:00, 14.8MiB/s]\n",
            "Downloading tokenizer for all-MiniLM-L6-v2: 100%|██████████| 455k/455k [00:00<00:00, 12.2MiB/s]\n",
            "Converting sentences to embeddings: 100%|██████████| 3/3 [00:00<00:00,  6.36it/s]\n"
          ]
        },
        {
          "output_type": "execute_result",
          "data": {
            "text/plain": [
              "[0.86, 0.77, 0.48]"
            ]
          },
          "metadata": {},
          "execution_count": 15
        }
      ]
    },
    {
      "cell_type": "code",
      "source": [
        "\n",
        "scores = compute_score(source_embedding, embeddings)\n",
        "\n",
        "for sentence, score in zip(sentences, scores):\n",
        "    print(f\"{sentence} ({score})\")"
      ],
      "metadata": {
        "colab": {
          "base_uri": "https://localhost:8080/"
        },
        "id": "rSyYlt4s1-Rp",
        "outputId": "e4b83e2a-3a82-464a-f720-040ea63bd199"
      },
      "execution_count": 16,
      "outputs": [
        {
          "output_type": "stream",
          "name": "stdout",
          "text": [
            "This is another test. (0.86)\n",
            "This is yet another test. (0.77)\n",
            "We are testing sentence similarity. (0.48)\n"
          ]
        }
      ]
    },
    {
      "cell_type": "code",
      "source": [
        "from pysentence_similarity import Model\n",
        "from pysentence_similarity.utils import search_similar\n",
        "\n",
        "# Create an instance of the model\n",
        "model = Model(\"all-MiniLM-L6-v2\", dtype=\"fp16\")\n",
        "\n",
        "# Test text\n",
        "sentences = [\n",
        "    \"Hello my name is Bob.\",\n",
        "    \"I love to eat pizza.\",\n",
        "    \"We are testing sentence similarity.\"\n",
        "    \"Today is a sunny day.\",\n",
        "    \"London is the capital of England.\",\n",
        "    \"I am a student at Stanford University.\"\n",
        "]\n",
        "\n",
        "# Convert query sentence to embedding\n",
        "query_embedding = model.encode(\"What's the wether today ?\")\n",
        "\n",
        "# Convert sentences to embeddings\n",
        "embeddings = model.encode(sentences)\n",
        "\n",
        "# Search similar sentences\n",
        "similar = search_similar(\n",
        "    query_embedding=query_embedding,\n",
        "    sentences=sentences,\n",
        "    embeddings=embeddings,\n",
        "    top_k=3  # number of similar sentences to return\n",
        ")\n",
        "\n",
        "# Print similar sentences\n",
        "for idx, (sentence, score) in enumerate(similar, start=1):\n",
        "    print(f\"{idx}: {sentence} ({score})\")"
      ],
      "metadata": {
        "colab": {
          "base_uri": "https://localhost:8080/"
        },
        "id": "yqbZ8N9X2L9p",
        "outputId": "afd7d1fa-04fa-47d7-83c0-28df7ca00069"
      },
      "execution_count": 18,
      "outputs": [
        {
          "output_type": "stream",
          "name": "stdout",
          "text": [
            "1: We are testing sentence similarity.Today is a sunny day. (0.46)\n",
            "2: Hello my name is Bob. (0.21)\n",
            "3: London is the capital of England. (0.11)\n"
          ]
        }
      ]
    },
    {
      "cell_type": "code",
      "source": [],
      "metadata": {
        "id": "AoBThibG2bCc"
      },
      "execution_count": null,
      "outputs": []
    },
    {
      "cell_type": "markdown",
      "source": [],
      "metadata": {
        "id": "nkPMpvAu2ayG"
      }
    },
    {
      "cell_type": "markdown",
      "source": [],
      "metadata": {
        "id": "UfZm2UsO2LuL"
      }
    },
    {
      "cell_type": "markdown",
      "source": [],
      "metadata": {
        "id": "oYYMzI5V1-AN"
      }
    },
    {
      "cell_type": "markdown",
      "source": [],
      "metadata": {
        "id": "hLVph-kK00RR"
      }
    },
    {
      "cell_type": "markdown",
      "source": [],
      "metadata": {
        "id": "AEEfaNRn00KQ"
      }
    },
    {
      "cell_type": "markdown",
      "source": [],
      "metadata": {
        "id": "5u_kBSwK0rZW"
      }
    },
    {
      "cell_type": "markdown",
      "source": [],
      "metadata": {
        "id": "gTYX1zarzCen"
      }
    }
  ]
}