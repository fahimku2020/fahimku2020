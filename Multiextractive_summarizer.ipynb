{
  "nbformat": 4,
  "nbformat_minor": 0,
  "metadata": {
    "colab": {
      "provenance": [],
      "authorship_tag": "ABX9TyNwqzyodgLbMOi52ExFYYjN",
      "include_colab_link": true
    },
    "kernelspec": {
      "name": "python3",
      "display_name": "Python 3"
    },
    "language_info": {
      "name": "python"
    }
  },
  "cells": [
    {
      "cell_type": "markdown",
      "metadata": {
        "id": "view-in-github",
        "colab_type": "text"
      },
      "source": [
        "<a href=\"https://colab.research.google.com/github/fahimku2020/fahimku2020/blob/main/Multiextractive_summarizer.ipynb\" target=\"_parent\"><img src=\"https://colab.research.google.com/assets/colab-badge.svg\" alt=\"Open In Colab\"/></a>"
      ]
    },
    {
      "cell_type": "code",
      "source": [
        "!pip install MultiExtractiveSummarizer"
      ],
      "metadata": {
        "colab": {
          "base_uri": "https://localhost:8080/"
        },
        "id": "9TGk9pff1Fcg",
        "outputId": "985f9fbd-dc5e-4265-eada-7bf42e0c76df"
      },
      "execution_count": 7,
      "outputs": [
        {
          "output_type": "stream",
          "name": "stdout",
          "text": [
            "Collecting MultiExtractiveSummarizer\n",
            "  Downloading MultiExtractiveSummarizer-0.2.3-py3-none-any.whl.metadata (5.8 kB)\n",
            "Requirement already satisfied: nltk in /usr/local/lib/python3.10/dist-packages (from MultiExtractiveSummarizer) (3.9.1)\n",
            "Requirement already satisfied: sentence-transformers in /usr/local/lib/python3.10/dist-packages (from MultiExtractiveSummarizer) (3.2.1)\n",
            "Requirement already satisfied: scipy in /usr/local/lib/python3.10/dist-packages (from MultiExtractiveSummarizer) (1.13.1)\n",
            "Requirement already satisfied: scikit-learn in /usr/local/lib/python3.10/dist-packages (from MultiExtractiveSummarizer) (1.5.2)\n",
            "Requirement already satisfied: click in /usr/local/lib/python3.10/dist-packages (from nltk->MultiExtractiveSummarizer) (8.1.7)\n",
            "Requirement already satisfied: joblib in /usr/local/lib/python3.10/dist-packages (from nltk->MultiExtractiveSummarizer) (1.4.2)\n",
            "Requirement already satisfied: regex>=2021.8.3 in /usr/local/lib/python3.10/dist-packages (from nltk->MultiExtractiveSummarizer) (2024.9.11)\n",
            "Requirement already satisfied: tqdm in /usr/local/lib/python3.10/dist-packages (from nltk->MultiExtractiveSummarizer) (4.67.1)\n",
            "Requirement already satisfied: numpy>=1.19.5 in /usr/local/lib/python3.10/dist-packages (from scikit-learn->MultiExtractiveSummarizer) (1.26.4)\n",
            "Requirement already satisfied: threadpoolctl>=3.1.0 in /usr/local/lib/python3.10/dist-packages (from scikit-learn->MultiExtractiveSummarizer) (3.5.0)\n",
            "Requirement already satisfied: transformers<5.0.0,>=4.41.0 in /usr/local/lib/python3.10/dist-packages (from sentence-transformers->MultiExtractiveSummarizer) (4.46.3)\n",
            "Requirement already satisfied: torch>=1.11.0 in /usr/local/lib/python3.10/dist-packages (from sentence-transformers->MultiExtractiveSummarizer) (2.5.1+cu121)\n",
            "Requirement already satisfied: huggingface-hub>=0.20.0 in /usr/local/lib/python3.10/dist-packages (from sentence-transformers->MultiExtractiveSummarizer) (0.26.3)\n",
            "Requirement already satisfied: Pillow in /usr/local/lib/python3.10/dist-packages (from sentence-transformers->MultiExtractiveSummarizer) (11.0.0)\n",
            "Requirement already satisfied: filelock in /usr/local/lib/python3.10/dist-packages (from huggingface-hub>=0.20.0->sentence-transformers->MultiExtractiveSummarizer) (3.16.1)\n",
            "Requirement already satisfied: fsspec>=2023.5.0 in /usr/local/lib/python3.10/dist-packages (from huggingface-hub>=0.20.0->sentence-transformers->MultiExtractiveSummarizer) (2024.10.0)\n",
            "Requirement already satisfied: packaging>=20.9 in /usr/local/lib/python3.10/dist-packages (from huggingface-hub>=0.20.0->sentence-transformers->MultiExtractiveSummarizer) (24.2)\n",
            "Requirement already satisfied: pyyaml>=5.1 in /usr/local/lib/python3.10/dist-packages (from huggingface-hub>=0.20.0->sentence-transformers->MultiExtractiveSummarizer) (6.0.2)\n",
            "Requirement already satisfied: requests in /usr/local/lib/python3.10/dist-packages (from huggingface-hub>=0.20.0->sentence-transformers->MultiExtractiveSummarizer) (2.32.3)\n",
            "Requirement already satisfied: typing-extensions>=3.7.4.3 in /usr/local/lib/python3.10/dist-packages (from huggingface-hub>=0.20.0->sentence-transformers->MultiExtractiveSummarizer) (4.12.2)\n",
            "Requirement already satisfied: networkx in /usr/local/lib/python3.10/dist-packages (from torch>=1.11.0->sentence-transformers->MultiExtractiveSummarizer) (3.4.2)\n",
            "Requirement already satisfied: jinja2 in /usr/local/lib/python3.10/dist-packages (from torch>=1.11.0->sentence-transformers->MultiExtractiveSummarizer) (3.1.4)\n",
            "Requirement already satisfied: sympy==1.13.1 in /usr/local/lib/python3.10/dist-packages (from torch>=1.11.0->sentence-transformers->MultiExtractiveSummarizer) (1.13.1)\n",
            "Requirement already satisfied: mpmath<1.4,>=1.1.0 in /usr/local/lib/python3.10/dist-packages (from sympy==1.13.1->torch>=1.11.0->sentence-transformers->MultiExtractiveSummarizer) (1.3.0)\n",
            "Requirement already satisfied: tokenizers<0.21,>=0.20 in /usr/local/lib/python3.10/dist-packages (from transformers<5.0.0,>=4.41.0->sentence-transformers->MultiExtractiveSummarizer) (0.20.3)\n",
            "Requirement already satisfied: safetensors>=0.4.1 in /usr/local/lib/python3.10/dist-packages (from transformers<5.0.0,>=4.41.0->sentence-transformers->MultiExtractiveSummarizer) (0.4.5)\n",
            "Requirement already satisfied: MarkupSafe>=2.0 in /usr/local/lib/python3.10/dist-packages (from jinja2->torch>=1.11.0->sentence-transformers->MultiExtractiveSummarizer) (3.0.2)\n",
            "Requirement already satisfied: charset-normalizer<4,>=2 in /usr/local/lib/python3.10/dist-packages (from requests->huggingface-hub>=0.20.0->sentence-transformers->MultiExtractiveSummarizer) (3.4.0)\n",
            "Requirement already satisfied: idna<4,>=2.5 in /usr/local/lib/python3.10/dist-packages (from requests->huggingface-hub>=0.20.0->sentence-transformers->MultiExtractiveSummarizer) (3.10)\n",
            "Requirement already satisfied: urllib3<3,>=1.21.1 in /usr/local/lib/python3.10/dist-packages (from requests->huggingface-hub>=0.20.0->sentence-transformers->MultiExtractiveSummarizer) (2.2.3)\n",
            "Requirement already satisfied: certifi>=2017.4.17 in /usr/local/lib/python3.10/dist-packages (from requests->huggingface-hub>=0.20.0->sentence-transformers->MultiExtractiveSummarizer) (2024.8.30)\n",
            "Downloading MultiExtractiveSummarizer-0.2.3-py3-none-any.whl (9.6 kB)\n",
            "Installing collected packages: MultiExtractiveSummarizer\n",
            "Successfully installed MultiExtractiveSummarizer-0.2.3\n"
          ]
        }
      ]
    },
    {
      "cell_type": "code",
      "source": [
        "from MultiExtractiveSummarizer import MultiExtractiveSummarizer\n",
        "import nltk\n",
        "nltk.download ('punkt_tab')\n",
        "# Initialize the summarizer\n",
        "summarizer = MultiExtractiveSummarizer(embedding_method='sbert', summarization_method='lexrank')\n",
        "\n",
        "# Example text document\n",
        "text = \"\"\"\n",
        "Amitabh Bachchan (pronounced [əmɪˈt̪ɑːbʱ ˈbətːʃən] ⓘ; born Amitabh Srivastava;[1] 11 October 1942[7]) is an Indian actor who works in Hindi cinema. He is often considered one of the greatest, most accomplished and commercially successful actors in the history of Indian cinema.[8] With a cinematic career spanning over five decades, he has played pivotal roles in over 200 films. Bachchan is often hailed as the Shahenshah of Bollywood, Sadi Ke Mahanayak (translated as \"Greatest actor of the century\" in Hindi), Star of the Millennium, or simply Big B.[9] His dominance in the Indian film industry during the 1970s–80s led the French director François Truffaut to describe it as a \"one-man industry\".[10] He is a recipient of several accolades including six National Film Awards and sixteen Filmfare Awards.\n",
        "\n",
        "Amitabh Bachchan was born in 1942 in Allahabad (now Prayagraj) to the Hindi poet Harivansh Rai Bachchan and his wife, the social activist Teji Bachchan. He was educated at Sherwood College, Nainital, and Kirori Mal College, University of Delhi. His film career started in 1969 as a voice narrator in Mrinal Sen's film Bhuvan Shome. He first gained popularity in the early-1970s for films, such as Anand, Zanjeer and Roti Kapada Aur Makaan, and achieved greater stardom in later years, being dubbed India's \"Angry Young Man\" for several of his on-screen roles in Hindi films.[11][12] He consistently starred in top–grossing Indian films from the mid-1970s to the 1980s, such as Deewaar, Sholay, Kabhi Kabhie, Hera Pheri, Amar Akbar Anthony, Parvarish, Kasme Vaade, Don, Trishul, Muqaddar Ka Sikandar, Suhaag, Dostana, Naseeb, Laawaris, Namak Halaal, Andhaa Kaanoon, Coolie, Sharaabi and Mard,[13][14] as well as some of his most acclaimed performances, include Namak Haraam, Abhimaan, Majboor, Mili, Chupke Chupke, Do Anjaane, Kaala Patthar, Shaan, Silsila, Yaarana, Kaalia, Shakti, Aakhree Raasta, Shahenshah and Agneepath.[15][16] After taking a break from acting in the 1990s, his resurgence was marked in 2000 with Mohabbatein.[17] Since then he starred in several successful and acclaimed films like Kabhi Khushi Kabhie Gham, Aankhen, Baghban, Khakee, Black, Bunty Aur Babli, Sarkar, Kabhi Alvida Naa Kehna, Bhoothnath, Cheeni Kum, Paa, Piku, Pink, Badla, Brahmāstra: Part One – Shiva and Kalki 2898 AD.[18] For Piku, he won his fourth National Film Award for Best Actor, making him the only actor to do so. Bachchan also made an appearance in a Hollywood film, The Great Gatsby (2013), in which he played a non-Indian Jewish character.[19]\n",
        "\n",
        "Bachchan has won numerous accolades in his career, including record four National Film Awards in Best Actor category and many awards at international film festivals and award ceremonies. He has won sixteen Filmfare Awards and is the most nominated performer in any major acting category at Filmfare with 34 nominations in Best Actor and 42 nominations overall. The Government of India honoured him with the Padma Shri in 1984, the Padma Bhushan in 2001, the Padma Vibhushan in 2015, and India's highest award in the field of cinema, the Dadasaheb Phalke Award in 2018 for his contributions to the arts. The Government of France honoured him with its highest civilian honour, Officer of the Legion of Honour, in 2007 for his exceptional career in the world of cinema and beyond.\n",
        "\n",
        "In addition to acting, Bachchan has worked as a playback singer, film producer, and television presenter. He has hosted several seasons of the game show Kaun Banega Crorepati, India's version of the game show franchise, Who Wants to Be a Millionaire?. He also entered politics for a time in the 1980s. Bachchan has also been involved in several humanitarian works and he is a leading brand endorser in India. Beyond the Indian subcontinent, he acquired a large overseas following of the South Asian diaspora, as well as others, in markets including Africa (South Africa, Eastern Africa, and Mauritius), the Middle East (especially Egypt and the UAE), the United Kingdom, Russia, Central Asia, the Caribbean (Guyana, Suriname, and Trinidad and Tobago), Oceania (Fiji, Australia, and New Zealand), Canada and the United States.[20] Bachchan was voted the \"greatest star of stage or screen\" in the BBC Your Millennium online poll in 1999.[21] In October 2003, Time magazine dubbed Bachchan the \"Star of the Millennium\".[22]\n",
        "\"\"\"\n",
        "\n",
        "# Generate the summary with number of sentences\n",
        "summary = summarizer.summarize(text, num_sentences=5)\n",
        "\n",
        "print(\"Summary:\")\n",
        "print(summary)\n",
        "\n",
        "# Generate the summary ratio of text\n",
        "summary = summarizer.summarize(text, ratio=0.9)\n",
        "\n",
        "print(\"Summary:\")\n",
        "print(summary)"
      ],
      "metadata": {
        "colab": {
          "base_uri": "https://localhost:8080/"
        },
        "id": "ObAicgQ81FPw",
        "outputId": "2868e16e-2094-4ce7-8899-43ba59762fc1"
      },
      "execution_count": 11,
      "outputs": [
        {
          "output_type": "stream",
          "name": "stderr",
          "text": [
            "[nltk_data] Downloading package punkt_tab to /root/nltk_data...\n",
            "[nltk_data]   Package punkt_tab is already up-to-date!\n"
          ]
        },
        {
          "output_type": "stream",
          "name": "stdout",
          "text": [
            "Summary:\n",
            "Amitabh Bachchan (pronounced [əmɪˈt̪ɑːbʱ ˈbətːʃən] ⓘ; born Amitabh Srivastava;[1] 11 October 1942[7]) is an Indian actor who works in Hindi cinema. He is often considered one of the greatest, most accomplished and commercially successful actors in the history of Indian cinema. [8] With a cinematic career spanning over five decades, he has played pivotal roles in over 200 films. Bachchan is often hailed as the Shahenshah of Bollywood, Sadi Ke Mahanayak (translated as \"Greatest actor of the century\" in Hindi), Star of the Millennium, or simply Big B. [9] His dominance in the Indian film industry during the 1970s–80s led the French director François Truffaut to describe it as a \"one-man industry\".\n",
            "Summary:\n",
            "Amitabh Bachchan (pronounced [əmɪˈt̪ɑːbʱ ˈbətːʃən] ⓘ; born Amitabh Srivastava;[1] 11 October 1942[7]) is an Indian actor who works in Hindi cinema. He is often considered one of the greatest, most accomplished and commercially successful actors in the history of Indian cinema. [8] With a cinematic career spanning over five decades, he has played pivotal roles in over 200 films. Bachchan is often hailed as the Shahenshah of Bollywood, Sadi Ke Mahanayak (translated as \"Greatest actor of the century\" in Hindi), Star of the Millennium, or simply Big B. [9] His dominance in the Indian film industry during the 1970s–80s led the French director François Truffaut to describe it as a \"one-man industry\". [10] He is a recipient of several accolades including six National Film Awards and sixteen Filmfare Awards. Amitabh Bachchan was born in 1942 in Allahabad (now Prayagraj) to the Hindi poet Harivansh Rai Bachchan and his wife, the social activist Teji Bachchan. He was educated at Sherwood College, Nainital, and Kirori Mal College, University of Delhi. His film career started in 1969 as a voice narrator in Mrinal Sen's film Bhuvan Shome. He first gained popularity in the early-1970s for films, such as Anand, Zanjeer and Roti Kapada Aur Makaan, and achieved greater stardom in later years, being dubbed India's \"Angry Young Man\" for several of his on-screen roles in Hindi films. [11][12] He consistently starred in top–grossing Indian films from the mid-1970s to the 1980s, such as Deewaar, Sholay, Kabhi Kabhie, Hera Pheri, Amar Akbar Anthony, Parvarish, Kasme Vaade, Don, Trishul, Muqaddar Ka Sikandar, Suhaag, Dostana, Naseeb, Laawaris, Namak Halaal, Andhaa Kaanoon, Coolie, Sharaabi and Mard,[13][14] as well as some of his most acclaimed performances, include Namak Haraam, Abhimaan, Majboor, Mili, Chupke Chupke, Do Anjaane, Kaala Patthar, Shaan, Silsila, Yaarana, Kaalia, Shakti, Aakhree Raasta, Shahenshah and Agneepath. [15][16] After taking a break from acting in the 1990s, his resurgence was marked in 2000 with Mohabbatein. [17] Since then he starred in several successful and acclaimed films like Kabhi Khushi Kabhie Gham, Aankhen, Baghban, Khakee, Black, Bunty Aur Babli, Sarkar, Kabhi Alvida Naa Kehna, Bhoothnath, Cheeni Kum, Paa, Piku, Pink, Badla, Brahmāstra: Part One – Shiva and Kalki 2898 AD. [18] For Piku, he won his fourth National Film Award for Best Actor, making him the only actor to do so. Bachchan also made an appearance in a Hollywood film, The Great Gatsby (2013), in which he played a non-Indian Jewish character. [19]\n",
            "\n",
            "Bachchan has won numerous accolades in his career, including record four National Film Awards in Best Actor category and many awards at international film festivals and award ceremonies. He has won sixteen Filmfare Awards and is the most nominated performer in any major acting category at Filmfare with 34 nominations in Best Actor and 42 nominations overall. The Government of India honoured him with the Padma Shri in 1984, the Padma Bhushan in 2001, the Padma Vibhushan in 2015, and India's highest award in the field of cinema, the Dadasaheb Phalke Award in 2018 for his contributions to the arts. The Government of France honoured him with its highest civilian honour, Officer of the Legion of Honour, in 2007 for his exceptional career in the world of cinema and beyond. In addition to acting, Bachchan has worked as a playback singer, film producer, and television presenter. He has hosted several seasons of the game show Kaun Banega Crorepati, India's version of the game show franchise, Who Wants to Be a Millionaire?. He also entered politics for a time in the 1980s. Bachchan has also been involved in several humanitarian works and he is a leading brand endorser in India. Beyond the Indian subcontinent, he acquired a large overseas following of the South Asian diaspora, as well as others, in markets including Africa (South Africa, Eastern Africa, and Mauritius), the Middle East (especially Egypt and the UAE), the United Kingdom, Russia, Central Asia, the Caribbean (Guyana, Suriname, and Trinidad and Tobago), Oceania (Fiji, Australia, and New Zealand), Canada and the United States.\n"
          ]
        }
      ]
    },
    {
      "cell_type": "code",
      "source": [
        "from MultiExtractiveSummarizer import MultiExtractiveSummarizer\n",
        "\n",
        "# Initialize the summarizer with TF-IDF and K-means\n",
        "summarizer = MultiExtractiveSummarizer(embedding_method='tfidf', summarization_method='kmeans')\n",
        "\n",
        "# Example text document\n",
        "text = \"\"\"\n",
        "Amitabh Bachchan (pronounced [əmɪˈt̪ɑːbʱ ˈbətːʃən] ⓘ; born Amitabh Srivastava;[1] 11 October 1942[7]) is an Indian actor who works in Hindi cinema. He is often considered one of the greatest, most accomplished and commercially successful actors in the history of Indian cinema.[8] With a cinematic career spanning over five decades, he has played pivotal roles in over 200 films. Bachchan is often hailed as the Shahenshah of Bollywood, Sadi Ke Mahanayak (translated as \"Greatest actor of the century\" in Hindi), Star of the Millennium, or simply Big B.[9] His dominance in the Indian film industry during the 1970s–80s led the French director François Truffaut to describe it as a \"one-man industry\".[10] He is a recipient of several accolades including six National Film Awards and sixteen Filmfare Awards.\n",
        "\n",
        "Amitabh Bachchan\n",
        "\n",
        "Bachchan was born in 1942 in Allahabad (now Prayagraj) to the Hindi poet Harivansh Rai Bachchan and his wife, the social activist Teji Bachchan. He was educated at Sherwood College, Nainital, and Kirori Mal College, University of Delhi. His film career started in 1969 as a voice narrator in Mrinal Sen's film Bhuvan Shome. He first gained popularity in the early-1970s for films, such as Anand, Zanjeer and Roti Kapada Aur Makaan, and achieved greater stardom in later years, being dubbed India's \"Angry Young Man\" for several of his on-screen roles in Hindi films.[11][12] He consistently starred in top–grossing Indian films from the mid-1970s to the 1980s, such as Deewaar, Sholay, Kabhi Kabhie, Hera Pheri, Amar Akbar Anthony, Parvarish, Kasme Vaade, Don, Trishul, Muqaddar Ka Sikandar, Suhaag, Dostana, Naseeb, Laawaris, Namak Halaal, Andhaa Kaanoon, Coolie, Sharaabi and Mard,[13][14] as well as some of his most acclaimed performances, include Namak Haraam, Abhimaan, Majboor, Mili, Chupke Chupke, Do Anjaane, Kaala Patthar, Shaan, Silsila, Yaarana, Kaalia, Shakti, Aakhree Raasta, Shahenshah and Agneepath.[15][16] After taking a break from acting in the 1990s, his resurgence was marked in 2000 with Mohabbatein.[17] Since then he starred in several successful and acclaimed films like Kabhi Khushi Kabhie Gham, Aankhen, Baghban, Khakee, Black, Bunty Aur Babli, Sarkar, Kabhi Alvida Naa Kehna, Bhoothnath, Cheeni Kum, Paa, Piku, Pink, Badla, Brahmāstra: Part One – Shiva and Kalki 2898 AD.[18] For Piku, he won his fourth National Film Award for Best Actor, making him the only actor to do so. Bachchan also made an appearance in a Hollywood film, The Great Gatsby (2013), in which he played a non-Indian Jewish character.[19]\n",
        "\n",
        "Bachchan has won numerous accolades in his career, including record four National Film Awards in Best Actor category and many awards at international film festivals and award ceremonies. He has won sixteen Filmfare Awards and is the most nominated performer in any major acting category at Filmfare with 34 nominations in Best Actor and 42 nominations overall. The Government of India honoured him with the Padma Shri in 1984, the Padma Bhushan in 2001, the Padma Vibhushan in 2015, and India's highest award in the field of cinema, the Dadasaheb Phalke Award in 2018 for his contributions to the arts. The Government of France honoured him with its highest civilian honour, Officer of the Legion of Honour, in 2007 for his exceptional career in the world of cinema and beyond.\n",
        "\n",
        "In addition to acting, Bachchan has worked as a playback singer, film producer, and television presenter. He has hosted several seasons of the game show Kaun Banega Crorepati, India's version of the game show franchise, Who Wants to Be a Millionaire?. He also entered politics for a time in the 1980s. Bachchan has also been involved in several humanitarian works and he is a leading brand endorser in India. Beyond the Indian subcontinent, he acquired a large overseas following of the South Asian diaspora, as well as others, in markets including Africa (South Africa, Eastern Africa, and Mauritius), the Middle East (especially Egypt and the UAE), the United Kingdom, Russia, Central Asia, the Caribbean (Guyana, Suriname, and Trinidad and Tobago), Oceania (Fiji, Australia, and New Zealand), Canada and the United States.[20] Bachchan was voted the \"greatest star of stage or screen\" in the BBC Your Millennium online poll in 1999.[21] In October 2003, Time magazine dubbed Bachchan the \"Star of the Millennium\".[\n",
        "\"\"\"\n",
        "\n",
        "# Generate the summary\n",
        "summary = summarizer.summarize(text, num_sentences=5)\n",
        "\n",
        "print(\"Summary:\")\n",
        "print(summary)"
      ],
      "metadata": {
        "colab": {
          "base_uri": "https://localhost:8080/"
        },
        "id": "TsK6GsnA1FEH",
        "outputId": "906d056e-1b72-44a1-f680-a8e57911978d"
      },
      "execution_count": 12,
      "outputs": [
        {
          "output_type": "stream",
          "name": "stdout",
          "text": [
            "Summary:\n",
            "He is often considered one of the greatest, most accomplished and commercially successful actors in the history of Indian cinema. [17] Since then he starred in several successful and acclaimed films like Kabhi Khushi Kabhie Gham, Aankhen, Baghban, Khakee, Black, Bunty Aur Babli, Sarkar, Kabhi Alvida Naa Kehna, Bhoothnath, Cheeni Kum, Paa, Piku, Pink, Badla, Brahmāstra: Part One – Shiva and Kalki 2898 AD. [19]\n",
            "\n",
            "Bachchan has won numerous accolades in his career, including record four National Film Awards in Best Actor category and many awards at international film festivals and award ceremonies. [21] In October 2003, Time magazine dubbed Bachchan the \"Star of the Millennium\". [\n"
          ]
        }
      ]
    },
    {
      "cell_type": "markdown",
      "source": [],
      "metadata": {
        "id": "5BNvShSn0_85"
      }
    }
  ]
}